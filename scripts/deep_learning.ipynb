{
 "cells": [
  {
   "cell_type": "markdown",
   "id": "3d2c37e9",
   "metadata": {
    "id": "3d2c37e9"
   },
   "source": [
    "# Deep learning "
   ]
  },
  {
   "cell_type": "markdown",
   "id": "b363cab2",
   "metadata": {},
   "source": [
    " \n",
    "In this step, similarly to step 3, data from the dataset for multivariate classification will be used to develop Deep Learning (DL) models to predict subclasses of transferases (class 2). \n",
    "\n",
    "The Deep Learning model development methods used come from the package tensorflow. keras. Where training, testing and validation data are introduced. \n",
    "\n",
    "In the development of deep learning models, methods verified in the literature that aim to classify enzymes were used. \n",
    "These methods are:\n",
    "- DNN – “Dense Neural Networks” is a model of supervised deep learning that consists of “feedforward” neural networks, this method being one of the simplest of deep learning."
   ]
  },
  {
   "cell_type": "markdown",
   "id": "54141d51",
   "metadata": {},
   "source": [
    "### Imports"
   ]
  },
  {
   "cell_type": "code",
   "execution_count": 4,
   "id": "0c7ad83c",
   "metadata": {
    "id": "0c7ad83c"
   },
   "outputs": [],
   "source": [
    "import pandas as pd\n",
    "import numpy as np\n",
    "from collections import Counter\n",
    "import matplotlib.pyplot as plt\n",
    "\n",
    "from tensorflow.keras.models import Sequential\n",
    "from tensorflow.keras.layers import Dense, Dropout, Input\n",
    "from tensorflow.keras.wrappers.scikit_learn import KerasClassifier\n",
    "from tensorflow.keras import regularizers\n",
    "from tensorflow.keras.layers import BatchNormalization\n",
    "from tensorflow.keras.callbacks import ReduceLROnPlateau, EarlyStopping\n",
    "import tensorflow\n",
    "\n",
    "import warnings\n",
    "warnings.filterwarnings(\"ignore\")"
   ]
  },
  {
   "cell_type": "markdown",
   "id": "365bcdfb",
   "metadata": {
    "id": "365bcdfb"
   },
   "source": [
    "## Family descriptors with dense neural networks (DNN)\n",
    "\n",
    "Proteins are generally composed of one or more functional regions, commonly termed domains. Different combinations of domains give rise to the diverse range of proteins found in nature. The identification of domains that occur within proteins can therefore provide insights into their function.\n",
    "\n",
    "- Pfam: protein domain database UniProtKB. Widely used database of protein families, each represented by multiple sequence alignments and hidden Markov models (HMMs).\n",
    "\n",
    "These descriptors are still dependent of similarities between sequences.\n",
    "\n",
    "Goal:\n",
    "\n",
    "- Generate features based with Pfam\n",
    "\n",
    "Workflow: \n",
    "\n",
    "- Binarize PFAM domains \n",
    "- Binarize multiclass labels\n",
    "- Apply DNN "
   ]
  },
  {
   "cell_type": "markdown",
   "id": "b369f62e",
   "metadata": {
    "id": "b369f62e"
   },
   "source": [
    "### Dataset upload\n",
    "\n",
    "**data_feature_x_new** - dataset we obtained after doing the feature selection in the preprocessing \n",
    "\n",
    "**data_feature_y** - dataset containing the class 'ec_lev'\n",
    "\n",
    "**data_new** - original dataset with only data from class 2"
   ]
  },
  {
   "cell_type": "code",
   "execution_count": 5,
   "id": "e945cfd7",
   "metadata": {
    "id": "e945cfd7"
   },
   "outputs": [],
   "source": [
    "data_feature_x_new = pd.read_csv('data_feature_x_new.csv')\n",
    "data_feature_y = pd.read_csv('data_feature_y.csv')\n",
    "data_new = pd.read_csv('data_new.csv')"
   ]
  },
  {
   "cell_type": "code",
   "execution_count": 6,
   "id": "b8f68b62",
   "metadata": {
    "colab": {
     "base_uri": "https://localhost:8080/",
     "height": 974
    },
    "id": "b8f68b62",
    "outputId": "27ec3ad7-34ec-4504-8c08-6b4c1dcd5e1a"
   },
   "outputs": [
    {
     "data": {
      "text/html": [
       "<div>\n",
       "<style scoped>\n",
       "    .dataframe tbody tr th:only-of-type {\n",
       "        vertical-align: middle;\n",
       "    }\n",
       "\n",
       "    .dataframe tbody tr th {\n",
       "        vertical-align: top;\n",
       "    }\n",
       "\n",
       "    .dataframe thead th {\n",
       "        text-align: right;\n",
       "    }\n",
       "</style>\n",
       "<table border=\"1\" class=\"dataframe\">\n",
       "  <thead>\n",
       "    <tr style=\"text-align: right;\">\n",
       "      <th></th>\n",
       "      <th>level_0</th>\n",
       "      <th>index</th>\n",
       "      <th>uniref_90</th>\n",
       "      <th>Entry</th>\n",
       "      <th>Protein names</th>\n",
       "      <th>ec_number</th>\n",
       "      <th>sequence</th>\n",
       "      <th>pfam</th>\n",
       "      <th>supfam</th>\n",
       "      <th>go</th>\n",
       "      <th>ec_lev</th>\n",
       "    </tr>\n",
       "  </thead>\n",
       "  <tbody>\n",
       "    <tr>\n",
       "      <th>0</th>\n",
       "      <td>36250</td>\n",
       "      <td>109011</td>\n",
       "      <td>P0CN83</td>\n",
       "      <td>P0CN83</td>\n",
       "      <td>1,4-alpha-glucan-branching enzyme (EC 2.4.1.18...</td>\n",
       "      <td>2.4.1.18</td>\n",
       "      <td>MTAVSLSDGTAVLKTDPWLEPFSGALRERYAAYQKQRTIIEEHEGG...</td>\n",
       "      <td>PF00128;PF02806;PF02922;</td>\n",
       "      <td>SSF51445;SSF81296;</td>\n",
       "      <td>GO:0003844; GO:0004553; GO:0005978; GO:0043169...</td>\n",
       "      <td>4</td>\n",
       "    </tr>\n",
       "    <tr>\n",
       "      <th>1</th>\n",
       "      <td>36790</td>\n",
       "      <td>110453</td>\n",
       "      <td>A5VXJ2</td>\n",
       "      <td>A5VXJ2</td>\n",
       "      <td>Thiosulfate sulfurtransferase GlpE (EC 2.8.1.1)</td>\n",
       "      <td>2.8.1.1</td>\n",
       "      <td>MSEFKRIPPEQALELRKKEGAVVVDIRDPQAFAAGHITGARHLDNH...</td>\n",
       "      <td>PF00581;</td>\n",
       "      <td>SSF52821;</td>\n",
       "      <td>GO:0004792; GO:0005737; GO:0006071</td>\n",
       "      <td>8</td>\n",
       "    </tr>\n",
       "    <tr>\n",
       "      <th>2</th>\n",
       "      <td>31656</td>\n",
       "      <td>89041</td>\n",
       "      <td>A9HKH7</td>\n",
       "      <td>A9HKH7</td>\n",
       "      <td>Protoheme IX farnesyltransferase (EC 2.5.1.141...</td>\n",
       "      <td>2.5.1.141</td>\n",
       "      <td>MSGAATTEGAVTRFDAALVGTEARDWFALLKPRVISLVVFTGAAGL...</td>\n",
       "      <td>PF01040;</td>\n",
       "      <td>NaN</td>\n",
       "      <td>GO:0005886; GO:0008495; GO:0016021; GO:0048034</td>\n",
       "      <td>5</td>\n",
       "    </tr>\n",
       "    <tr>\n",
       "      <th>3</th>\n",
       "      <td>37795</td>\n",
       "      <td>112939</td>\n",
       "      <td>B4RV95</td>\n",
       "      <td>B4RV95</td>\n",
       "      <td>Serine hydroxymethyltransferase (SHMT) (Serine...</td>\n",
       "      <td>2.1.2.1</td>\n",
       "      <td>MFSREMNIADFDPELANAMANEVERQEHHIELIASENYCSPRVMEA...</td>\n",
       "      <td>PF00464;</td>\n",
       "      <td>SSF53383;</td>\n",
       "      <td>GO:0004372; GO:0005737; GO:0019264; GO:0030170...</td>\n",
       "      <td>1</td>\n",
       "    </tr>\n",
       "    <tr>\n",
       "      <th>4</th>\n",
       "      <td>4335</td>\n",
       "      <td>12074</td>\n",
       "      <td>Q55848</td>\n",
       "      <td>Q55848</td>\n",
       "      <td>Ribose-phosphate pyrophosphokinase (RPPK) (EC ...</td>\n",
       "      <td>2.7.6.1</td>\n",
       "      <td>MSAVSRIATLTRQSMLSALSDNNRLRLFSGSSNPSLSQEVARYLGM...</td>\n",
       "      <td>PF14572;PF13793;</td>\n",
       "      <td>SSF53271;</td>\n",
       "      <td>GO:0000287; GO:0002189; GO:0004749; GO:0005524...</td>\n",
       "      <td>7</td>\n",
       "    </tr>\n",
       "    <tr>\n",
       "      <th>...</th>\n",
       "      <td>...</td>\n",
       "      <td>...</td>\n",
       "      <td>...</td>\n",
       "      <td>...</td>\n",
       "      <td>...</td>\n",
       "      <td>...</td>\n",
       "      <td>...</td>\n",
       "      <td>...</td>\n",
       "      <td>...</td>\n",
       "      <td>...</td>\n",
       "      <td>...</td>\n",
       "    </tr>\n",
       "    <tr>\n",
       "      <th>13399</th>\n",
       "      <td>19070</td>\n",
       "      <td>54601</td>\n",
       "      <td>A6WWW9</td>\n",
       "      <td>A6WWW9</td>\n",
       "      <td>tRNA (guanine-N(7)-)-methyltransferase (EC 2.1...</td>\n",
       "      <td>2.1.1.33</td>\n",
       "      <td>MTEESHPLRGAGNFFGRRHGKPLRSHQKNLFEDLLPRLKINVENPA...</td>\n",
       "      <td>PF02390;</td>\n",
       "      <td>SSF53335;</td>\n",
       "      <td>GO:0008176</td>\n",
       "      <td>1</td>\n",
       "    </tr>\n",
       "    <tr>\n",
       "      <th>13400</th>\n",
       "      <td>28665</td>\n",
       "      <td>82072</td>\n",
       "      <td>Q16880</td>\n",
       "      <td>Q16880</td>\n",
       "      <td>2-hydroxyacylsphingosine 1-beta-galactosyltran...</td>\n",
       "      <td>2.4.1.47</td>\n",
       "      <td>MKSYTPYFILLWSAVGIAKAAKIIIVPPIMFESHMYIFKTLASALH...</td>\n",
       "      <td>PF00201;</td>\n",
       "      <td>NaN</td>\n",
       "      <td>GO:0002175; GO:0003851; GO:0005886; GO:0006682...</td>\n",
       "      <td>4</td>\n",
       "    </tr>\n",
       "    <tr>\n",
       "      <th>13401</th>\n",
       "      <td>17995</td>\n",
       "      <td>52095</td>\n",
       "      <td>B0TS89</td>\n",
       "      <td>B0TS89</td>\n",
       "      <td>Thiazole synthase (EC 2.8.1.10)</td>\n",
       "      <td>2.8.1.10</td>\n",
       "      <td>MLTIAQHQFESRLFTGTGKFAASEIMLTAIQASQSQLVTLAIKRLD...</td>\n",
       "      <td>PF05690;</td>\n",
       "      <td>NaN</td>\n",
       "      <td>GO:0005737; GO:0009228; GO:0009229; GO:0016783</td>\n",
       "      <td>8</td>\n",
       "    </tr>\n",
       "    <tr>\n",
       "      <th>13402</th>\n",
       "      <td>37224</td>\n",
       "      <td>111378</td>\n",
       "      <td>Q72CT0</td>\n",
       "      <td>Q72CT0</td>\n",
       "      <td>Serine hydroxymethyltransferase (SHMT) (Serine...</td>\n",
       "      <td>2.1.2.1</td>\n",
       "      <td>MDELLLQDPEVGKAIILEIERQTGKLELIASENFVSAAVRQAQGSV...</td>\n",
       "      <td>PF00464;</td>\n",
       "      <td>SSF53383;</td>\n",
       "      <td>GO:0004372; GO:0005737; GO:0019264; GO:0030170...</td>\n",
       "      <td>1</td>\n",
       "    </tr>\n",
       "    <tr>\n",
       "      <th>13403</th>\n",
       "      <td>27644</td>\n",
       "      <td>78843</td>\n",
       "      <td>Q5LN74</td>\n",
       "      <td>Q5LN74</td>\n",
       "      <td>Biotin synthase (EC 2.8.1.6)</td>\n",
       "      <td>2.8.1.6</td>\n",
       "      <td>MAEAIRSDWSVDEVEALLRLPLLDLVGRANGVHRAHHAPDDIQKAS...</td>\n",
       "      <td>PF06968;PF04055;</td>\n",
       "      <td>NaN</td>\n",
       "      <td>GO:0004076; GO:0005506; GO:0009102; GO:0051537...</td>\n",
       "      <td>8</td>\n",
       "    </tr>\n",
       "  </tbody>\n",
       "</table>\n",
       "<p>13404 rows × 11 columns</p>\n",
       "</div>"
      ],
      "text/plain": [
       "       level_0   index uniref_90   Entry  \\\n",
       "0        36250  109011    P0CN83  P0CN83   \n",
       "1        36790  110453    A5VXJ2  A5VXJ2   \n",
       "2        31656   89041    A9HKH7  A9HKH7   \n",
       "3        37795  112939    B4RV95  B4RV95   \n",
       "4         4335   12074    Q55848  Q55848   \n",
       "...        ...     ...       ...     ...   \n",
       "13399    19070   54601    A6WWW9  A6WWW9   \n",
       "13400    28665   82072    Q16880  Q16880   \n",
       "13401    17995   52095    B0TS89  B0TS89   \n",
       "13402    37224  111378    Q72CT0  Q72CT0   \n",
       "13403    27644   78843    Q5LN74  Q5LN74   \n",
       "\n",
       "                                           Protein names  ec_number  \\\n",
       "0      1,4-alpha-glucan-branching enzyme (EC 2.4.1.18...   2.4.1.18   \n",
       "1        Thiosulfate sulfurtransferase GlpE (EC 2.8.1.1)    2.8.1.1   \n",
       "2      Protoheme IX farnesyltransferase (EC 2.5.1.141...  2.5.1.141   \n",
       "3      Serine hydroxymethyltransferase (SHMT) (Serine...    2.1.2.1   \n",
       "4      Ribose-phosphate pyrophosphokinase (RPPK) (EC ...    2.7.6.1   \n",
       "...                                                  ...        ...   \n",
       "13399  tRNA (guanine-N(7)-)-methyltransferase (EC 2.1...   2.1.1.33   \n",
       "13400  2-hydroxyacylsphingosine 1-beta-galactosyltran...   2.4.1.47   \n",
       "13401                    Thiazole synthase (EC 2.8.1.10)   2.8.1.10   \n",
       "13402  Serine hydroxymethyltransferase (SHMT) (Serine...    2.1.2.1   \n",
       "13403                       Biotin synthase (EC 2.8.1.6)    2.8.1.6   \n",
       "\n",
       "                                                sequence  \\\n",
       "0      MTAVSLSDGTAVLKTDPWLEPFSGALRERYAAYQKQRTIIEEHEGG...   \n",
       "1      MSEFKRIPPEQALELRKKEGAVVVDIRDPQAFAAGHITGARHLDNH...   \n",
       "2      MSGAATTEGAVTRFDAALVGTEARDWFALLKPRVISLVVFTGAAGL...   \n",
       "3      MFSREMNIADFDPELANAMANEVERQEHHIELIASENYCSPRVMEA...   \n",
       "4      MSAVSRIATLTRQSMLSALSDNNRLRLFSGSSNPSLSQEVARYLGM...   \n",
       "...                                                  ...   \n",
       "13399  MTEESHPLRGAGNFFGRRHGKPLRSHQKNLFEDLLPRLKINVENPA...   \n",
       "13400  MKSYTPYFILLWSAVGIAKAAKIIIVPPIMFESHMYIFKTLASALH...   \n",
       "13401  MLTIAQHQFESRLFTGTGKFAASEIMLTAIQASQSQLVTLAIKRLD...   \n",
       "13402  MDELLLQDPEVGKAIILEIERQTGKLELIASENFVSAAVRQAQGSV...   \n",
       "13403  MAEAIRSDWSVDEVEALLRLPLLDLVGRANGVHRAHHAPDDIQKAS...   \n",
       "\n",
       "                           pfam              supfam  \\\n",
       "0      PF00128;PF02806;PF02922;  SSF51445;SSF81296;   \n",
       "1                      PF00581;           SSF52821;   \n",
       "2                      PF01040;                 NaN   \n",
       "3                      PF00464;           SSF53383;   \n",
       "4              PF14572;PF13793;           SSF53271;   \n",
       "...                         ...                 ...   \n",
       "13399                  PF02390;           SSF53335;   \n",
       "13400                  PF00201;                 NaN   \n",
       "13401                  PF05690;                 NaN   \n",
       "13402                  PF00464;           SSF53383;   \n",
       "13403          PF06968;PF04055;                 NaN   \n",
       "\n",
       "                                                      go  ec_lev  \n",
       "0      GO:0003844; GO:0004553; GO:0005978; GO:0043169...       4  \n",
       "1                     GO:0004792; GO:0005737; GO:0006071       8  \n",
       "2         GO:0005886; GO:0008495; GO:0016021; GO:0048034       5  \n",
       "3      GO:0004372; GO:0005737; GO:0019264; GO:0030170...       1  \n",
       "4      GO:0000287; GO:0002189; GO:0004749; GO:0005524...       7  \n",
       "...                                                  ...     ...  \n",
       "13399                                         GO:0008176       1  \n",
       "13400  GO:0002175; GO:0003851; GO:0005886; GO:0006682...       4  \n",
       "13401     GO:0005737; GO:0009228; GO:0009229; GO:0016783       8  \n",
       "13402  GO:0004372; GO:0005737; GO:0019264; GO:0030170...       1  \n",
       "13403  GO:0004076; GO:0005506; GO:0009102; GO:0051537...       8  \n",
       "\n",
       "[13404 rows x 11 columns]"
      ]
     },
     "execution_count": 6,
     "metadata": {},
     "output_type": "execute_result"
    }
   ],
   "source": [
    "data_new"
   ]
  },
  {
   "cell_type": "markdown",
   "id": "9774401a",
   "metadata": {},
   "source": [
    "Get the PFAM domains from the dataset. "
   ]
  },
  {
   "cell_type": "code",
   "execution_count": 7,
   "id": "3699d94b",
   "metadata": {
    "colab": {
     "base_uri": "https://localhost:8080/"
    },
    "id": "3699d94b",
    "outputId": "cdf572c6-0cd2-4e46-ddda-d5de9781b3ad"
   },
   "outputs": [
    {
     "data": {
      "text/plain": [
       "0        PF00128;PF02806;PF02922;\n",
       "1                        PF00581;\n",
       "2                        PF01040;\n",
       "3                        PF00464;\n",
       "4                PF14572;PF13793;\n",
       "                   ...           \n",
       "13399                    PF02390;\n",
       "13400                    PF00201;\n",
       "13401                    PF05690;\n",
       "13402                    PF00464;\n",
       "13403            PF06968;PF04055;\n",
       "Name: pfam, Length: 13404, dtype: object"
      ]
     },
     "execution_count": 7,
     "metadata": {},
     "output_type": "execute_result"
    }
   ],
   "source": [
    "fam = data_new['pfam']  \n",
    "fam"
   ]
  },
  {
   "cell_type": "markdown",
   "id": "ca10736d",
   "metadata": {
    "id": "ca10736d"
   },
   "source": [
    "Binarize fam domains."
   ]
  },
  {
   "cell_type": "code",
   "execution_count": 8,
   "id": "d8b3ff67",
   "metadata": {
    "colab": {
     "base_uri": "https://localhost:8080/"
    },
    "id": "d8b3ff67",
    "outputId": "fdd5784e-f80f-4714-ba7f-ed241699f86f"
   },
   "outputs": [
    {
     "name": "stdout",
     "output_type": "stream",
     "text": [
      "['PF00009' 'PF00010' 'PF00013' ... 'PF18706' 'PF18755' 'PF18836']\n",
      "number classes 1141\n",
      "(13404, 1141)\n",
      "[[0 0 0 ... 0 0 0]\n",
      " [0 0 0 ... 0 0 0]\n",
      " [0 0 0 ... 0 0 0]\n",
      " ...\n",
      " [0 0 0 ... 0 0 0]\n",
      " [0 0 0 ... 0 0 0]\n",
      " [0 0 0 ... 0 0 0]]\n"
     ]
    }
   ],
   "source": [
    "from sklearn.preprocessing._label import MultiLabelBinarizer\n",
    "\n",
    "fam = [i.split(';') for i in data_new['pfam']] # split 2 Pfam \n",
    "fam = [list(filter(None, x)) for x in fam]  # remove '' empty string (because last ;)\n",
    "\n",
    "# hot encoding vector of Pfam domains\n",
    "mlb = MultiLabelBinarizer()\n",
    "fam_ho = mlb.fit_transform(fam)\n",
    "classes = mlb.classes_\n",
    "print(classes)\n",
    "print('number classes', len(classes))\n",
    "print(fam_ho.shape)\n",
    "print(fam_ho)"
   ]
  },
  {
   "cell_type": "markdown",
   "id": "d415679a",
   "metadata": {
    "id": "d415679a"
   },
   "source": [
    "Binarize labels."
   ]
  },
  {
   "cell_type": "code",
   "execution_count": 9,
   "id": "3aacf5f0",
   "metadata": {
    "colab": {
     "base_uri": "https://localhost:8080/"
    },
    "id": "3aacf5f0",
    "outputId": "7d476ea6-8e93-47ce-97d3-82d7d7d0fe3b"
   },
   "outputs": [
    {
     "name": "stdout",
     "output_type": "stream",
     "text": [
      "['1' '3' '4' '5' '6' '7' '8']\n",
      "[[0 0 1 ... 0 0 0]\n",
      " [0 0 0 ... 0 0 1]\n",
      " [0 0 0 ... 0 0 0]\n",
      " ...\n",
      " [0 0 0 ... 0 0 1]\n",
      " [1 0 0 ... 0 0 0]\n",
      " [0 0 0 ... 0 0 1]]\n"
     ]
    }
   ],
   "source": [
    "from sklearn.preprocessing import MultiLabelBinarizer\n",
    "y=data_new['ec_lev'].astype(str)\n",
    "\n",
    "mlb = MultiLabelBinarizer()\n",
    "y_new = mlb.fit_transform(y)\n",
    "print(mlb.classes_)\n",
    "print(y_new)"
   ]
  },
  {
   "cell_type": "markdown",
   "id": "d921fca5",
   "metadata": {},
   "source": [
    "Data division in train and test was performed using the **train_test_split** method of the sklearn package. The division of the dataset was made using 70% for the training phase and 30% for the test phase, with a random_state of 32. After dividing between training and testing, 30% of the training dataset was extracted to be used as a validation dataset."
   ]
  },
  {
   "cell_type": "code",
   "execution_count": 10,
   "id": "94dde336",
   "metadata": {
    "colab": {
     "base_uri": "https://localhost:8080/"
    },
    "id": "94dde336",
    "outputId": "2ca05add-f811-43de-dd28-be54fc789ec7"
   },
   "outputs": [
    {
     "name": "stdout",
     "output_type": "stream",
     "text": [
      "Train:  (9382, 1141) (9382, 7)\n",
      "Test:  (4022, 1141) (4022, 7)\n"
     ]
    }
   ],
   "source": [
    "from sklearn.model_selection import train_test_split\n",
    "\n",
    "X_train, X_test, y_train, y_test = train_test_split(fam_ho, y_new, test_size = 0.3, random_state = 32, stratify = y)\n",
    "\n",
    "print('Train: ', X_train.shape, y_train.shape)\n",
    "print('Test: ', X_test.shape, y_test.shape)"
   ]
  },
  {
   "cell_type": "markdown",
   "id": "52d2731e",
   "metadata": {},
   "source": [
    "GridSearch to optimize the hyperparameters."
   ]
  },
  {
   "cell_type": "code",
   "execution_count": 11,
   "id": "e6a2b53b",
   "metadata": {
    "id": "e6a2b53b"
   },
   "outputs": [],
   "source": [
    "import numpy as np\n",
    "from sklearn.preprocessing import StandardScaler\n",
    "from sklearn.neural_network import MLPClassifier\n",
    "from sklearn.model_selection import train_test_split, GridSearchCV\n",
    "from sklearn.pipeline import Pipeline\n",
    "from sklearn.metrics import accuracy_score\n",
    "\n",
    "model = Pipeline([\n",
    "                  ('scaler',StandardScaler()),\n",
    "                  ('model',MLPClassifier(random_state = 0))])\n",
    "\n",
    "search = GridSearchCV(model,\n",
    "                      {'model__hidden_layer_sizes':[(x,) for x in np.arange(5, 100, 2)]},\n",
    "                      cv = 5, scoring = \"accuracy\", verbose = 3, n_jobs = -1)"
   ]
  },
  {
   "cell_type": "markdown",
   "id": "a740771a",
   "metadata": {},
   "source": [
    "Train the model with the best parameters obtained from the gridsearch."
   ]
  },
  {
   "cell_type": "code",
   "execution_count": 12,
   "id": "5dec2de3",
   "metadata": {
    "colab": {
     "base_uri": "https://localhost:8080/",
     "height": 329
    },
    "id": "5dec2de3",
    "outputId": "3c60fd4f-75b7-4174-e894-89a5909d1407"
   },
   "outputs": [
    {
     "name": "stdout",
     "output_type": "stream",
     "text": [
      "Fitting 5 folds for each of 48 candidates, totalling 240 fits\n"
     ]
    },
    {
     "data": {
      "text/html": [
       "<style>#sk-container-id-1 {color: black;background-color: white;}#sk-container-id-1 pre{padding: 0;}#sk-container-id-1 div.sk-toggleable {background-color: white;}#sk-container-id-1 label.sk-toggleable__label {cursor: pointer;display: block;width: 100%;margin-bottom: 0;padding: 0.3em;box-sizing: border-box;text-align: center;}#sk-container-id-1 label.sk-toggleable__label-arrow:before {content: \"▸\";float: left;margin-right: 0.25em;color: #696969;}#sk-container-id-1 label.sk-toggleable__label-arrow:hover:before {color: black;}#sk-container-id-1 div.sk-estimator:hover label.sk-toggleable__label-arrow:before {color: black;}#sk-container-id-1 div.sk-toggleable__content {max-height: 0;max-width: 0;overflow: hidden;text-align: left;background-color: #f0f8ff;}#sk-container-id-1 div.sk-toggleable__content pre {margin: 0.2em;color: black;border-radius: 0.25em;background-color: #f0f8ff;}#sk-container-id-1 input.sk-toggleable__control:checked~div.sk-toggleable__content {max-height: 200px;max-width: 100%;overflow: auto;}#sk-container-id-1 input.sk-toggleable__control:checked~label.sk-toggleable__label-arrow:before {content: \"▾\";}#sk-container-id-1 div.sk-estimator input.sk-toggleable__control:checked~label.sk-toggleable__label {background-color: #d4ebff;}#sk-container-id-1 div.sk-label input.sk-toggleable__control:checked~label.sk-toggleable__label {background-color: #d4ebff;}#sk-container-id-1 input.sk-hidden--visually {border: 0;clip: rect(1px 1px 1px 1px);clip: rect(1px, 1px, 1px, 1px);height: 1px;margin: -1px;overflow: hidden;padding: 0;position: absolute;width: 1px;}#sk-container-id-1 div.sk-estimator {font-family: monospace;background-color: #f0f8ff;border: 1px dotted black;border-radius: 0.25em;box-sizing: border-box;margin-bottom: 0.5em;}#sk-container-id-1 div.sk-estimator:hover {background-color: #d4ebff;}#sk-container-id-1 div.sk-parallel-item::after {content: \"\";width: 100%;border-bottom: 1px solid gray;flex-grow: 1;}#sk-container-id-1 div.sk-label:hover label.sk-toggleable__label {background-color: #d4ebff;}#sk-container-id-1 div.sk-serial::before {content: \"\";position: absolute;border-left: 1px solid gray;box-sizing: border-box;top: 0;bottom: 0;left: 50%;z-index: 0;}#sk-container-id-1 div.sk-serial {display: flex;flex-direction: column;align-items: center;background-color: white;padding-right: 0.2em;padding-left: 0.2em;position: relative;}#sk-container-id-1 div.sk-item {position: relative;z-index: 1;}#sk-container-id-1 div.sk-parallel {display: flex;align-items: stretch;justify-content: center;background-color: white;position: relative;}#sk-container-id-1 div.sk-item::before, #sk-container-id-1 div.sk-parallel-item::before {content: \"\";position: absolute;border-left: 1px solid gray;box-sizing: border-box;top: 0;bottom: 0;left: 50%;z-index: -1;}#sk-container-id-1 div.sk-parallel-item {display: flex;flex-direction: column;z-index: 1;position: relative;background-color: white;}#sk-container-id-1 div.sk-parallel-item:first-child::after {align-self: flex-end;width: 50%;}#sk-container-id-1 div.sk-parallel-item:last-child::after {align-self: flex-start;width: 50%;}#sk-container-id-1 div.sk-parallel-item:only-child::after {width: 0;}#sk-container-id-1 div.sk-dashed-wrapped {border: 1px dashed gray;margin: 0 0.4em 0.5em 0.4em;box-sizing: border-box;padding-bottom: 0.4em;background-color: white;}#sk-container-id-1 div.sk-label label {font-family: monospace;font-weight: bold;display: inline-block;line-height: 1.2em;}#sk-container-id-1 div.sk-label-container {text-align: center;}#sk-container-id-1 div.sk-container {/* jupyter's `normalize.less` sets `[hidden] { display: none; }` but bootstrap.min.css set `[hidden] { display: none !important; }` so we also need the `!important` here to be able to override the default hidden behavior on the sphinx rendered scikit-learn.org. See: https://github.com/scikit-learn/scikit-learn/issues/21755 */display: inline-block !important;position: relative;}#sk-container-id-1 div.sk-text-repr-fallback {display: none;}</style><div id=\"sk-container-id-1\" class=\"sk-top-container\"><div class=\"sk-text-repr-fallback\"><pre>GridSearchCV(cv=5,\n",
       "             estimator=Pipeline(steps=[(&#x27;scaler&#x27;, StandardScaler()),\n",
       "                                       (&#x27;model&#x27;,\n",
       "                                        MLPClassifier(random_state=0))]),\n",
       "             n_jobs=-1,\n",
       "             param_grid={&#x27;model__hidden_layer_sizes&#x27;: [(5,), (7,), (9,), (11,),\n",
       "                                                       (13,), (15,), (17,),\n",
       "                                                       (19,), (21,), (23,),\n",
       "                                                       (25,), (27,), (29,),\n",
       "                                                       (31,), (33,), (35,),\n",
       "                                                       (37,), (39,), (41,),\n",
       "                                                       (43,), (45,), (47,),\n",
       "                                                       (49,), (51,), (53,),\n",
       "                                                       (55,), (57,), (59,),\n",
       "                                                       (61,), (63,), ...]},\n",
       "             scoring=&#x27;accuracy&#x27;, verbose=3)</pre><b>In a Jupyter environment, please rerun this cell to show the HTML representation or trust the notebook. <br />On GitHub, the HTML representation is unable to render, please try loading this page with nbviewer.org.</b></div><div class=\"sk-container\" hidden><div class=\"sk-item sk-dashed-wrapped\"><div class=\"sk-label-container\"><div class=\"sk-label sk-toggleable\"><input class=\"sk-toggleable__control sk-hidden--visually\" id=\"sk-estimator-id-1\" type=\"checkbox\" ><label for=\"sk-estimator-id-1\" class=\"sk-toggleable__label sk-toggleable__label-arrow\">GridSearchCV</label><div class=\"sk-toggleable__content\"><pre>GridSearchCV(cv=5,\n",
       "             estimator=Pipeline(steps=[(&#x27;scaler&#x27;, StandardScaler()),\n",
       "                                       (&#x27;model&#x27;,\n",
       "                                        MLPClassifier(random_state=0))]),\n",
       "             n_jobs=-1,\n",
       "             param_grid={&#x27;model__hidden_layer_sizes&#x27;: [(5,), (7,), (9,), (11,),\n",
       "                                                       (13,), (15,), (17,),\n",
       "                                                       (19,), (21,), (23,),\n",
       "                                                       (25,), (27,), (29,),\n",
       "                                                       (31,), (33,), (35,),\n",
       "                                                       (37,), (39,), (41,),\n",
       "                                                       (43,), (45,), (47,),\n",
       "                                                       (49,), (51,), (53,),\n",
       "                                                       (55,), (57,), (59,),\n",
       "                                                       (61,), (63,), ...]},\n",
       "             scoring=&#x27;accuracy&#x27;, verbose=3)</pre></div></div></div><div class=\"sk-parallel\"><div class=\"sk-parallel-item\"><div class=\"sk-item\"><div class=\"sk-label-container\"><div class=\"sk-label sk-toggleable\"><input class=\"sk-toggleable__control sk-hidden--visually\" id=\"sk-estimator-id-2\" type=\"checkbox\" ><label for=\"sk-estimator-id-2\" class=\"sk-toggleable__label sk-toggleable__label-arrow\">estimator: Pipeline</label><div class=\"sk-toggleable__content\"><pre>Pipeline(steps=[(&#x27;scaler&#x27;, StandardScaler()),\n",
       "                (&#x27;model&#x27;, MLPClassifier(random_state=0))])</pre></div></div></div><div class=\"sk-serial\"><div class=\"sk-item\"><div class=\"sk-serial\"><div class=\"sk-item\"><div class=\"sk-estimator sk-toggleable\"><input class=\"sk-toggleable__control sk-hidden--visually\" id=\"sk-estimator-id-3\" type=\"checkbox\" ><label for=\"sk-estimator-id-3\" class=\"sk-toggleable__label sk-toggleable__label-arrow\">StandardScaler</label><div class=\"sk-toggleable__content\"><pre>StandardScaler()</pre></div></div></div><div class=\"sk-item\"><div class=\"sk-estimator sk-toggleable\"><input class=\"sk-toggleable__control sk-hidden--visually\" id=\"sk-estimator-id-4\" type=\"checkbox\" ><label for=\"sk-estimator-id-4\" class=\"sk-toggleable__label sk-toggleable__label-arrow\">MLPClassifier</label><div class=\"sk-toggleable__content\"><pre>MLPClassifier(random_state=0)</pre></div></div></div></div></div></div></div></div></div></div></div></div>"
      ],
      "text/plain": [
       "GridSearchCV(cv=5,\n",
       "             estimator=Pipeline(steps=[('scaler', StandardScaler()),\n",
       "                                       ('model',\n",
       "                                        MLPClassifier(random_state=0))]),\n",
       "             n_jobs=-1,\n",
       "             param_grid={'model__hidden_layer_sizes': [(5,), (7,), (9,), (11,),\n",
       "                                                       (13,), (15,), (17,),\n",
       "                                                       (19,), (21,), (23,),\n",
       "                                                       (25,), (27,), (29,),\n",
       "                                                       (31,), (33,), (35,),\n",
       "                                                       (37,), (39,), (41,),\n",
       "                                                       (43,), (45,), (47,),\n",
       "                                                       (49,), (51,), (53,),\n",
       "                                                       (55,), (57,), (59,),\n",
       "                                                       (61,), (63,), ...]},\n",
       "             scoring='accuracy', verbose=3)"
      ]
     },
     "execution_count": 12,
     "metadata": {},
     "output_type": "execute_result"
    }
   ],
   "source": [
    "search.fit(X_train, y_train)"
   ]
  },
  {
   "cell_type": "code",
   "execution_count": 54,
   "id": "910098dd",
   "metadata": {
    "id": "910098dd",
    "outputId": "52f37280-a5cb-4c83-b1a7-8353908fb229"
   },
   "outputs": [
    {
     "name": "stdout",
     "output_type": "stream",
     "text": [
      "Best score: 0.9601360538808356\n"
     ]
    }
   ],
   "source": [
    "print('Best score:', search.best_score_)"
   ]
  },
  {
   "cell_type": "code",
   "execution_count": 55,
   "id": "14d43b1b",
   "metadata": {
    "id": "14d43b1b",
    "outputId": "0243741c-9ecb-4c6e-9417-ba8615c87fda"
   },
   "outputs": [
    {
     "name": "stdout",
     "output_type": "stream",
     "text": [
      "Best number of hidden layers: {'model__hidden_layer_sizes': (71,)}\n"
     ]
    }
   ],
   "source": [
    "print('Best number of hidden layers:', search.best_params_)"
   ]
  },
  {
   "cell_type": "markdown",
   "id": "f4690311",
   "metadata": {},
   "source": [
    "DNN implementation, where the final activation is a softmax layer since our problem is a multiclass classification. Therefore, the predicted values (the final output) will be 7 classes, since the class 2 has seven different subclasses."
   ]
  },
  {
   "cell_type": "code",
   "execution_count": 15,
   "id": "03cd2716",
   "metadata": {
    "id": "03cd2716"
   },
   "outputs": [],
   "source": [
    "import os\n",
    "os.environ['TF_CPP_MIN_LOG_LEVEL'] = '2'  \n",
    "\n",
    "def dnn(input_shape, optimizer = 'Adam'):   \n",
    "    l1 = 1e-5\n",
    "    l2 = 1e-4\n",
    "\n",
    "    # create model\n",
    "    \n",
    "    model = Sequential()\n",
    "    model.add(Input(shape = (input_shape, )))\n",
    "    model.add(Dense(71, activation = \"relu\"))  \n",
    "    model.add(BatchNormalization())\n",
    "    model.add(Dropout(0.3)) \n",
    "    model.add(Dense(36, activation = \"relu\"))\n",
    "    model.add(BatchNormalization())\n",
    "    model.add(Dropout(0.3))  \n",
    "    model.add(Dense(7, activation = 'softmax'))  \n",
    "    return model\n"
   ]
  },
  {
   "cell_type": "markdown",
   "id": "a5678b7e",
   "metadata": {},
   "source": [
    "The parameters for the development of the DL models were adjusted according to the classification problem (number of epochs, batch_size, among others). In this step, the parameter for “EarlyStopping” was also used, a process that aims to interrupt the training of the models if there is a stabilization in the model evaluation results."
   ]
  },
  {
   "cell_type": "code",
   "execution_count": 16,
   "id": "a8300c2b",
   "metadata": {
    "id": "a8300c2b"
   },
   "outputs": [],
   "source": [
    "model = dnn(input_shape = X_train.shape[1], optimizer = 'Adam')\n",
    "\n",
    "es = EarlyStopping(monitor = 'val_loss', mode = 'min', patience = 10, verbose = 1) \n",
    "\n",
    "# reduce learning rate\n",
    "reduce_lr = ReduceLROnPlateau(monitor = 'val_loss', factor = 0.5, patience = 5, min_lr = 0.00001, verbose = 1) \n",
    "\n",
    "callbacks = [es, reduce_lr]\n",
    "model.compile(optimizer = 'adam', loss = 'categorical_crossentropy', metrics = ['accuracy'])"
   ]
  },
  {
   "cell_type": "markdown",
   "id": "3a28dc38",
   "metadata": {},
   "source": [
    "Train model."
   ]
  },
  {
   "cell_type": "code",
   "execution_count": 17,
   "id": "2c715cc7",
   "metadata": {
    "colab": {
     "base_uri": "https://localhost:8080/"
    },
    "id": "2c715cc7",
    "outputId": "71fb78a1-1f57-4b91-cd03-8fe9201be63e"
   },
   "outputs": [
    {
     "name": "stdout",
     "output_type": "stream",
     "text": [
      "Epoch 1/35\n",
      "183/183 [==============================] - 5s 9ms/step - loss: 1.1490 - accuracy: 0.6204 - val_loss: 1.6809 - val_accuracy: 0.1929 - lr: 0.0010\n",
      "Epoch 2/35\n",
      "183/183 [==============================] - 1s 7ms/step - loss: 0.3985 - accuracy: 0.8961 - val_loss: 0.9262 - val_accuracy: 0.9023 - lr: 0.0010\n",
      "Epoch 3/35\n",
      "183/183 [==============================] - 1s 7ms/step - loss: 0.2181 - accuracy: 0.9430 - val_loss: 0.2309 - val_accuracy: 0.9567 - lr: 0.0010\n",
      "Epoch 4/35\n",
      "183/183 [==============================] - 1s 7ms/step - loss: 0.1625 - accuracy: 0.9557 - val_loss: 0.1194 - val_accuracy: 0.9627 - lr: 0.0010\n",
      "Epoch 5/35\n",
      "183/183 [==============================] - 1s 7ms/step - loss: 0.1328 - accuracy: 0.9628 - val_loss: 0.1116 - val_accuracy: 0.9623 - lr: 0.0010\n",
      "Epoch 6/35\n",
      "183/183 [==============================] - 1s 7ms/step - loss: 0.1190 - accuracy: 0.9651 - val_loss: 0.1111 - val_accuracy: 0.9620 - lr: 0.0010\n",
      "Epoch 7/35\n",
      "183/183 [==============================] - 1s 7ms/step - loss: 0.1039 - accuracy: 0.9692 - val_loss: 0.1098 - val_accuracy: 0.9645 - lr: 0.0010\n",
      "Epoch 8/35\n",
      "183/183 [==============================] - 1s 7ms/step - loss: 0.1006 - accuracy: 0.9689 - val_loss: 0.1079 - val_accuracy: 0.9655 - lr: 0.0010\n",
      "Epoch 9/35\n",
      "183/183 [==============================] - 1s 6ms/step - loss: 0.0960 - accuracy: 0.9709 - val_loss: 0.1089 - val_accuracy: 0.9655 - lr: 0.0010\n",
      "Epoch 10/35\n",
      "183/183 [==============================] - 1s 7ms/step - loss: 0.0922 - accuracy: 0.9712 - val_loss: 0.1075 - val_accuracy: 0.9655 - lr: 0.0010\n",
      "Epoch 11/35\n",
      "183/183 [==============================] - 1s 7ms/step - loss: 0.0906 - accuracy: 0.9709 - val_loss: 0.1064 - val_accuracy: 0.9648 - lr: 0.0010\n",
      "Epoch 12/35\n",
      "183/183 [==============================] - 1s 7ms/step - loss: 0.0855 - accuracy: 0.9743 - val_loss: 0.1136 - val_accuracy: 0.9655 - lr: 0.0010\n",
      "Epoch 13/35\n",
      "183/183 [==============================] - 1s 6ms/step - loss: 0.0820 - accuracy: 0.9734 - val_loss: 0.1087 - val_accuracy: 0.9666 - lr: 0.0010\n",
      "Epoch 14/35\n",
      "183/183 [==============================] - 1s 7ms/step - loss: 0.0842 - accuracy: 0.9734 - val_loss: 0.1081 - val_accuracy: 0.9670 - lr: 0.0010\n",
      "Epoch 15/35\n",
      "183/183 [==============================] - 1s 7ms/step - loss: 0.0860 - accuracy: 0.9726 - val_loss: 0.1077 - val_accuracy: 0.9655 - lr: 0.0010\n",
      "Epoch 16/35\n",
      "177/183 [============================>.] - ETA: 0s - loss: 0.0894 - accuracy: 0.9692\n",
      "Epoch 16: ReduceLROnPlateau reducing learning rate to 0.0005000000237487257.\n",
      "183/183 [==============================] - 1s 7ms/step - loss: 0.0883 - accuracy: 0.9695 - val_loss: 0.1079 - val_accuracy: 0.9680 - lr: 0.0010\n",
      "Epoch 17/35\n",
      "183/183 [==============================] - 1s 7ms/step - loss: 0.0795 - accuracy: 0.9729 - val_loss: 0.1065 - val_accuracy: 0.9673 - lr: 5.0000e-04\n",
      "Epoch 18/35\n",
      "183/183 [==============================] - 1s 7ms/step - loss: 0.0832 - accuracy: 0.9711 - val_loss: 0.1079 - val_accuracy: 0.9666 - lr: 5.0000e-04\n",
      "Epoch 19/35\n",
      "183/183 [==============================] - 1s 7ms/step - loss: 0.0769 - accuracy: 0.9746 - val_loss: 0.1087 - val_accuracy: 0.9659 - lr: 5.0000e-04\n",
      "Epoch 20/35\n",
      "183/183 [==============================] - 1s 6ms/step - loss: 0.0723 - accuracy: 0.9761 - val_loss: 0.1090 - val_accuracy: 0.9655 - lr: 5.0000e-04\n",
      "Epoch 21/35\n",
      "183/183 [==============================] - ETA: 0s - loss: 0.0730 - accuracy: 0.9749\n",
      "Epoch 21: ReduceLROnPlateau reducing learning rate to 0.0002500000118743628.\n",
      "183/183 [==============================] - 1s 7ms/step - loss: 0.0730 - accuracy: 0.9749 - val_loss: 0.1106 - val_accuracy: 0.9659 - lr: 5.0000e-04\n",
      "Epoch 21: early stopping\n"
     ]
    }
   ],
   "source": [
    "history = model.fit(X_train, y_train, epochs = 35, batch_size = 36, callbacks = callbacks, \n",
    "                        validation_split = 0.3)"
   ]
  },
  {
   "cell_type": "code",
   "execution_count": 18,
   "id": "e7a98c87",
   "metadata": {
    "id": "e7a98c87"
   },
   "outputs": [],
   "source": [
    "tensorflow.keras.backend.clear_session()"
   ]
  },
  {
   "cell_type": "markdown",
   "id": "a3a1be18",
   "metadata": {},
   "source": [
    "Summary of the results obtained."
   ]
  },
  {
   "cell_type": "code",
   "execution_count": 19,
   "id": "1ebdf4b2",
   "metadata": {
    "colab": {
     "base_uri": "https://localhost:8080/"
    },
    "id": "1ebdf4b2",
    "outputId": "a4735513-f808-4510-bbd6-936e40a514e9"
   },
   "outputs": [
    {
     "name": "stdout",
     "output_type": "stream",
     "text": [
      "Model: \"sequential\"\n",
      "_________________________________________________________________\n",
      " Layer (type)                Output Shape              Param #   \n",
      "=================================================================\n",
      " dense (Dense)               (None, 71)                81082     \n",
      "                                                                 \n",
      " batch_normalization (BatchN  (None, 71)               284       \n",
      " ormalization)                                                   \n",
      "                                                                 \n",
      " dropout (Dropout)           (None, 71)                0         \n",
      "                                                                 \n",
      " dense_1 (Dense)             (None, 36)                2592      \n",
      "                                                                 \n",
      " batch_normalization_1 (Batc  (None, 36)               144       \n",
      " hNormalization)                                                 \n",
      "                                                                 \n",
      " dropout_1 (Dropout)         (None, 36)                0         \n",
      "                                                                 \n",
      " dense_2 (Dense)             (None, 7)                 259       \n",
      "                                                                 \n",
      "=================================================================\n",
      "Total params: 84,361\n",
      "Trainable params: 84,147\n",
      "Non-trainable params: 214\n",
      "_________________________________________________________________\n",
      "None\n"
     ]
    }
   ],
   "source": [
    "print(model.summary())"
   ]
  },
  {
   "cell_type": "code",
   "execution_count": 20,
   "id": "433ca9f4",
   "metadata": {
    "colab": {
     "base_uri": "https://localhost:8080/"
    },
    "id": "433ca9f4",
    "outputId": "132dbb6f-2647-4671-b52b-aff25c6edd7e"
   },
   "outputs": [
    {
     "name": "stdout",
     "output_type": "stream",
     "text": [
      "Training Accuracy:  0.9489076024010068\n",
      "Validation Accuracy:  0.9251797270207178\n",
      "Training Loss:  0.1654350342495101\n",
      "Validation Loss:  0.22901502464498794\n"
     ]
    }
   ],
   "source": [
    "print('Training Accuracy: ', np.mean(history.history['accuracy']))\n",
    "print('Validation Accuracy: ', np.mean(history.history['val_accuracy']))\n",
    "print('Training Loss: ', np.mean(history.history['loss']))\n",
    "print('Validation Loss: ', np.mean(history.history['val_loss']))"
   ]
  },
  {
   "cell_type": "markdown",
   "id": "4f7eb7a0",
   "metadata": {},
   "source": [
    "Plot accuracy and loss during training."
   ]
  },
  {
   "cell_type": "code",
   "execution_count": 21,
   "id": "f030cbcd",
   "metadata": {
    "id": "f030cbcd"
   },
   "outputs": [],
   "source": [
    "def plot_summary_accuracy(model, path_save = None, show = True):\n",
    "    \"\"\"\n",
    "    Function to plot training and validation accuracy\n",
    "    \"\"\"\n",
    "    plt.clf()\n",
    "\n",
    "    # summarize history for accuracy\n",
    "    plt.plot(history.history['accuracy'])\n",
    "    plt.plot(history.history['val_accuracy'])\n",
    "    plt.title('model accuracy')\n",
    "    plt.ylabel('accuracy')\n",
    "    plt.xlabel('epoch')\n",
    "    plt.legend(['train', 'validation'], loc = 'upper left')\n",
    "    if path_save is not None:\n",
    "        plt.savefig(fname = path_save)\n",
    "    if show is True:\n",
    "        plt.show(block = True)\n",
    "    plt.clf()\n",
    "\n",
    "\n",
    "def plot_summary_loss(model, path_save = None, show = True):\n",
    "    \"\"\"\n",
    "    Function to plot validationa nd training loss\n",
    "    \"\"\"\n",
    "    dnn = model\n",
    "\n",
    "    # summarize history for loss\n",
    "    plt.clf()\n",
    "    plt.plot(history.history['loss'])\n",
    "    plt.plot(history.history['val_loss'])\n",
    "    plt.title('model loss')\n",
    "    plt.ylabel('loss')\n",
    "    plt.xlabel('epoch')\n",
    "    plt.legend(['train', 'validation'], loc = 'upper left')\n",
    "    if path_save is not None:\n",
    "        plt.savefig(fname = path_save)\n",
    "    if show is True:\n",
    "        plt.show(block = True)\n",
    "    plt.clf()\n"
   ]
  },
  {
   "cell_type": "code",
   "execution_count": 22,
   "id": "fe77bd79",
   "metadata": {
    "colab": {
     "base_uri": "https://localhost:8080/",
     "height": 590
    },
    "id": "fe77bd79",
    "outputId": "eec82cf7-a32c-4a6c-d75e-1d66cec86227"
   },
   "outputs": [
    {
     "data": {
      "image/png": "[encoded data removed]",
      "text/plain": [
       "<Figure size 432x288 with 1 Axes>"
      ]
     },
     "metadata": {
      "needs_background": "light"
     },
     "output_type": "display_data"
    },
    {
     "data": {
      "image/png": "[encoded data removed]",
      "text/plain": [
       "<Figure size 432x288 with 1 Axes>"
      ]
     },
     "metadata": {
      "needs_background": "light"
     },
     "output_type": "display_data"
    },
    {
     "data": {
      "text/plain": [
       "<Figure size 432x288 with 0 Axes>"
      ]
     },
     "metadata": {},
     "output_type": "display_data"
    }
   ],
   "source": [
    "plot_summary_accuracy(model)\n",
    "plot_summary_loss(model)"
   ]
  },
  {
   "cell_type": "markdown",
   "id": "a6bc85b0",
   "metadata": {},
   "source": [
    "Function to evaluate the model (multiclass problem) with the enumerous metrics to be used."
   ]
  },
  {
   "cell_type": "code",
   "execution_count": 23,
   "id": "ef1a49c4",
   "metadata": {
    "id": "ef1a49c4"
   },
   "outputs": [],
   "source": [
    "from sklearn.metrics import accuracy_score, f1_score, log_loss, matthews_corrcoef, classification_report, \\\n",
    "    multilabel_confusion_matrix, roc_auc_score, precision_score,recall_score\n",
    "\n",
    "def model_evaluate(x_test=None, y_test=None, model=None):\n",
    "    scores = {}\n",
    "    cm2 = []\n",
    "  \n",
    "    y_prob = model.predict(x_test)\n",
    "    y_pred= np.argmax(y_prob,axis=1)\n",
    "    y_test=np.argmax(y_test, axis=1)\n",
    "    \n",
    "    scores['Accuracy'] = accuracy_score(y_test, y_pred)\n",
    "    scores['MCC'] = matthews_corrcoef(y_test, y_pred)\n",
    "    scores['log_loss'] = log_loss(y_test, y_prob)\n",
    "\n",
    "    \n",
    "    scores['f1 score weighted'] = f1_score(y_test, y_pred, average = 'weighted')\n",
    "    scores['f1 score macro'] = f1_score(y_test, y_pred, average = 'macro')\n",
    "    scores['f1 score micro'] = f1_score(y_test, y_pred, average = 'micro')\n",
    "    scores['roc_auc ovr'] = roc_auc_score(y_test, y_prob, average = 'weighted', multi_class = 'ovr')\n",
    "    y_test_reshape = y_test.reshape(y_test.shape[0])  \n",
    "    scores['roc_auc ovo'] = roc_auc_score(y_test_reshape, y_prob, average = 'weighted', multi_class = 'ovo')\n",
    "    scores['precision'] = precision_score(y_test, y_pred, average = 'weighted')\n",
    "    scores['recall'] = recall_score(y_test, y_pred, average = 'weighted')\n",
    "    cm2 = multilabel_confusion_matrix(y_test, y_pred)\n",
    "    \n",
    "    return scores, cm2"
   ]
  },
  {
   "cell_type": "code",
   "execution_count": 24,
   "id": "19d4415c",
   "metadata": {
    "colab": {
     "base_uri": "https://localhost:8080/"
    },
    "id": "19d4415c",
    "outputId": "f3f1940a-abf2-47c5-c30e-4a9a6d8c957e"
   },
   "outputs": [
    {
     "name": "stdout",
     "output_type": "stream",
     "text": [
      "126/126 [==============================] - 1s 3ms/step\n"
     ]
    }
   ],
   "source": [
    "scores, cm2 = model_evaluate(X_test, y_test, model=model)"
   ]
  },
  {
   "cell_type": "code",
   "execution_count": 56,
   "id": "ff87e3fc",
   "metadata": {
    "colab": {
     "base_uri": "https://localhost:8080/"
    },
    "id": "ff87e3fc",
    "outputId": "156348d2-6a4e-4698-8529-c297eed29c32"
   },
   "outputs": [
    {
     "name": "stdout",
     "output_type": "stream",
     "text": [
      "Scores: {'Accuracy': 0.9636996519144704, 'MCC': 0.9578340727811037, 'log_loss': 0.11440359978796893, 'f1 score weighted': 0.9637173809005386, 'f1 score macro': 0.9629744834870578, 'f1 score micro': 0.9636996519144703, 'roc_auc ovr': 0.9986482406540637, 'roc_auc ovo': 0.9985737903746353, 'precision': 0.9652933895604059, 'recall': 0.9636996519144704}\n"
     ]
    }
   ],
   "source": [
    "print('Scores:', scores)"
   ]
  },
  {
   "cell_type": "code",
   "execution_count": 59,
   "id": "a6388973",
   "metadata": {
    "colab": {
     "base_uri": "https://localhost:8080/"
    },
    "id": "a6388973",
    "outputId": "0d64bb4a-142f-4162-9be5-568a67a02947"
   },
   "outputs": [
    {
     "name": "stdout",
     "output_type": "stream",
     "text": [
      "Multiple layers of the confusion matrix:\n",
      " [[[3377   45]\n",
      "  [  16  584]]\n",
      "\n",
      " [[3411   11]\n",
      "  [  37  563]]\n",
      "\n",
      " [[3409   13]\n",
      "  [  14  586]]\n",
      "\n",
      " [[3416    6]\n",
      "  [   4  596]]\n",
      "\n",
      " [[3552   48]\n",
      "  [   0  422]]\n",
      "\n",
      " [[3401   21]\n",
      "  [  17  583]]\n",
      "\n",
      " [[3420    2]\n",
      "  [  58  542]]]\n"
     ]
    }
   ],
   "source": [
    "print('Multiple layers of the confusion matrix:\\n', cm2)"
   ]
  }
 ],
 "metadata": {
  "colab": {
   "provenance": []
  },
  "kernelspec": {
   "display_name": "Python 3",
   "language": "python",
   "name": "python3"
  },
  "language_info": {
   "codemirror_mode": {
    "name": "ipython",
    "version": 3
   },
   "file_extension": ".py",
   "mimetype": "text/x-python",
   "name": "python",
   "nbconvert_exporter": "python",
   "pygments_lexer": "ipython3",
   "version": "3.8.8"
  },
  "vscode": {
   "interpreter": {
    "hash": "27f6fea6f47ae512550f0b8facdbd035a93e1dd89633f7bf2dd00a2502c71d0d"
   }
  }
 },
 "nbformat": 4,
 "nbformat_minor": 5
}
