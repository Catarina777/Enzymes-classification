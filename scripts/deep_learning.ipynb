{
  "cells": [
    {
      "attachments": {},
      "cell_type": "markdown",
      "id": "3d2c37e9",
      "metadata": {
        "id": "3d2c37e9"
      },
      "source": [
        "# Deep learning "
      ]
    },
    {
      "attachments": {},
      "cell_type": "markdown",
      "id": "b363cab2",
      "metadata": {},
      "source": [
        " \n",
        "In this step, similarly to step 3, data from the dataset for multivariate classification will be used to develop Deep Learning (DL) models to predict subclasses of transferases (class 2). \n",
        "\n",
        "The Deep Learning model development methods used come from the package tensorflow. keras. Where training, testing and validation data are introduced. \n",
        "\n",
        "In the development of deep learning models, methods verified in the literature that aim to classify enzymes were used. \n",
        "These methods are:\n",
        "- DNN – “Dense Neural Networks” is a model of supervised deep learning that consists of “feedforward” neural networks, this method being one of the simplest of deep learning.\n",
        "\n",
        "- LSTM – “Long Short Term Memory Network” is a Deep Learning model belonging to RNN, this type of neural networks being different from \"feedforward\" since the neurons are connected in the layer itself. This model is capable of storing information having \"memory\" within the training process.\n"
      ]
    },
    {
      "attachments": {},
      "cell_type": "markdown",
      "id": "54141d51",
      "metadata": {},
      "source": [
        "### Imports"
      ]
    },
    {
      "cell_type": "code",
      "execution_count": 1,
      "id": "0c7ad83c",
      "metadata": {
        "id": "0c7ad83c"
      },
      "outputs": [],
      "source": [
        "import pandas as pd\n",
        "import numpy as np\n",
        "from collections import Counter\n",
        "import matplotlib.pyplot as plt\n",
        "\n",
        "from tensorflow.keras.models import Sequential\n",
        "from tensorflow.keras.layers import Dense, Dropout, Input\n",
        "from tensorflow.keras.wrappers.scikit_learn import KerasClassifier\n",
        "from tensorflow.keras import regularizers\n",
        "from tensorflow.keras.layers import BatchNormalization\n",
        "from tensorflow.keras.callbacks import ReduceLROnPlateau, EarlyStopping\n",
        "import tensorflow\n",
        "\n",
        "import warnings\n",
        "warnings.filterwarnings(\"ignore\")"
      ]
    },
    {
      "attachments": {},
      "cell_type": "markdown",
      "id": "365bcdfb",
      "metadata": {
        "id": "365bcdfb"
      },
      "source": [
        "## Family descriptors with dense neural networks (DNN)\n",
        "\n",
        "Proteins are generally composed of one or more functional regions, commonly termed domains. Different combinations of domains give rise to the diverse range of proteins found in nature. The identification of domains that occur within proteins can therefore provide insights into their function.\n",
        "\n",
        "- Pfam: protein domain database UniProtKB. Widely used database of protein families, each represented by multiple sequence alignments and hidden Markov models (HMMs).\n",
        "\n",
        "These descriptors are still dependent of similarities between sequences.\n",
        "\n",
        "Goal:\n",
        "\n",
        "- Generate features based with Pfam\n",
        "\n",
        "Workflow: \n",
        "\n",
        "- Binarize PFAM domains \n",
        "- Binarize multiclass labels\n",
        "- Apply DNN "
      ]
    },
    {
      "attachments": {},
      "cell_type": "markdown",
      "id": "b369f62e",
      "metadata": {
        "id": "b369f62e"
      },
      "source": [
        "### Dataset upload\n",
        "\n",
        "**data_feature_y** - dataset containing the class 'ec_lev'\n",
        "\n",
        "**data_new** - original dataset with only data from class 2"
      ]
    },
    {
      "cell_type": "code",
      "execution_count": 2,
      "id": "e945cfd7",
      "metadata": {
        "id": "e945cfd7"
      },
      "outputs": [],
      "source": [
        "data_feature_y = pd.read_csv('data_feature_y.csv')\n",
        "data_new = pd.read_csv('data_new.csv')"
      ]
    },
    {
      "cell_type": "code",
      "execution_count": 4,
      "id": "b8f68b62",
      "metadata": {
        "colab": {
          "base_uri": "https://localhost:8080/",
          "height": 974
        },
        "id": "b8f68b62",
        "outputId": "27ec3ad7-34ec-4504-8c08-6b4c1dcd5e1a"
      },
      "outputs": [
        {
          "data": {
            "text/html": [
              "<div>\n",
              "<style scoped>\n",
              "    .dataframe tbody tr th:only-of-type {\n",
              "        vertical-align: middle;\n",
              "    }\n",
              "\n",
              "    .dataframe tbody tr th {\n",
              "        vertical-align: top;\n",
              "    }\n",
              "\n",
              "    .dataframe thead th {\n",
              "        text-align: right;\n",
              "    }\n",
              "</style>\n",
              "<table border=\"1\" class=\"dataframe\">\n",
              "  <thead>\n",
              "    <tr style=\"text-align: right;\">\n",
              "      <th></th>\n",
              "      <th>level_0</th>\n",
              "      <th>index</th>\n",
              "      <th>uniref_90</th>\n",
              "      <th>Entry</th>\n",
              "      <th>Protein names</th>\n",
              "      <th>ec_number</th>\n",
              "      <th>sequence</th>\n",
              "      <th>pfam</th>\n",
              "      <th>supfam</th>\n",
              "      <th>go</th>\n",
              "      <th>ec_lev</th>\n",
              "    </tr>\n",
              "  </thead>\n",
              "  <tbody>\n",
              "    <tr>\n",
              "      <th>0</th>\n",
              "      <td>36250</td>\n",
              "      <td>109011</td>\n",
              "      <td>P0CN83</td>\n",
              "      <td>P0CN83</td>\n",
              "      <td>1,4-alpha-glucan-branching enzyme (EC 2.4.1.18...</td>\n",
              "      <td>2.4.1.18</td>\n",
              "      <td>MTAVSLSDGTAVLKTDPWLEPFSGALRERYAAYQKQRTIIEEHEGG...</td>\n",
              "      <td>PF00128;PF02806;PF02922;</td>\n",
              "      <td>SSF51445;SSF81296;</td>\n",
              "      <td>GO:0003844; GO:0004553; GO:0005978; GO:0043169...</td>\n",
              "      <td>4</td>\n",
              "    </tr>\n",
              "    <tr>\n",
              "      <th>1</th>\n",
              "      <td>36790</td>\n",
              "      <td>110453</td>\n",
              "      <td>A5VXJ2</td>\n",
              "      <td>A5VXJ2</td>\n",
              "      <td>Thiosulfate sulfurtransferase GlpE (EC 2.8.1.1)</td>\n",
              "      <td>2.8.1.1</td>\n",
              "      <td>MSEFKRIPPEQALELRKKEGAVVVDIRDPQAFAAGHITGARHLDNH...</td>\n",
              "      <td>PF00581;</td>\n",
              "      <td>SSF52821;</td>\n",
              "      <td>GO:0004792; GO:0005737; GO:0006071</td>\n",
              "      <td>8</td>\n",
              "    </tr>\n",
              "    <tr>\n",
              "      <th>2</th>\n",
              "      <td>31656</td>\n",
              "      <td>89041</td>\n",
              "      <td>A9HKH7</td>\n",
              "      <td>A9HKH7</td>\n",
              "      <td>Protoheme IX farnesyltransferase (EC 2.5.1.141...</td>\n",
              "      <td>2.5.1.141</td>\n",
              "      <td>MSGAATTEGAVTRFDAALVGTEARDWFALLKPRVISLVVFTGAAGL...</td>\n",
              "      <td>PF01040;</td>\n",
              "      <td>NaN</td>\n",
              "      <td>GO:0005886; GO:0008495; GO:0016021; GO:0048034</td>\n",
              "      <td>5</td>\n",
              "    </tr>\n",
              "    <tr>\n",
              "      <th>3</th>\n",
              "      <td>37795</td>\n",
              "      <td>112939</td>\n",
              "      <td>B4RV95</td>\n",
              "      <td>B4RV95</td>\n",
              "      <td>Serine hydroxymethyltransferase (SHMT) (Serine...</td>\n",
              "      <td>2.1.2.1</td>\n",
              "      <td>MFSREMNIADFDPELANAMANEVERQEHHIELIASENYCSPRVMEA...</td>\n",
              "      <td>PF00464;</td>\n",
              "      <td>SSF53383;</td>\n",
              "      <td>GO:0004372; GO:0005737; GO:0019264; GO:0030170...</td>\n",
              "      <td>1</td>\n",
              "    </tr>\n",
              "    <tr>\n",
              "      <th>4</th>\n",
              "      <td>4335</td>\n",
              "      <td>12074</td>\n",
              "      <td>Q55848</td>\n",
              "      <td>Q55848</td>\n",
              "      <td>Ribose-phosphate pyrophosphokinase (RPPK) (EC ...</td>\n",
              "      <td>2.7.6.1</td>\n",
              "      <td>MSAVSRIATLTRQSMLSALSDNNRLRLFSGSSNPSLSQEVARYLGM...</td>\n",
              "      <td>PF14572;PF13793;</td>\n",
              "      <td>SSF53271;</td>\n",
              "      <td>GO:0000287; GO:0002189; GO:0004749; GO:0005524...</td>\n",
              "      <td>7</td>\n",
              "    </tr>\n",
              "    <tr>\n",
              "      <th>...</th>\n",
              "      <td>...</td>\n",
              "      <td>...</td>\n",
              "      <td>...</td>\n",
              "      <td>...</td>\n",
              "      <td>...</td>\n",
              "      <td>...</td>\n",
              "      <td>...</td>\n",
              "      <td>...</td>\n",
              "      <td>...</td>\n",
              "      <td>...</td>\n",
              "      <td>...</td>\n",
              "    </tr>\n",
              "    <tr>\n",
              "      <th>13399</th>\n",
              "      <td>19070</td>\n",
              "      <td>54601</td>\n",
              "      <td>A6WWW9</td>\n",
              "      <td>A6WWW9</td>\n",
              "      <td>tRNA (guanine-N(7)-)-methyltransferase (EC 2.1...</td>\n",
              "      <td>2.1.1.33</td>\n",
              "      <td>MTEESHPLRGAGNFFGRRHGKPLRSHQKNLFEDLLPRLKINVENPA...</td>\n",
              "      <td>PF02390;</td>\n",
              "      <td>SSF53335;</td>\n",
              "      <td>GO:0008176</td>\n",
              "      <td>1</td>\n",
              "    </tr>\n",
              "    <tr>\n",
              "      <th>13400</th>\n",
              "      <td>28665</td>\n",
              "      <td>82072</td>\n",
              "      <td>Q16880</td>\n",
              "      <td>Q16880</td>\n",
              "      <td>2-hydroxyacylsphingosine 1-beta-galactosyltran...</td>\n",
              "      <td>2.4.1.47</td>\n",
              "      <td>MKSYTPYFILLWSAVGIAKAAKIIIVPPIMFESHMYIFKTLASALH...</td>\n",
              "      <td>PF00201;</td>\n",
              "      <td>NaN</td>\n",
              "      <td>GO:0002175; GO:0003851; GO:0005886; GO:0006682...</td>\n",
              "      <td>4</td>\n",
              "    </tr>\n",
              "    <tr>\n",
              "      <th>13401</th>\n",
              "      <td>17995</td>\n",
              "      <td>52095</td>\n",
              "      <td>B0TS89</td>\n",
              "      <td>B0TS89</td>\n",
              "      <td>Thiazole synthase (EC 2.8.1.10)</td>\n",
              "      <td>2.8.1.10</td>\n",
              "      <td>MLTIAQHQFESRLFTGTGKFAASEIMLTAIQASQSQLVTLAIKRLD...</td>\n",
              "      <td>PF05690;</td>\n",
              "      <td>NaN</td>\n",
              "      <td>GO:0005737; GO:0009228; GO:0009229; GO:0016783</td>\n",
              "      <td>8</td>\n",
              "    </tr>\n",
              "    <tr>\n",
              "      <th>13402</th>\n",
              "      <td>37224</td>\n",
              "      <td>111378</td>\n",
              "      <td>Q72CT0</td>\n",
              "      <td>Q72CT0</td>\n",
              "      <td>Serine hydroxymethyltransferase (SHMT) (Serine...</td>\n",
              "      <td>2.1.2.1</td>\n",
              "      <td>MDELLLQDPEVGKAIILEIERQTGKLELIASENFVSAAVRQAQGSV...</td>\n",
              "      <td>PF00464;</td>\n",
              "      <td>SSF53383;</td>\n",
              "      <td>GO:0004372; GO:0005737; GO:0019264; GO:0030170...</td>\n",
              "      <td>1</td>\n",
              "    </tr>\n",
              "    <tr>\n",
              "      <th>13403</th>\n",
              "      <td>27644</td>\n",
              "      <td>78843</td>\n",
              "      <td>Q5LN74</td>\n",
              "      <td>Q5LN74</td>\n",
              "      <td>Biotin synthase (EC 2.8.1.6)</td>\n",
              "      <td>2.8.1.6</td>\n",
              "      <td>MAEAIRSDWSVDEVEALLRLPLLDLVGRANGVHRAHHAPDDIQKAS...</td>\n",
              "      <td>PF06968;PF04055;</td>\n",
              "      <td>NaN</td>\n",
              "      <td>GO:0004076; GO:0005506; GO:0009102; GO:0051537...</td>\n",
              "      <td>8</td>\n",
              "    </tr>\n",
              "  </tbody>\n",
              "</table>\n",
              "<p>13404 rows × 11 columns</p>\n",
              "</div>"
            ],
            "text/plain": [
              "       level_0   index uniref_90   Entry  \\\n",
              "0        36250  109011    P0CN83  P0CN83   \n",
              "1        36790  110453    A5VXJ2  A5VXJ2   \n",
              "2        31656   89041    A9HKH7  A9HKH7   \n",
              "3        37795  112939    B4RV95  B4RV95   \n",
              "4         4335   12074    Q55848  Q55848   \n",
              "...        ...     ...       ...     ...   \n",
              "13399    19070   54601    A6WWW9  A6WWW9   \n",
              "13400    28665   82072    Q16880  Q16880   \n",
              "13401    17995   52095    B0TS89  B0TS89   \n",
              "13402    37224  111378    Q72CT0  Q72CT0   \n",
              "13403    27644   78843    Q5LN74  Q5LN74   \n",
              "\n",
              "                                           Protein names  ec_number  \\\n",
              "0      1,4-alpha-glucan-branching enzyme (EC 2.4.1.18...   2.4.1.18   \n",
              "1        Thiosulfate sulfurtransferase GlpE (EC 2.8.1.1)    2.8.1.1   \n",
              "2      Protoheme IX farnesyltransferase (EC 2.5.1.141...  2.5.1.141   \n",
              "3      Serine hydroxymethyltransferase (SHMT) (Serine...    2.1.2.1   \n",
              "4      Ribose-phosphate pyrophosphokinase (RPPK) (EC ...    2.7.6.1   \n",
              "...                                                  ...        ...   \n",
              "13399  tRNA (guanine-N(7)-)-methyltransferase (EC 2.1...   2.1.1.33   \n",
              "13400  2-hydroxyacylsphingosine 1-beta-galactosyltran...   2.4.1.47   \n",
              "13401                    Thiazole synthase (EC 2.8.1.10)   2.8.1.10   \n",
              "13402  Serine hydroxymethyltransferase (SHMT) (Serine...    2.1.2.1   \n",
              "13403                       Biotin synthase (EC 2.8.1.6)    2.8.1.6   \n",
              "\n",
              "                                                sequence  \\\n",
              "0      MTAVSLSDGTAVLKTDPWLEPFSGALRERYAAYQKQRTIIEEHEGG...   \n",
              "1      MSEFKRIPPEQALELRKKEGAVVVDIRDPQAFAAGHITGARHLDNH...   \n",
              "2      MSGAATTEGAVTRFDAALVGTEARDWFALLKPRVISLVVFTGAAGL...   \n",
              "3      MFSREMNIADFDPELANAMANEVERQEHHIELIASENYCSPRVMEA...   \n",
              "4      MSAVSRIATLTRQSMLSALSDNNRLRLFSGSSNPSLSQEVARYLGM...   \n",
              "...                                                  ...   \n",
              "13399  MTEESHPLRGAGNFFGRRHGKPLRSHQKNLFEDLLPRLKINVENPA...   \n",
              "13400  MKSYTPYFILLWSAVGIAKAAKIIIVPPIMFESHMYIFKTLASALH...   \n",
              "13401  MLTIAQHQFESRLFTGTGKFAASEIMLTAIQASQSQLVTLAIKRLD...   \n",
              "13402  MDELLLQDPEVGKAIILEIERQTGKLELIASENFVSAAVRQAQGSV...   \n",
              "13403  MAEAIRSDWSVDEVEALLRLPLLDLVGRANGVHRAHHAPDDIQKAS...   \n",
              "\n",
              "                           pfam              supfam  \\\n",
              "0      PF00128;PF02806;PF02922;  SSF51445;SSF81296;   \n",
              "1                      PF00581;           SSF52821;   \n",
              "2                      PF01040;                 NaN   \n",
              "3                      PF00464;           SSF53383;   \n",
              "4              PF14572;PF13793;           SSF53271;   \n",
              "...                         ...                 ...   \n",
              "13399                  PF02390;           SSF53335;   \n",
              "13400                  PF00201;                 NaN   \n",
              "13401                  PF05690;                 NaN   \n",
              "13402                  PF00464;           SSF53383;   \n",
              "13403          PF06968;PF04055;                 NaN   \n",
              "\n",
              "                                                      go  ec_lev  \n",
              "0      GO:0003844; GO:0004553; GO:0005978; GO:0043169...       4  \n",
              "1                     GO:0004792; GO:0005737; GO:0006071       8  \n",
              "2         GO:0005886; GO:0008495; GO:0016021; GO:0048034       5  \n",
              "3      GO:0004372; GO:0005737; GO:0019264; GO:0030170...       1  \n",
              "4      GO:0000287; GO:0002189; GO:0004749; GO:0005524...       7  \n",
              "...                                                  ...     ...  \n",
              "13399                                         GO:0008176       1  \n",
              "13400  GO:0002175; GO:0003851; GO:0005886; GO:0006682...       4  \n",
              "13401     GO:0005737; GO:0009228; GO:0009229; GO:0016783       8  \n",
              "13402  GO:0004372; GO:0005737; GO:0019264; GO:0030170...       1  \n",
              "13403  GO:0004076; GO:0005506; GO:0009102; GO:0051537...       8  \n",
              "\n",
              "[13404 rows x 11 columns]"
            ]
          },
          "execution_count": 4,
          "metadata": {},
          "output_type": "execute_result"
        }
      ],
      "source": [
        "data_new"
      ]
    },
    {
      "attachments": {},
      "cell_type": "markdown",
      "id": "0b6de4ab",
      "metadata": {},
      "source": [
        "## Family descriptors PFAM"
      ]
    },
    {
      "attachments": {},
      "cell_type": "markdown",
      "id": "9774401a",
      "metadata": {},
      "source": [
        "Get the PFAM domains from the dataset "
      ]
    },
    {
      "cell_type": "code",
      "execution_count": 5,
      "id": "3699d94b",
      "metadata": {
        "colab": {
          "base_uri": "https://localhost:8080/"
        },
        "id": "3699d94b",
        "outputId": "cdf572c6-0cd2-4e46-ddda-d5de9781b3ad"
      },
      "outputs": [
        {
          "data": {
            "text/plain": [
              "0        PF00128;PF02806;PF02922;\n",
              "1                        PF00581;\n",
              "2                        PF01040;\n",
              "3                        PF00464;\n",
              "4                PF14572;PF13793;\n",
              "                   ...           \n",
              "13399                    PF02390;\n",
              "13400                    PF00201;\n",
              "13401                    PF05690;\n",
              "13402                    PF00464;\n",
              "13403            PF06968;PF04055;\n",
              "Name: pfam, Length: 13404, dtype: object"
            ]
          },
          "execution_count": 5,
          "metadata": {},
          "output_type": "execute_result"
        }
      ],
      "source": [
        "fam = data_new['pfam']  \n",
        "fam"
      ]
    },
    {
      "attachments": {},
      "cell_type": "markdown",
      "id": "ca10736d",
      "metadata": {
        "id": "ca10736d"
      },
      "source": [
        "Binarize fam domains"
      ]
    },
    {
      "cell_type": "code",
      "execution_count": 6,
      "id": "d8b3ff67",
      "metadata": {
        "colab": {
          "base_uri": "https://localhost:8080/"
        },
        "id": "d8b3ff67",
        "outputId": "fdd5784e-f80f-4714-ba7f-ed241699f86f"
      },
      "outputs": [
        {
          "name": "stdout",
          "output_type": "stream",
          "text": [
            "['PF00009' 'PF00010' 'PF00013' ... 'PF18706' 'PF18755' 'PF18836']\n",
            "number classes 1141\n",
            "(13404, 1141)\n",
            "[[0 0 0 ... 0 0 0]\n",
            " [0 0 0 ... 0 0 0]\n",
            " [0 0 0 ... 0 0 0]\n",
            " ...\n",
            " [0 0 0 ... 0 0 0]\n",
            " [0 0 0 ... 0 0 0]\n",
            " [0 0 0 ... 0 0 0]]\n"
          ]
        }
      ],
      "source": [
        "from sklearn.preprocessing._label import MultiLabelBinarizer\n",
        "\n",
        "fam = [i.split(';') for i in data_new['pfam']] # split 2 Pfam \n",
        "fam = [list(filter(None, x)) for x in fam]  # remove '' empty string (because last ;)\n",
        "\n",
        "# hot encoding vector of Pfam domains\n",
        "mlb = MultiLabelBinarizer()\n",
        "fam_ho = mlb.fit_transform(fam)\n",
        "classes = mlb.classes_\n",
        "print(classes)\n",
        "print('number classes', len(classes))\n",
        "print(fam_ho.shape)\n",
        "print(fam_ho)"
      ]
    },
    {
      "attachments": {},
      "cell_type": "markdown",
      "id": "d415679a",
      "metadata": {
        "id": "d415679a"
      },
      "source": [
        "Binarize labels"
      ]
    },
    {
      "cell_type": "code",
      "execution_count": 7,
      "id": "3aacf5f0",
      "metadata": {
        "colab": {
          "base_uri": "https://localhost:8080/"
        },
        "id": "3aacf5f0",
        "outputId": "7d476ea6-8e93-47ce-97d3-82d7d7d0fe3b"
      },
      "outputs": [
        {
          "name": "stdout",
          "output_type": "stream",
          "text": [
            "['1' '3' '4' '5' '6' '7' '8']\n",
            "[[0 0 1 ... 0 0 0]\n",
            " [0 0 0 ... 0 0 1]\n",
            " [0 0 0 ... 0 0 0]\n",
            " ...\n",
            " [0 0 0 ... 0 0 1]\n",
            " [1 0 0 ... 0 0 0]\n",
            " [0 0 0 ... 0 0 1]]\n"
          ]
        }
      ],
      "source": [
        "from sklearn.preprocessing import MultiLabelBinarizer\n",
        "y=data_new['ec_lev'].astype(str)\n",
        "\n",
        "mlb = MultiLabelBinarizer()\n",
        "y_new = mlb.fit_transform(y)\n",
        "print(mlb.classes_)\n",
        "print(y_new)"
      ]
    },
    {
      "attachments": {},
      "cell_type": "markdown",
      "id": "d921fca5",
      "metadata": {},
      "source": [
        "Data division in train and test was performed using the **train_test_split** method of the sklearn package. The division of the dataset was made using 70% for the training phase and 30% for the test phase, with a random_state of 32. After dividing between training and testing, 30% of the training dataset was extracted to be used as a validation dataset."
      ]
    },
    {
      "cell_type": "code",
      "execution_count": 8,
      "id": "94dde336",
      "metadata": {
        "colab": {
          "base_uri": "https://localhost:8080/"
        },
        "id": "94dde336",
        "outputId": "2ca05add-f811-43de-dd28-be54fc789ec7"
      },
      "outputs": [
        {
          "name": "stdout",
          "output_type": "stream",
          "text": [
            "Train:  (9382, 1141) (9382, 7)\n",
            "Test:  (4022, 1141) (4022, 7)\n"
          ]
        }
      ],
      "source": [
        "from sklearn.model_selection import train_test_split\n",
        "\n",
        "X_train, X_test, y_train, y_test = train_test_split(fam_ho, y_new, test_size = 0.3, random_state = 32, stratify = y)\n",
        "\n",
        "print('Train: ', X_train.shape, y_train.shape)\n",
        "print('Test: ', X_test.shape, y_test.shape)"
      ]
    },
    {
      "attachments": {},
      "cell_type": "markdown",
      "id": "52d2731e",
      "metadata": {},
      "source": [
        "GridSearch to optimize the hyperparameters"
      ]
    },
    {
      "cell_type": "code",
      "execution_count": 9,
      "id": "e6a2b53b",
      "metadata": {
        "id": "e6a2b53b"
      },
      "outputs": [],
      "source": [
        "import numpy as np\n",
        "from sklearn.preprocessing import StandardScaler\n",
        "from sklearn.neural_network import MLPClassifier\n",
        "from sklearn.model_selection import train_test_split, GridSearchCV\n",
        "from sklearn.pipeline import Pipeline\n",
        "from sklearn.metrics import accuracy_score\n",
        "\n",
        "model = Pipeline([\n",
        "                  ('scaler',StandardScaler()),\n",
        "                  ('model',MLPClassifier(random_state = 0))])\n",
        "\n",
        "search = GridSearchCV(model,\n",
        "                      {'model__hidden_layer_sizes':[(x,) for x in np.arange(5, 100, 2)]},\n",
        "                      cv = 5, scoring = \"accuracy\", verbose = 3, n_jobs = -1)"
      ]
    },
    {
      "attachments": {},
      "cell_type": "markdown",
      "id": "a740771a",
      "metadata": {},
      "source": [
        "Train the model with the best parameters obtained from the gridsearch"
      ]
    },
    {
      "cell_type": "code",
      "execution_count": 9,
      "id": "5dec2de3",
      "metadata": {
        "colab": {
          "base_uri": "https://localhost:8080/",
          "height": 329
        },
        "id": "5dec2de3",
        "outputId": "3c60fd4f-75b7-4174-e894-89a5909d1407"
      },
      "outputs": [
        {
          "name": "stdout",
          "output_type": "stream",
          "text": [
            "Fitting 5 folds for each of 48 candidates, totalling 240 fits\n"
          ]
        }
      ],
      "source": [
        "search.fit(X_train, y_train)"
      ]
    },
    {
      "cell_type": "code",
      "execution_count": 54,
      "id": "910098dd",
      "metadata": {
        "id": "910098dd",
        "outputId": "52f37280-a5cb-4c83-b1a7-8353908fb229"
      },
      "outputs": [
        {
          "name": "stdout",
          "output_type": "stream",
          "text": [
            "Best score: 0.9601360538808356\n"
          ]
        }
      ],
      "source": [
        "print('Best score:', search.best_score_)"
      ]
    },
    {
      "cell_type": "code",
      "execution_count": 55,
      "id": "14d43b1b",
      "metadata": {
        "id": "14d43b1b",
        "outputId": "0243741c-9ecb-4c6e-9417-ba8615c87fda"
      },
      "outputs": [
        {
          "name": "stdout",
          "output_type": "stream",
          "text": [
            "Best number of hidden layers: {'model__hidden_layer_sizes': (71,)}\n"
          ]
        }
      ],
      "source": [
        "print('Best number of hidden layers:', search.best_params_)"
      ]
    },
    {
      "attachments": {},
      "cell_type": "markdown",
      "id": "f4690311",
      "metadata": {},
      "source": [
        "DNN implementation, where the final activation is a softmax layer since our problem is a multiclass classification. Therefore, the predicted values (the final output) will be 7 classes, since the class 2 has seven different subclasses."
      ]
    },
    {
      "cell_type": "code",
      "execution_count": 15,
      "id": "03cd2716",
      "metadata": {
        "id": "03cd2716"
      },
      "outputs": [],
      "source": [
        "import os\n",
        "os.environ['TF_CPP_MIN_LOG_LEVEL'] = '2'  \n",
        "\n",
        "def dnn(input_shape, optimizer = 'Adam'):   \n",
        "    l1 = 1e-5\n",
        "    l2 = 1e-4\n",
        "\n",
        "    # create model\n",
        "    \n",
        "    model = Sequential()\n",
        "    model.add(Input(shape = (input_shape, )))\n",
        "    model.add(Dense(71, activation = \"relu\"))  \n",
        "    model.add(BatchNormalization())\n",
        "    model.add(Dropout(0.3)) \n",
        "    model.add(Dense(36, activation = \"relu\"))\n",
        "    model.add(BatchNormalization())\n",
        "    model.add(Dropout(0.3))  \n",
        "    model.add(Dense(7, activation = 'softmax'))  \n",
        "    return model\n"
      ]
    },
    {
      "attachments": {},
      "cell_type": "markdown",
      "id": "a5678b7e",
      "metadata": {},
      "source": [
        "The parameters for the development of the DL models were adjusted according to the classification problem (number of epochs, batch_size, among others). In this step, the parameter for “EarlyStopping” was also used, a process that aims to interrupt the training of the models if there is a stabilization in the model evaluation results."
      ]
    },
    {
      "cell_type": "code",
      "execution_count": 16,
      "id": "a8300c2b",
      "metadata": {
        "id": "a8300c2b"
      },
      "outputs": [],
      "source": [
        "model = dnn(input_shape = X_train.shape[1], optimizer = 'Adam')\n",
        "\n",
        "es = EarlyStopping(monitor = 'val_loss', mode = 'min', patience = 10, verbose = 1) \n",
        "\n",
        "# reduce learning rate\n",
        "reduce_lr = ReduceLROnPlateau(monitor = 'val_loss', factor = 0.5, patience = 5, min_lr = 0.00001, verbose = 1) \n",
        "\n",
        "callbacks = [es, reduce_lr]\n",
        "model.compile(optimizer = 'adam', loss = 'categorical_crossentropy', metrics = ['accuracy'])"
      ]
    },
    {
      "attachments": {},
      "cell_type": "markdown",
      "id": "3a28dc38",
      "metadata": {},
      "source": [
        "Train model"
      ]
    },
    {
      "cell_type": "code",
      "execution_count": 17,
      "id": "2c715cc7",
      "metadata": {
        "colab": {
          "base_uri": "https://localhost:8080/"
        },
        "id": "2c715cc7",
        "outputId": "71fb78a1-1f57-4b91-cd03-8fe9201be63e"
      },
      "outputs": [
        {
          "name": "stdout",
          "output_type": "stream",
          "text": [
            "Epoch 1/35\n",
            "183/183 [==============================] - 5s 9ms/step - loss: 1.1490 - accuracy: 0.6204 - val_loss: 1.6809 - val_accuracy: 0.1929 - lr: 0.0010\n",
            "Epoch 2/35\n",
            "183/183 [==============================] - 1s 7ms/step - loss: 0.3985 - accuracy: 0.8961 - val_loss: 0.9262 - val_accuracy: 0.9023 - lr: 0.0010\n",
            "Epoch 3/35\n",
            "183/183 [==============================] - 1s 7ms/step - loss: 0.2181 - accuracy: 0.9430 - val_loss: 0.2309 - val_accuracy: 0.9567 - lr: 0.0010\n",
            "Epoch 4/35\n",
            "183/183 [==============================] - 1s 7ms/step - loss: 0.1625 - accuracy: 0.9557 - val_loss: 0.1194 - val_accuracy: 0.9627 - lr: 0.0010\n",
            "Epoch 5/35\n",
            "183/183 [==============================] - 1s 7ms/step - loss: 0.1328 - accuracy: 0.9628 - val_loss: 0.1116 - val_accuracy: 0.9623 - lr: 0.0010\n",
            "Epoch 6/35\n",
            "183/183 [==============================] - 1s 7ms/step - loss: 0.1190 - accuracy: 0.9651 - val_loss: 0.1111 - val_accuracy: 0.9620 - lr: 0.0010\n",
            "Epoch 7/35\n",
            "183/183 [==============================] - 1s 7ms/step - loss: 0.1039 - accuracy: 0.9692 - val_loss: 0.1098 - val_accuracy: 0.9645 - lr: 0.0010\n",
            "Epoch 8/35\n",
            "183/183 [==============================] - 1s 7ms/step - loss: 0.1006 - accuracy: 0.9689 - val_loss: 0.1079 - val_accuracy: 0.9655 - lr: 0.0010\n",
            "Epoch 9/35\n",
            "183/183 [==============================] - 1s 6ms/step - loss: 0.0960 - accuracy: 0.9709 - val_loss: 0.1089 - val_accuracy: 0.9655 - lr: 0.0010\n",
            "Epoch 10/35\n",
            "183/183 [==============================] - 1s 7ms/step - loss: 0.0922 - accuracy: 0.9712 - val_loss: 0.1075 - val_accuracy: 0.9655 - lr: 0.0010\n",
            "Epoch 11/35\n",
            "183/183 [==============================] - 1s 7ms/step - loss: 0.0906 - accuracy: 0.9709 - val_loss: 0.1064 - val_accuracy: 0.9648 - lr: 0.0010\n",
            "Epoch 12/35\n",
            "183/183 [==============================] - 1s 7ms/step - loss: 0.0855 - accuracy: 0.9743 - val_loss: 0.1136 - val_accuracy: 0.9655 - lr: 0.0010\n",
            "Epoch 13/35\n",
            "183/183 [==============================] - 1s 6ms/step - loss: 0.0820 - accuracy: 0.9734 - val_loss: 0.1087 - val_accuracy: 0.9666 - lr: 0.0010\n",
            "Epoch 14/35\n",
            "183/183 [==============================] - 1s 7ms/step - loss: 0.0842 - accuracy: 0.9734 - val_loss: 0.1081 - val_accuracy: 0.9670 - lr: 0.0010\n",
            "Epoch 15/35\n",
            "183/183 [==============================] - 1s 7ms/step - loss: 0.0860 - accuracy: 0.9726 - val_loss: 0.1077 - val_accuracy: 0.9655 - lr: 0.0010\n",
            "Epoch 16/35\n",
            "177/183 [============================>.] - ETA: 0s - loss: 0.0894 - accuracy: 0.9692\n",
            "Epoch 16: ReduceLROnPlateau reducing learning rate to 0.0005000000237487257.\n",
            "183/183 [==============================] - 1s 7ms/step - loss: 0.0883 - accuracy: 0.9695 - val_loss: 0.1079 - val_accuracy: 0.9680 - lr: 0.0010\n",
            "Epoch 17/35\n",
            "183/183 [==============================] - 1s 7ms/step - loss: 0.0795 - accuracy: 0.9729 - val_loss: 0.1065 - val_accuracy: 0.9673 - lr: 5.0000e-04\n",
            "Epoch 18/35\n",
            "183/183 [==============================] - 1s 7ms/step - loss: 0.0832 - accuracy: 0.9711 - val_loss: 0.1079 - val_accuracy: 0.9666 - lr: 5.0000e-04\n",
            "Epoch 19/35\n",
            "183/183 [==============================] - 1s 7ms/step - loss: 0.0769 - accuracy: 0.9746 - val_loss: 0.1087 - val_accuracy: 0.9659 - lr: 5.0000e-04\n",
            "Epoch 20/35\n",
            "183/183 [==============================] - 1s 6ms/step - loss: 0.0723 - accuracy: 0.9761 - val_loss: 0.1090 - val_accuracy: 0.9655 - lr: 5.0000e-04\n",
            "Epoch 21/35\n",
            "183/183 [==============================] - ETA: 0s - loss: 0.0730 - accuracy: 0.9749\n",
            "Epoch 21: ReduceLROnPlateau reducing learning rate to 0.0002500000118743628.\n",
            "183/183 [==============================] - 1s 7ms/step - loss: 0.0730 - accuracy: 0.9749 - val_loss: 0.1106 - val_accuracy: 0.9659 - lr: 5.0000e-04\n",
            "Epoch 21: early stopping\n"
          ]
        }
      ],
      "source": [
        "history = model.fit(X_train, y_train, epochs = 35, batch_size = 36, callbacks = callbacks, \n",
        "                        validation_split = 0.3)"
      ]
    },
    {
      "cell_type": "code",
      "execution_count": 18,
      "id": "e7a98c87",
      "metadata": {
        "id": "e7a98c87"
      },
      "outputs": [],
      "source": [
        "tensorflow.keras.backend.clear_session()"
      ]
    },
    {
      "attachments": {},
      "cell_type": "markdown",
      "id": "a3a1be18",
      "metadata": {},
      "source": [
        "Summary of the results obtained"
      ]
    },
    {
      "cell_type": "code",
      "execution_count": 19,
      "id": "1ebdf4b2",
      "metadata": {
        "colab": {
          "base_uri": "https://localhost:8080/"
        },
        "id": "1ebdf4b2",
        "outputId": "a4735513-f808-4510-bbd6-936e40a514e9"
      },
      "outputs": [
        {
          "name": "stdout",
          "output_type": "stream",
          "text": [
            "Model: \"sequential\"\n",
            "_________________________________________________________________\n",
            " Layer (type)                Output Shape              Param #   \n",
            "=================================================================\n",
            " dense (Dense)               (None, 71)                81082     \n",
            "                                                                 \n",
            " batch_normalization (BatchN  (None, 71)               284       \n",
            " ormalization)                                                   \n",
            "                                                                 \n",
            " dropout (Dropout)           (None, 71)                0         \n",
            "                                                                 \n",
            " dense_1 (Dense)             (None, 36)                2592      \n",
            "                                                                 \n",
            " batch_normalization_1 (Batc  (None, 36)               144       \n",
            " hNormalization)                                                 \n",
            "                                                                 \n",
            " dropout_1 (Dropout)         (None, 36)                0         \n",
            "                                                                 \n",
            " dense_2 (Dense)             (None, 7)                 259       \n",
            "                                                                 \n",
            "=================================================================\n",
            "Total params: 84,361\n",
            "Trainable params: 84,147\n",
            "Non-trainable params: 214\n",
            "_________________________________________________________________\n",
            "None\n"
          ]
        }
      ],
      "source": [
        "print(model.summary())"
      ]
    },
    {
      "cell_type": "code",
      "execution_count": 20,
      "id": "433ca9f4",
      "metadata": {
        "colab": {
          "base_uri": "https://localhost:8080/"
        },
        "id": "433ca9f4",
        "outputId": "132dbb6f-2647-4671-b52b-aff25c6edd7e"
      },
      "outputs": [
        {
          "name": "stdout",
          "output_type": "stream",
          "text": [
            "Training Accuracy:  0.9489076024010068\n",
            "Validation Accuracy:  0.9251797270207178\n",
            "Training Loss:  0.1654350342495101\n",
            "Validation Loss:  0.22901502464498794\n"
          ]
        }
      ],
      "source": [
        "print('Training Accuracy: ', np.mean(history.history['accuracy']))\n",
        "print('Validation Accuracy: ', np.mean(history.history['val_accuracy']))\n",
        "print('Training Loss: ', np.mean(history.history['loss']))\n",
        "print('Validation Loss: ', np.mean(history.history['val_loss']))"
      ]
    },
    {
      "attachments": {},
      "cell_type": "markdown",
      "id": "4f7eb7a0",
      "metadata": {},
      "source": [
        "Plot accuracy and loss during training"
      ]
    },
    {
      "cell_type": "code",
      "execution_count": 10,
      "id": "f030cbcd",
      "metadata": {
        "id": "f030cbcd"
      },
      "outputs": [],
      "source": [
        "def plot_summary_accuracy(model, path_save = None, show = True):\n",
        "    \"\"\"\n",
        "    Function to plot training and validation accuracy\n",
        "    \"\"\"\n",
        "    plt.clf()\n",
        "\n",
        "    # summarize history for accuracy\n",
        "    plt.plot(history.history['accuracy'])\n",
        "    plt.plot(history.history['val_accuracy'])\n",
        "    plt.title('model accuracy')\n",
        "    plt.ylabel('accuracy')\n",
        "    plt.xlabel('epoch')\n",
        "    plt.legend(['train', 'validation'], loc = 'upper left')\n",
        "    if path_save is not None:\n",
        "        plt.savefig(fname = path_save)\n",
        "    if show is True:\n",
        "        plt.show(block = True)\n",
        "    plt.clf()\n",
        "\n",
        "\n",
        "def plot_summary_loss(model, path_save = None, show = True):\n",
        "    \"\"\"\n",
        "    Function to plot validationa nd training loss\n",
        "    \"\"\"\n",
        "    dnn = model\n",
        "\n",
        "    # summarize history for loss\n",
        "    plt.clf()\n",
        "    plt.plot(history.history['loss'])\n",
        "    plt.plot(history.history['val_loss'])\n",
        "    plt.title('model loss')\n",
        "    plt.ylabel('loss')\n",
        "    plt.xlabel('epoch')\n",
        "    plt.legend(['train', 'validation'], loc = 'upper left')\n",
        "    if path_save is not None:\n",
        "        plt.savefig(fname = path_save)\n",
        "    if show is True:\n",
        "        plt.show(block = True)\n",
        "    plt.clf()\n"
      ]
    },
    {
      "cell_type": "code",
      "execution_count": 22,
      "id": "fe77bd79",
      "metadata": {
        "colab": {
          "base_uri": "https://localhost:8080/",
          "height": 590
        },
        "id": "fe77bd79",
        "outputId": "eec82cf7-a32c-4a6c-d75e-1d66cec86227"
      },
      "outputs": [
        {
          "data": {
            "image/png": "[encoded data removed]",
            "text/plain": [
              "<Figure size 432x288 with 1 Axes>"
            ]
          },
          "metadata": {
            "needs_background": "light"
          },
          "output_type": "display_data"
        },
        {
          "data": {
            "image/png": "[encoded data removed]",
            "text/plain": [
              "<Figure size 432x288 with 1 Axes>"
            ]
          },
          "metadata": {
            "needs_background": "light"
          },
          "output_type": "display_data"
        },
        {
          "data": {
            "text/plain": [
              "<Figure size 432x288 with 0 Axes>"
            ]
          },
          "metadata": {},
          "output_type": "display_data"
        }
      ],
      "source": [
        "plot_summary_accuracy(model)\n",
        "plot_summary_loss(model)"
      ]
    },
    {
      "attachments": {},
      "cell_type": "markdown",
      "id": "a6bc85b0",
      "metadata": {},
      "source": [
        "Function to evaluate the model (multiclass problem) with the enumerous metrics to be used"
      ]
    },
    {
      "cell_type": "code",
      "execution_count": 11,
      "id": "ef1a49c4",
      "metadata": {
        "id": "ef1a49c4"
      },
      "outputs": [],
      "source": [
        "from sklearn.metrics import accuracy_score, f1_score, log_loss, matthews_corrcoef, classification_report, \\\n",
        "    multilabel_confusion_matrix, roc_auc_score, precision_score,recall_score\n",
        "\n",
        "def model_evaluate(x_test=None, y_test=None, model=None):\n",
        "    scores = {}\n",
        "    cm2 = []\n",
        "  \n",
        "    y_prob = model.predict(x_test)\n",
        "    y_pred= np.argmax(y_prob,axis=1)\n",
        "    y_test=np.argmax(y_test, axis=1)\n",
        "    \n",
        "    scores['Accuracy'] = accuracy_score(y_test, y_pred)\n",
        "    scores['MCC'] = matthews_corrcoef(y_test, y_pred)\n",
        "    scores['log_loss'] = log_loss(y_test, y_prob)\n",
        "\n",
        "    \n",
        "    scores['f1 score weighted'] = f1_score(y_test, y_pred, average = 'weighted')\n",
        "    scores['f1 score macro'] = f1_score(y_test, y_pred, average = 'macro')\n",
        "    scores['f1 score micro'] = f1_score(y_test, y_pred, average = 'micro')\n",
        "    scores['roc_auc ovr'] = roc_auc_score(y_test, y_prob, average = 'weighted', multi_class = 'ovr')\n",
        "    y_test_reshape = y_test.reshape(y_test.shape[0])  \n",
        "    scores['roc_auc ovo'] = roc_auc_score(y_test_reshape, y_prob, average = 'weighted', multi_class = 'ovo')\n",
        "    scores['precision'] = precision_score(y_test, y_pred, average = 'weighted')\n",
        "    scores['recall'] = recall_score(y_test, y_pred, average = 'weighted')\n",
        "    cm2 = multilabel_confusion_matrix(y_test, y_pred)\n",
        "    \n",
        "    return scores, cm2"
      ]
    },
    {
      "cell_type": "code",
      "execution_count": 24,
      "id": "19d4415c",
      "metadata": {
        "colab": {
          "base_uri": "https://localhost:8080/"
        },
        "id": "19d4415c",
        "outputId": "f3f1940a-abf2-47c5-c30e-4a9a6d8c957e"
      },
      "outputs": [
        {
          "name": "stdout",
          "output_type": "stream",
          "text": [
            "126/126 [==============================] - 1s 3ms/step\n"
          ]
        }
      ],
      "source": [
        "scores, cm2 = model_evaluate(X_test, y_test, model=model)"
      ]
    },
    {
      "cell_type": "code",
      "execution_count": 56,
      "id": "ff87e3fc",
      "metadata": {
        "colab": {
          "base_uri": "https://localhost:8080/"
        },
        "id": "ff87e3fc",
        "outputId": "156348d2-6a4e-4698-8529-c297eed29c32"
      },
      "outputs": [
        {
          "name": "stdout",
          "output_type": "stream",
          "text": [
            "Scores: {'Accuracy': 0.9636996519144704, 'MCC': 0.9578340727811037, 'log_loss': 0.11440359978796893, 'f1 score weighted': 0.9637173809005386, 'f1 score macro': 0.9629744834870578, 'f1 score micro': 0.9636996519144703, 'roc_auc ovr': 0.9986482406540637, 'roc_auc ovo': 0.9985737903746353, 'precision': 0.9652933895604059, 'recall': 0.9636996519144704}\n"
          ]
        }
      ],
      "source": [
        "print('Scores:', scores)"
      ]
    },
    {
      "cell_type": "code",
      "execution_count": 59,
      "id": "a6388973",
      "metadata": {
        "colab": {
          "base_uri": "https://localhost:8080/"
        },
        "id": "a6388973",
        "outputId": "0d64bb4a-142f-4162-9be5-568a67a02947"
      },
      "outputs": [
        {
          "name": "stdout",
          "output_type": "stream",
          "text": [
            "Multiple layers of the confusion matrix:\n",
            " [[[3377   45]\n",
            "  [  16  584]]\n",
            "\n",
            " [[3411   11]\n",
            "  [  37  563]]\n",
            "\n",
            " [[3409   13]\n",
            "  [  14  586]]\n",
            "\n",
            " [[3416    6]\n",
            "  [   4  596]]\n",
            "\n",
            " [[3552   48]\n",
            "  [   0  422]]\n",
            "\n",
            " [[3401   21]\n",
            "  [  17  583]]\n",
            "\n",
            " [[3420    2]\n",
            "  [  58  542]]]\n"
          ]
        }
      ],
      "source": [
        "print('Multiple layers of the confusion matrix:\\n', cm2)"
      ]
    },
    {
      "attachments": {},
      "cell_type": "markdown",
      "id": "120da272",
      "metadata": {},
      "source": [
        "Plot the overall distribution of sequences length"
      ]
    },
    {
      "cell_type": "code",
      "execution_count": 27,
      "id": "01357bfe",
      "metadata": {
        "colab": {
          "base_uri": "https://localhost:8080/",
          "height": 295
        },
        "id": "01357bfe",
        "outputId": "a398f75d-2adb-4d78-d5c8-1cbda8a4e659"
      },
      "outputs": [
        {
          "data": {
            "image/png": "[encoded data removed]",
            "text/plain": [
              "<Figure size 432x288 with 1 Axes>"
            ]
          },
          "metadata": {
            "needs_background": "light"
          },
          "output_type": "display_data"
        }
      ],
      "source": [
        "data_new['seq_len'] = data_new['sequence'].apply(lambda x: len(x)) \n",
        "data_new['seq_len'].hist(alpha = 0.4, range = [data_new['seq_len'].min(), 2000])\n",
        "plt.title('histogram of overall distribution of sequence len')\n",
        "plt.xlabel('Sequence length')\n",
        "plt.ylabel('Number of sequences')\n",
        "plt.grid(True)"
      ]
    },
    {
      "cell_type": "code",
      "execution_count": null,
      "id": "1c059eae",
      "metadata": {},
      "outputs": [],
      "source": []
    },
    {
      "attachments": {},
      "cell_type": "markdown",
      "id": "fae96bfd",
      "metadata": {},
      "source": [
        "## Aminoacids encoding with LSTM and multiclass classification"
      ]
    },
    {
      "attachments": {},
      "cell_type": "markdown",
      "id": "52783478",
      "metadata": {},
      "source": [
        "Split dataset into train and test"
      ]
    },
    {
      "cell_type": "code",
      "execution_count": 12,
      "id": "41031069",
      "metadata": {
        "colab": {
          "base_uri": "https://localhost:8080/"
        },
        "id": "41031069",
        "outputId": "d271f81a-4485-469a-b0e4-be936a8f67f9"
      },
      "outputs": [
        {
          "name": "stdout",
          "output_type": "stream",
          "text": [
            "Train:  (9382,) (9382,)\n",
            "Test:  (4022,) (4022,)\n"
          ]
        }
      ],
      "source": [
        "y = data_feature_y['ec_lev']\n",
        "x = data_new['sequence']\n",
        "\n",
        "X_train, X_test, y_train, y_test = train_test_split(x, y, test_size = 0.3, random_state = 32, stratify = y)\n",
        "\n",
        "print('Train: ', X_train.shape, y_train.shape)\n",
        "print('Test: ', X_test.shape, y_test.shape)"
      ]
    },
    {
      "cell_type": "code",
      "execution_count": 13,
      "id": "VmlF90n1jZP5",
      "metadata": {
        "colab": {
          "base_uri": "https://localhost:8080/"
        },
        "id": "VmlF90n1jZP5",
        "outputId": "805f2388-8d3a-4dbb-b44e-1d5cd095a38d"
      },
      "outputs": [
        {
          "name": "stdout",
          "output_type": "stream",
          "text": [
            "11183    MSTRKRRGGAINSRQAQKRTREATSTPEISLEAEPIELVETAGDEI...\n",
            "7471     MFSFEGDFKTRPKVSLGGASRKEEKASLLHRTQEERRKREEERRRL...\n",
            "301      MVLMVNLGFVIAEFNRDITYMMEKVAEEHAEFLGATVKYKIVVPGV...\n",
            "4679     MLLAIPSKGRLLDPTLKLLEAIGMRLLASDERALVVPTSWRDVNVI...\n",
            "9062     MIDNIWYKPQLGILSYILSPIAFIFSKIAHNRKIRLQNNQYKSKIP...\n",
            "                               ...                        \n",
            "6761     MDINKARKAKFDELNSGKNLEISRAIEALGDLECACEFSDTINIKF...\n",
            "5355     MSIFLKNKQFENITSQEQTKNNYKQLINDIQTLKKDLNAIILAHYY...\n",
            "4462     MLALGIEGTAHTLGIGIVSEDKVLANVFDTLTTEKGGIHPKEAAEH...\n",
            "10468    MIKKIIFTVTPIFSIPPRGAAAVETWIYQVAKRLSIPNAIACIKNA...\n",
            "12296    MRKNKVDIITLGCSKNLVDSEQLMRQFVANGYTVEHDPHKINGEIV...\n",
            "Name: sequence, Length: 9382, dtype: object\n"
          ]
        }
      ],
      "source": [
        "print(X_train)"
      ]
    },
    {
      "attachments": {},
      "cell_type": "markdown",
      "id": "38951a4a",
      "metadata": {},
      "source": [
        "The hot-encoding datasets were recreated with the structure of 21 columns (one for each amino acid) for the entire length of 100 amino acids, for sequences below 100 amino acids they were padded with 0s. Sequences longer than 100 amino acids were ignored. This limitation was applied in order to lessen the pressure on the required hardware."
      ]
    },
    {
      "cell_type": "code",
      "execution_count": 14,
      "id": "90b98de8",
      "metadata": {
        "id": "90b98de8"
      },
      "outputs": [],
      "source": [
        "from tensorflow.keras.preprocessing.sequence import pad_sequences\n",
        "from tensorflow.keras.utils import to_categorical\n",
        "\n",
        "def hot_encoded_sequence(sequences, seq_len, alphabet, padding_truncating='post'):\n",
        "    sequences_integer_ecoded = []\n",
        "    for seq in sequences:\n",
        "        char_to_int = dict((c, i) for i, c in enumerate(alphabet))  \n",
        "        \n",
        "        int_to_char = dict((i, c) for i, c in enumerate(alphabet))\n",
        "\n",
        "        integer_encoded = [char_to_int[char] for char in seq]\n",
        "        sequences_integer_ecoded.append(integer_encoded)\n",
        "\n",
        "    list_of_sequences_length = pad_sequences(sequences_integer_ecoded, maxlen=seq_len, dtype='int', padding=padding_truncating, truncating=padding_truncating, value=0.0)\n",
        "\n",
        "   \n",
        "    encoded = to_categorical(list_of_sequences_length) \n",
        "    return list_of_sequences_length, encoded"
      ]
    },
    {
      "cell_type": "code",
      "execution_count": 15,
      "id": "e272b4b2",
      "metadata": {
        "colab": {
          "base_uri": "https://localhost:8080/"
        },
        "id": "e272b4b2",
        "outputId": "70a223a8-f2ff-4bce-f39f-50d8a70599cc"
      },
      "outputs": [
        {
          "name": "stdout",
          "output_type": "stream",
          "text": [
            "(9382, 100)\n",
            "(4022, 100)\n",
            "(9382, 100, 21)\n",
            "(4022, 100, 21)\n"
          ]
        }
      ],
      "source": [
        "seq_len = 100\n",
        "fps_x_train, X_train_encoded = hot_encoded_sequence(sequences = X_train, seq_len = seq_len,\n",
        "                                            alphabet = 'XARNDCEQGHILKMFPSTWYV', padding_truncating = 'post')\n",
        "fps_x_test, X_encoded_test = hot_encoded_sequence(sequences = X_test, seq_len = seq_len,\n",
        "                                            alphabet ='XARNDCEQGHILKMFPSTWYV', padding_truncating = 'post')\n",
        "\n",
        "\n",
        "print(fps_x_train.shape)\n",
        "print(fps_x_test.shape)\n",
        "\n",
        "print(X_train_encoded.shape)\n",
        "print(X_encoded_test.shape)"
      ]
    },
    {
      "cell_type": "code",
      "execution_count": 16,
      "id": "f9e97982",
      "metadata": {
        "id": "f9e97982"
      },
      "outputs": [],
      "source": [
        "from tensorflow.keras.layers import Input, Embedding, LSTM, Dense, GRU, BatchNormalization, Masking\n",
        "from tensorflow.keras.layers import Dropout, Bidirectional\n",
        "from sklearn.metrics import make_scorer\n",
        "import tensorflow as tf\n",
        "import os\n",
        "os.environ['TF_CPP_MIN_LOG_LEVEL'] = '2'\n",
        "\n",
        "def lstm_simple(input_dim,len_alphabet,\n",
        "                        optimizer = 'Adam',\n",
        "                        bilstm = True,\n",
        "                        lstm_layers = (128, 128, 64),\n",
        "                        dense_layers = (64, 64, 32),\n",
        "                        activation = 'tanh',\n",
        "                        recurrent_activation = 'sigmoid',\n",
        "                        dense_activation = \"relu\",\n",
        "                        l1 = 1e-5, l2 = 1e-4,\n",
        "                        dropout_rate = (0, 0.3, 0.3), recurrent_dropout_rate = (0.3, ),\n",
        "                        dropout_rate_dense = (0.3, ),\n",
        "                        batchnormalization = (True, ),\n",
        "                        loss_fun = 'sparse_categorical_crossentropy', activation_fun = None,\n",
        "                        cv = None, optType = None, param_grid = None, n_iter_search = 15, n_jobs = 4,\n",
        "                        scoring = make_scorer(matthews_corrcoef)):\n",
        "    model = Sequential()\n",
        "\n",
        "    model.add(Input(shape = (input_dim, len_alphabet,), dtype = 'float32', name = 'main_input'))\n",
        "\n",
        "    model.add(LSTM(64, return_sequences = False))\n",
        "    model.add(Dropout(0.25))\n",
        "\n",
        "    model.add(Dense(32, activation = \"relu\"))\n",
        "    model.add(BatchNormalization())\n",
        "    model.add(Dropout(0.3))\n",
        "\n",
        "    model.add(Dense(7, activation = 'softmax'))\n",
        "    return model\n"
      ]
    },
    {
      "cell_type": "code",
      "execution_count": 17,
      "id": "b3343a6f",
      "metadata": {
        "id": "b3343a6f"
      },
      "outputs": [],
      "source": [
        "model = lstm_simple(input_dim = 100, len_alphabet = 21)\n",
        "\n",
        "es = EarlyStopping(monitor = 'val_loss', mode = 'min', patience = 25, verbose = 1)\n",
        "\n",
        "reduce_lr = ReduceLROnPlateau(monitor = 'val_loss', factor = 0.5, patience = 10, min_lr = 0.00001, verbose = 1)\n",
        "\n",
        "callbacks = [es, reduce_lr]\n",
        "model.compile(optimizer = 'adam', loss = 'sparse_categorical_crossentropy', metrics = ['accuracy']) "
      ]
    },
    {
      "cell_type": "code",
      "execution_count": 18,
      "id": "bd217aa6",
      "metadata": {
        "colab": {
          "base_uri": "https://localhost:8080/"
        },
        "id": "bd217aa6",
        "outputId": "74abcf74-711f-4ac0-ec4a-458315e842be"
      },
      "outputs": [
        {
          "name": "stdout",
          "output_type": "stream",
          "text": [
            "Epoch 1/15\n",
            "26/26 [==============================] - 8s 193ms/step - loss: 2.3081 - accuracy: 0.1264 - val_loss: 2.1614 - val_accuracy: 0.1655 - lr: 0.0010\n",
            "Epoch 2/15\n",
            "26/26 [==============================] - 4s 156ms/step - loss: 2.1654 - accuracy: 0.1631 - val_loss: 2.1346 - val_accuracy: 0.1613 - lr: 0.0010\n",
            "Epoch 3/15\n",
            "26/26 [==============================] - 4s 157ms/step - loss: 2.1064 - accuracy: 0.1876 - val_loss: 2.1041 - val_accuracy: 0.1616 - lr: 0.0010\n",
            "Epoch 4/15\n",
            "26/26 [==============================] - 4s 159ms/step - loss: 2.0540 - accuracy: 0.2135 - val_loss: 2.0722 - val_accuracy: 0.1634 - lr: 0.0010\n",
            "Epoch 5/15\n",
            "26/26 [==============================] - 4s 158ms/step - loss: 1.9940 - accuracy: 0.2500 - val_loss: 2.0404 - val_accuracy: 0.1673 - lr: 0.0010\n",
            "Epoch 6/15\n",
            "26/26 [==============================] - 4s 161ms/step - loss: 1.9457 - accuracy: 0.2535 - val_loss: 2.0100 - val_accuracy: 0.1783 - lr: 0.0010\n",
            "Epoch 7/15\n",
            "26/26 [==============================] - 4s 158ms/step - loss: 1.8976 - accuracy: 0.2701 - val_loss: 1.9825 - val_accuracy: 0.2018 - lr: 0.0010\n",
            "Epoch 8/15\n",
            "26/26 [==============================] - 4s 155ms/step - loss: 1.8653 - accuracy: 0.2806 - val_loss: 1.9656 - val_accuracy: 0.1964 - lr: 0.0010\n",
            "Epoch 9/15\n",
            "26/26 [==============================] - 4s 159ms/step - loss: 1.8455 - accuracy: 0.2877 - val_loss: 1.9427 - val_accuracy: 0.2206 - lr: 0.0010\n",
            "Epoch 10/15\n",
            "26/26 [==============================] - 4s 159ms/step - loss: 1.8144 - accuracy: 0.2936 - val_loss: 1.9236 - val_accuracy: 0.2298 - lr: 0.0010\n",
            "Epoch 11/15\n",
            "26/26 [==============================] - 4s 158ms/step - loss: 1.7953 - accuracy: 0.3026 - val_loss: 1.8988 - val_accuracy: 0.2579 - lr: 0.0010\n",
            "Epoch 12/15\n",
            "26/26 [==============================] - 4s 159ms/step - loss: 1.7735 - accuracy: 0.3138 - val_loss: 1.8744 - val_accuracy: 0.2703 - lr: 0.0010\n",
            "Epoch 13/15\n",
            "26/26 [==============================] - 4s 158ms/step - loss: 1.7627 - accuracy: 0.3145 - val_loss: 1.8593 - val_accuracy: 0.2782 - lr: 0.0010\n",
            "Epoch 14/15\n",
            "26/26 [==============================] - 4s 163ms/step - loss: 1.7434 - accuracy: 0.3208 - val_loss: 1.8502 - val_accuracy: 0.2728 - lr: 0.0010\n",
            "Epoch 15/15\n",
            "26/26 [==============================] - 5s 186ms/step - loss: 1.7304 - accuracy: 0.3307 - val_loss: 1.8153 - val_accuracy: 0.2856 - lr: 0.0010\n"
          ]
        }
      ],
      "source": [
        "history = model.fit(X_train_encoded, y_train, epochs = 15, batch_size = 256, callbacks = callbacks, \n",
        "                        validation_split = 0.3) "
      ]
    },
    {
      "cell_type": "code",
      "execution_count": 19,
      "id": "0e2ae395",
      "metadata": {
        "id": "0e2ae395"
      },
      "outputs": [],
      "source": [
        "tensorflow.keras.backend.clear_session()"
      ]
    },
    {
      "cell_type": "code",
      "execution_count": 20,
      "id": "3a56e8aa",
      "metadata": {
        "colab": {
          "base_uri": "https://localhost:8080/"
        },
        "id": "3a56e8aa",
        "outputId": "5bda5977-a336-4a55-a9bc-695bcc6f7130"
      },
      "outputs": [
        {
          "name": "stdout",
          "output_type": "stream",
          "text": [
            "Model: \"sequential\"\n",
            "_________________________________________________________________\n",
            " Layer (type)                Output Shape              Param #   \n",
            "=================================================================\n",
            " lstm (LSTM)                 (None, 64)                22016     \n",
            "                                                                 \n",
            " dropout (Dropout)           (None, 64)                0         \n",
            "                                                                 \n",
            " dense (Dense)               (None, 32)                2080      \n",
            "                                                                 \n",
            " batch_normalization (BatchN  (None, 32)               128       \n",
            " ormalization)                                                   \n",
            "                                                                 \n",
            " dropout_1 (Dropout)         (None, 32)                0         \n",
            "                                                                 \n",
            " dense_1 (Dense)             (None, 9)                 297       \n",
            "                                                                 \n",
            "=================================================================\n",
            "Total params: 24,521\n",
            "Trainable params: 24,457\n",
            "Non-trainable params: 64\n",
            "_________________________________________________________________\n",
            "None\n"
          ]
        }
      ],
      "source": [
        "print(model.summary())"
      ]
    },
    {
      "cell_type": "code",
      "execution_count": 21,
      "id": "e28IYGBseStG",
      "metadata": {
        "colab": {
          "base_uri": "https://localhost:8080/"
        },
        "id": "e28IYGBseStG",
        "outputId": "2fde88c4-055c-48da-bd41-b53c0d9420d2"
      },
      "outputs": [
        {
          "name": "stdout",
          "output_type": "stream",
          "text": [
            "Training Accuracy:  0.2605756014585495\n",
            "Validation Accuracy:  0.2140674978494644\n",
            "Training Loss:  1.9201117992401122\n",
            "Validation Loss:  1.9756680727005005\n"
          ]
        }
      ],
      "source": [
        "print('Training Accuracy: ', np.mean(history.history['accuracy']))\n",
        "print('Validation Accuracy: ', np.mean(history.history['val_accuracy']))\n",
        "print('Training Loss: ', np.mean(history.history['loss']))\n",
        "print('Validation Loss: ', np.mean(history.history['val_loss']))"
      ]
    },
    {
      "attachments": {},
      "cell_type": "markdown",
      "id": "f50fe39f",
      "metadata": {},
      "source": [
        "## Blosum encoding"
      ]
    },
    {
      "attachments": {},
      "cell_type": "markdown",
      "id": "c6604daf",
      "metadata": {},
      "source": [
        "We used a numeric vector to describe each aminoacid in the sequence. But now we use substitution matrices such as the BLOSUM.\n",
        "The use of substitution and scoring matrices, such as BLOSUM, represents accepted mutations between amino acid pairs. BLOSUM captures evolutionary relationships between AAs."
      ]
    },
    {
      "cell_type": "code",
      "execution_count": 22,
      "id": "YMDoTMu4hPF0",
      "metadata": {
        "id": "YMDoTMu4hPF0"
      },
      "outputs": [],
      "source": [
        "blosum62 = {\n",
        "    'A': [4, -1, -2, -2, 0, -1, -1, 0, -2, -1, -1, -1, -1, -2, -1, 1, 0, -3, -2, 0,-4],\n",
        "    'R': [-1, 5, 0, -2, -3, 1, 0, -2, 0, -3, -2, 2, -1, -3, -2, -1, -1, -3, -2, -3,-4],\n",
        "    'N': [-2, 0, 6, 1, -3, 0, 0, 0, 1, -3, -3, 0, -2, -3, -2, 1, 0, -4, -2, -3,-4],\n",
        "    'D': [-2, -2, 1, 6, -3, 0, 2, -1, -1, -3, -4, -1, -3, -3, -1, 0, -1, -4, -3, -3,-4],\n",
        "    'C': [0, -3, -3, -3, 9, -3, -4, -3, -3, -1, -1, -3, -1, -2, -3, -1, -1, -2, -2, -1,-4],\n",
        "    'Q': [-1, 1, 0, 0, -3, 5, 2, -2, 0, -3, -2, 1, 0, -3, -1, 0, -1, -2, -1, -2,-4],\n",
        "    'E': [-1, 0, 0, 2, -4, 2, 5, -2, 0, -3, -3, 1, -2, -3, -1, 0, -1, -3, -2, -2,-4],\n",
        "    'G': [0, -2, 0, -1, -3, -2, -2, 6, -2, -4, -4, -2, -3, -3, -2, 0, -2, -2, -3, -3,-4],\n",
        "    'H': [-2, 0, 1, -1, -3, 0, 0, -2, 8, -3, -3, -1, -2, -1, -2, -1, -2, -2, 2, -3,-4],\n",
        "    'I': [-1, -3, -3, -3, -1, -3, -3, -4, -3, 4, 2, -3, 1, 0, -3, -2, -1, -3, -1, 3,-4],\n",
        "    'L': [-1, -2, -3, -4, -1, -2, -3, -4, -3, 2, 4, -2, 2, 0, -3, -2, -1, -2, -1, 1,-4],\n",
        "    'K': [-1, 2, 0, -1, -3, 1, 1, -2, -1, -3, -2, 5, -1, -3, -1, 0, -1, -3, -2, -2,-4],\n",
        "    'M': [-1, -1, -2, -3, -1, 0, -2, -3, -2, 1, 2, -1, 5, 0, -2, -1, -1, -1, -1, 1,-4],\n",
        "    'F': [-2, -3, -3, -3, -2, -3, -3, -3, -1, 0, 0, -3, 0, 6, -4, -2, -2, 1, 3, -1,-4],\n",
        "    'P': [-1, -2, -2, -1, -3, -1, -1, -2, -2, -3, -3, -1, -2, -4, 7, -1, -1, -4, -3, -2,-4],\n",
        "    'S': [1, -1, 1, 0, -1, 0, 0, 0, -1, -2, -2, 0, -1, -2, -1, 4, 1, -3, -2, -2,-4],\n",
        "    'T': [0, -1, 0, -1, -1, -1, -1, -2, -2, -1, -1, -1, -1, -2, -1, 1, 5, -2, -2, 0,-4],\n",
        "    'W': [-3, -3, -4, -4, -2, -2, -3, -2, -2, -3, -2, -3, -1, 1, -4, -3, -2, 11, 2, -3,-4],\n",
        "    'Y': [-2, -2, -2, -3, -2, -1, -2, -3, 2, -1, -1, -2, -1, 3, -3, -2, -2, 2, 7, -1,-4],\n",
        "    'V': [0, -3, -3, -3, -1, -2, -2, -3, -3, 3, 1, -2, 1, -1, -2, -2, 0, -3, -1, 4,-4],\n",
        "    'X': [-4,-4,-4,-4,-4,-4,-4,-4,-4,-4,-4,-4,-4,-4,-4,-4,-4,-4,-4,-4,1]\n",
        "}"
      ]
    },
    {
      "attachments": {},
      "cell_type": "markdown",
      "id": "35a027d2",
      "metadata": {},
      "source": [
        "Functions to get each aa in protein sequence as a blosum encoding."
      ]
    },
    {
      "cell_type": "code",
      "execution_count": 23,
      "id": "6Jyb3LzahRO5",
      "metadata": {
        "id": "6Jyb3LzahRO5"
      },
      "outputs": [],
      "source": [
        "def seq_pad(sequences, seq_len, alphabet, padding_truncating = 'post'):\n",
        "    sequences_integer_ecoded = []\n",
        "    for seq in sequences:\n",
        "        char_to_int = dict((c, i) for i, c in enumerate(alphabet))\n",
        "        int_to_char = dict((i, c) for i, c in enumerate(alphabet))\n",
        "        \n",
        "        integer_encoded = [char_to_int[char] for char in seq]\n",
        "        sequences_integer_ecoded.append(integer_encoded)\n",
        "\n",
        "    list_of_sequences_length = pad_sequences(sequences_integer_ecoded, maxlen = seq_len, dtype = 'int32',\n",
        "                                             padding = padding_truncating, truncating = padding_truncating, value = 0)\n",
        "    print(int_to_char)\n",
        "    new_seq = []\n",
        "    for seq in list_of_sequences_length:\n",
        "        integer_encoded = [int_to_char[i] for i in seq]\n",
        "        new_seq.append(integer_encoded)\n",
        "        \n",
        "    return new_seq\n",
        "\n",
        "\n",
        "def blosum(sequences):\n",
        "    bl = []\n",
        "    for seq in sequences:\n",
        "        x = [blosum62.get(i) for i in seq]\n",
        "        bl.append(x)\n",
        "    return bl"
      ]
    },
    {
      "cell_type": "code",
      "execution_count": 24,
      "id": "smg9ITyohWhk",
      "metadata": {
        "colab": {
          "base_uri": "https://localhost:8080/"
        },
        "id": "smg9ITyohWhk",
        "outputId": "faae50c5-b2d9-498f-f690-e67fb98f806c"
      },
      "outputs": [
        {
          "name": "stdout",
          "output_type": "stream",
          "text": [
            "{0: 'X', 1: 'A', 2: 'R', 3: 'N', 4: 'D', 5: 'C', 6: 'E', 7: 'Q', 8: 'G', 9: 'H', 10: 'I', 11: 'L', 12: 'K', 13: 'M', 14: 'F', 15: 'P', 16: 'S', 17: 'T', 18: 'W', 19: 'Y', 20: 'V'}\n",
            "{0: 'X', 1: 'A', 2: 'R', 3: 'N', 4: 'D', 5: 'C', 6: 'E', 7: 'Q', 8: 'G', 9: 'H', 10: 'I', 11: 'L', 12: 'K', 13: 'M', 14: 'F', 15: 'P', 16: 'S', 17: 'T', 18: 'W', 19: 'Y', 20: 'V'}\n"
          ]
        }
      ],
      "source": [
        "seq_len = 100\n",
        "train = seq_pad(sequences = X_train, seq_len = seq_len,\n",
        "                                            alphabet = 'XARNDCEQGHILKMFPSTWYV', padding_truncating = 'post')\n",
        "test = seq_pad(sequences = X_test, seq_len = seq_len,\n",
        "                                            alphabet = 'XARNDCEQGHILKMFPSTWYV', padding_truncating = 'post')"
      ]
    },
    {
      "cell_type": "code",
      "execution_count": 25,
      "id": "ND6S6SkLhZTT",
      "metadata": {
        "id": "ND6S6SkLhZTT"
      },
      "outputs": [],
      "source": [
        "train_bl = np.array(blosum(train))\n",
        "test_bl=np.array(blosum(test))"
      ]
    },
    {
      "cell_type": "code",
      "execution_count": 26,
      "id": "esv18I-DhcjS",
      "metadata": {
        "colab": {
          "base_uri": "https://localhost:8080/"
        },
        "id": "esv18I-DhcjS",
        "outputId": "27a9588d-db76-4428-bd2b-39479eb9f6c1"
      },
      "outputs": [
        {
          "name": "stdout",
          "output_type": "stream",
          "text": [
            "train (9382, 100, 21)\n",
            "test (4022, 100, 21)\n"
          ]
        }
      ],
      "source": [
        "print('train', train_bl.shape) \n",
        "print('test', test_bl.shape)"
      ]
    },
    {
      "cell_type": "code",
      "execution_count": 27,
      "id": "WoQJgYvXhe4s",
      "metadata": {
        "id": "WoQJgYvXhe4s"
      },
      "outputs": [],
      "source": [
        "model = lstm_simple(input_dim = 100, len_alphabet = 21)\n",
        "\n",
        "es = EarlyStopping(monitor = 'val_loss', mode = 'min', patience = 15, verbose = 1)\n",
        "\n",
        "reduce_lr = ReduceLROnPlateau(monitor = 'val_loss', factor = 0.5, patience = 5, min_lr = 0.00001, verbose = 1)\n",
        "\n",
        "callbacks = [es, reduce_lr]\n",
        "model.compile(optimizer = 'adam', loss = 'sparse_categorical_crossentropy', metrics = ['accuracy'])"
      ]
    },
    {
      "cell_type": "code",
      "execution_count": 28,
      "id": "QH7Hy08hhe7B",
      "metadata": {
        "colab": {
          "base_uri": "https://localhost:8080/"
        },
        "id": "QH7Hy08hhe7B",
        "outputId": "b484603d-fe36-41cd-bec6-e3ca2ebae1fb"
      },
      "outputs": [
        {
          "name": "stdout",
          "output_type": "stream",
          "text": [
            "Epoch 1/80\n",
            "26/26 [==============================] - 8s 197ms/step - loss: 2.6692 - accuracy: 0.1198 - val_loss: 2.1689 - val_accuracy: 0.1378 - lr: 0.0010\n",
            "Epoch 2/80\n",
            "26/26 [==============================] - 5s 174ms/step - loss: 2.3821 - accuracy: 0.1392 - val_loss: 2.1219 - val_accuracy: 0.1623 - lr: 0.0010\n",
            "Epoch 3/80\n",
            "26/26 [==============================] - 4s 170ms/step - loss: 2.2690 - accuracy: 0.1547 - val_loss: 2.0773 - val_accuracy: 0.1773 - lr: 0.0010\n",
            "Epoch 4/80\n",
            "26/26 [==============================] - 4s 161ms/step - loss: 2.1792 - accuracy: 0.1826 - val_loss: 2.0547 - val_accuracy: 0.2000 - lr: 0.0010\n",
            "Epoch 5/80\n",
            "26/26 [==============================] - 5s 195ms/step - loss: 2.1258 - accuracy: 0.1929 - val_loss: 2.0303 - val_accuracy: 0.2046 - lr: 0.0010\n",
            "Epoch 6/80\n",
            "26/26 [==============================] - 7s 257ms/step - loss: 2.0794 - accuracy: 0.1955 - val_loss: 1.9922 - val_accuracy: 0.2089 - lr: 0.0010\n",
            "Epoch 7/80\n",
            "26/26 [==============================] - 7s 256ms/step - loss: 2.0310 - accuracy: 0.2146 - val_loss: 1.9536 - val_accuracy: 0.2501 - lr: 0.0010\n",
            "Epoch 8/80\n",
            "26/26 [==============================] - 7s 261ms/step - loss: 1.9844 - accuracy: 0.2411 - val_loss: 1.9119 - val_accuracy: 0.2604 - lr: 0.0010\n",
            "Epoch 9/80\n",
            "26/26 [==============================] - 7s 262ms/step - loss: 1.9159 - accuracy: 0.2651 - val_loss: 1.8548 - val_accuracy: 0.2888 - lr: 0.0010\n",
            "Epoch 10/80\n",
            "26/26 [==============================] - 7s 265ms/step - loss: 1.8871 - accuracy: 0.2776 - val_loss: 1.8180 - val_accuracy: 0.3087 - lr: 0.0010\n",
            "Epoch 11/80\n",
            "26/26 [==============================] - 7s 269ms/step - loss: 1.8348 - accuracy: 0.2924 - val_loss: 1.7830 - val_accuracy: 0.3126 - lr: 0.0010\n",
            "Epoch 12/80\n",
            "26/26 [==============================] - 7s 267ms/step - loss: 1.7971 - accuracy: 0.3073 - val_loss: 1.7435 - val_accuracy: 0.3350 - lr: 0.0010\n",
            "Epoch 13/80\n",
            "26/26 [==============================] - 7s 262ms/step - loss: 1.7625 - accuracy: 0.3183 - val_loss: 1.6901 - val_accuracy: 0.3524 - lr: 0.0010\n",
            "Epoch 14/80\n",
            "26/26 [==============================] - 7s 268ms/step - loss: 1.7251 - accuracy: 0.3405 - val_loss: 1.6877 - val_accuracy: 0.3538 - lr: 0.0010\n",
            "Epoch 15/80\n",
            "26/26 [==============================] - 7s 260ms/step - loss: 1.6824 - accuracy: 0.3521 - val_loss: 1.6459 - val_accuracy: 0.3758 - lr: 0.0010\n",
            "Epoch 16/80\n",
            "26/26 [==============================] - 7s 260ms/step - loss: 1.6346 - accuracy: 0.3749 - val_loss: 1.5851 - val_accuracy: 0.4085 - lr: 0.0010\n",
            "Epoch 17/80\n",
            "26/26 [==============================] - 7s 262ms/step - loss: 1.5958 - accuracy: 0.3956 - val_loss: 1.5687 - val_accuracy: 0.4053 - lr: 0.0010\n",
            "Epoch 18/80\n",
            "26/26 [==============================] - 7s 261ms/step - loss: 1.5557 - accuracy: 0.4046 - val_loss: 1.4733 - val_accuracy: 0.4419 - lr: 0.0010\n",
            "Epoch 19/80\n",
            "26/26 [==============================] - 7s 259ms/step - loss: 1.5224 - accuracy: 0.4258 - val_loss: 1.4460 - val_accuracy: 0.4661 - lr: 0.0010\n",
            "Epoch 20/80\n",
            "26/26 [==============================] - 7s 259ms/step - loss: 1.4906 - accuracy: 0.4446 - val_loss: 1.4206 - val_accuracy: 0.4682 - lr: 0.0010\n",
            "Epoch 21/80\n",
            "26/26 [==============================] - 7s 257ms/step - loss: 1.4605 - accuracy: 0.4584 - val_loss: 1.3888 - val_accuracy: 0.4849 - lr: 0.0010\n",
            "Epoch 22/80\n",
            "26/26 [==============================] - 7s 260ms/step - loss: 1.4351 - accuracy: 0.4612 - val_loss: 1.3940 - val_accuracy: 0.4810 - lr: 0.0010\n",
            "Epoch 23/80\n",
            "26/26 [==============================] - 7s 260ms/step - loss: 1.4104 - accuracy: 0.4727 - val_loss: 1.3689 - val_accuracy: 0.4938 - lr: 0.0010\n",
            "Epoch 24/80\n",
            "26/26 [==============================] - 7s 256ms/step - loss: 1.3745 - accuracy: 0.4859 - val_loss: 1.3685 - val_accuracy: 0.4860 - lr: 0.0010\n",
            "Epoch 25/80\n",
            "26/26 [==============================] - 6s 248ms/step - loss: 1.3535 - accuracy: 0.5005 - val_loss: 1.3046 - val_accuracy: 0.5147 - lr: 0.0010\n",
            "Epoch 26/80\n",
            "26/26 [==============================] - 7s 262ms/step - loss: 1.3176 - accuracy: 0.5158 - val_loss: 1.3326 - val_accuracy: 0.5105 - lr: 0.0010\n",
            "Epoch 27/80\n",
            "26/26 [==============================] - 7s 256ms/step - loss: 1.3145 - accuracy: 0.5174 - val_loss: 1.2951 - val_accuracy: 0.5176 - lr: 0.0010\n",
            "Epoch 28/80\n",
            "26/26 [==============================] - 7s 265ms/step - loss: 1.2730 - accuracy: 0.5359 - val_loss: 1.2818 - val_accuracy: 0.5211 - lr: 0.0010\n",
            "Epoch 29/80\n",
            "26/26 [==============================] - 6s 212ms/step - loss: 1.2546 - accuracy: 0.5349 - val_loss: 1.2567 - val_accuracy: 0.5265 - lr: 0.0010\n",
            "Epoch 30/80\n",
            "26/26 [==============================] - 4s 170ms/step - loss: 1.2363 - accuracy: 0.5494 - val_loss: 1.2712 - val_accuracy: 0.5201 - lr: 0.0010\n",
            "Epoch 31/80\n",
            "26/26 [==============================] - 4s 160ms/step - loss: 1.2055 - accuracy: 0.5602 - val_loss: 1.2660 - val_accuracy: 0.5240 - lr: 0.0010\n",
            "Epoch 32/80\n",
            "26/26 [==============================] - 4s 160ms/step - loss: 1.2112 - accuracy: 0.5573 - val_loss: 1.2575 - val_accuracy: 0.5155 - lr: 0.0010\n",
            "Epoch 33/80\n",
            "26/26 [==============================] - 4s 158ms/step - loss: 1.1782 - accuracy: 0.5759 - val_loss: 1.2431 - val_accuracy: 0.5361 - lr: 0.0010\n",
            "Epoch 34/80\n",
            "26/26 [==============================] - 4s 162ms/step - loss: 1.1700 - accuracy: 0.5753 - val_loss: 1.2228 - val_accuracy: 0.5577 - lr: 0.0010\n",
            "Epoch 35/80\n",
            "26/26 [==============================] - 4s 158ms/step - loss: 1.1379 - accuracy: 0.5893 - val_loss: 1.1976 - val_accuracy: 0.5591 - lr: 0.0010\n",
            "Epoch 36/80\n",
            "26/26 [==============================] - 4s 157ms/step - loss: 1.1202 - accuracy: 0.5943 - val_loss: 1.2255 - val_accuracy: 0.5496 - lr: 0.0010\n",
            "Epoch 37/80\n",
            "26/26 [==============================] - 4s 158ms/step - loss: 1.1073 - accuracy: 0.6013 - val_loss: 1.1806 - val_accuracy: 0.5659 - lr: 0.0010\n",
            "Epoch 38/80\n",
            "26/26 [==============================] - 4s 156ms/step - loss: 1.0880 - accuracy: 0.6067 - val_loss: 1.2088 - val_accuracy: 0.5698 - lr: 0.0010\n",
            "Epoch 39/80\n",
            "26/26 [==============================] - 4s 160ms/step - loss: 1.0526 - accuracy: 0.6254 - val_loss: 1.1745 - val_accuracy: 0.5684 - lr: 0.0010\n",
            "Epoch 40/80\n",
            "26/26 [==============================] - 4s 158ms/step - loss: 1.0560 - accuracy: 0.6170 - val_loss: 1.1556 - val_accuracy: 0.5808 - lr: 0.0010\n",
            "Epoch 41/80\n",
            "26/26 [==============================] - 4s 161ms/step - loss: 1.0152 - accuracy: 0.6365 - val_loss: 1.2140 - val_accuracy: 0.5560 - lr: 0.0010\n",
            "Epoch 42/80\n",
            "26/26 [==============================] - 4s 157ms/step - loss: 1.0635 - accuracy: 0.6243 - val_loss: 1.1990 - val_accuracy: 0.5680 - lr: 0.0010\n",
            "Epoch 43/80\n",
            "26/26 [==============================] - 4s 160ms/step - loss: 1.0168 - accuracy: 0.6385 - val_loss: 1.2196 - val_accuracy: 0.5645 - lr: 0.0010\n",
            "Epoch 44/80\n",
            "26/26 [==============================] - 4s 159ms/step - loss: 0.9977 - accuracy: 0.6406 - val_loss: 1.1389 - val_accuracy: 0.5943 - lr: 0.0010\n",
            "Epoch 45/80\n",
            "26/26 [==============================] - 4s 160ms/step - loss: 0.9666 - accuracy: 0.6577 - val_loss: 1.1848 - val_accuracy: 0.5780 - lr: 0.0010\n",
            "Epoch 46/80\n",
            "26/26 [==============================] - 4s 158ms/step - loss: 0.9516 - accuracy: 0.6674 - val_loss: 1.1117 - val_accuracy: 0.5929 - lr: 0.0010\n",
            "Epoch 47/80\n",
            "26/26 [==============================] - 4s 158ms/step - loss: 0.9096 - accuracy: 0.6784 - val_loss: 1.1423 - val_accuracy: 0.5904 - lr: 0.0010\n",
            "Epoch 48/80\n",
            "26/26 [==============================] - 4s 157ms/step - loss: 0.9657 - accuracy: 0.6575 - val_loss: 1.2672 - val_accuracy: 0.5698 - lr: 0.0010\n",
            "Epoch 49/80\n",
            "26/26 [==============================] - 4s 157ms/step - loss: 0.9471 - accuracy: 0.6703 - val_loss: 1.1275 - val_accuracy: 0.5915 - lr: 0.0010\n",
            "Epoch 50/80\n",
            "26/26 [==============================] - 4s 157ms/step - loss: 0.9167 - accuracy: 0.6735 - val_loss: 1.1439 - val_accuracy: 0.6007 - lr: 0.0010\n",
            "Epoch 51/80\n",
            "26/26 [==============================] - 4s 159ms/step - loss: 0.9030 - accuracy: 0.6840 - val_loss: 1.1101 - val_accuracy: 0.6036 - lr: 0.0010\n",
            "Epoch 52/80\n",
            "26/26 [==============================] - 4s 157ms/step - loss: 0.8789 - accuracy: 0.6880 - val_loss: 1.0981 - val_accuracy: 0.6142 - lr: 0.0010\n",
            "Epoch 53/80\n",
            "26/26 [==============================] - 4s 159ms/step - loss: 0.8486 - accuracy: 0.7008 - val_loss: 1.1012 - val_accuracy: 0.6021 - lr: 0.0010\n",
            "Epoch 54/80\n",
            "26/26 [==============================] - 4s 160ms/step - loss: 0.8413 - accuracy: 0.7038 - val_loss: 1.0803 - val_accuracy: 0.6156 - lr: 0.0010\n",
            "Epoch 55/80\n",
            "26/26 [==============================] - 4s 162ms/step - loss: 0.8211 - accuracy: 0.7113 - val_loss: 1.1079 - val_accuracy: 0.6085 - lr: 0.0010\n",
            "Epoch 56/80\n",
            "26/26 [==============================] - 4s 156ms/step - loss: 0.8229 - accuracy: 0.7108 - val_loss: 1.1702 - val_accuracy: 0.5950 - lr: 0.0010\n",
            "Epoch 57/80\n",
            "26/26 [==============================] - 4s 161ms/step - loss: 0.8161 - accuracy: 0.7111 - val_loss: 1.1565 - val_accuracy: 0.6139 - lr: 0.0010\n",
            "Epoch 58/80\n",
            "26/26 [==============================] - 4s 158ms/step - loss: 0.7816 - accuracy: 0.7291 - val_loss: 1.0955 - val_accuracy: 0.6224 - lr: 0.0010\n",
            "Epoch 59/80\n",
            "26/26 [==============================] - ETA: 0s - loss: 0.7737 - accuracy: 0.7315\n",
            "Epoch 59: ReduceLROnPlateau reducing learning rate to 0.0005000000237487257.\n",
            "26/26 [==============================] - 4s 160ms/step - loss: 0.7737 - accuracy: 0.7315 - val_loss: 1.1316 - val_accuracy: 0.6146 - lr: 0.0010\n",
            "Epoch 60/80\n",
            "26/26 [==============================] - 4s 163ms/step - loss: 0.7559 - accuracy: 0.7334 - val_loss: 1.1331 - val_accuracy: 0.6206 - lr: 5.0000e-04\n",
            "Epoch 61/80\n",
            "26/26 [==============================] - 4s 158ms/step - loss: 0.7257 - accuracy: 0.7454 - val_loss: 1.1073 - val_accuracy: 0.6249 - lr: 5.0000e-04\n",
            "Epoch 62/80\n",
            "26/26 [==============================] - 4s 159ms/step - loss: 0.7124 - accuracy: 0.7501 - val_loss: 1.1018 - val_accuracy: 0.6355 - lr: 5.0000e-04\n",
            "Epoch 63/80\n",
            "26/26 [==============================] - 4s 161ms/step - loss: 0.6853 - accuracy: 0.7605 - val_loss: 1.1094 - val_accuracy: 0.6362 - lr: 5.0000e-04\n",
            "Epoch 64/80\n",
            "26/26 [==============================] - ETA: 0s - loss: 0.6964 - accuracy: 0.7586\n",
            "Epoch 64: ReduceLROnPlateau reducing learning rate to 0.0002500000118743628.\n",
            "26/26 [==============================] - 4s 159ms/step - loss: 0.6964 - accuracy: 0.7586 - val_loss: 1.1080 - val_accuracy: 0.6295 - lr: 5.0000e-04\n",
            "Epoch 65/80\n",
            "26/26 [==============================] - 4s 160ms/step - loss: 0.6773 - accuracy: 0.7688 - val_loss: 1.1170 - val_accuracy: 0.6345 - lr: 2.5000e-04\n",
            "Epoch 66/80\n",
            "26/26 [==============================] - 4s 159ms/step - loss: 0.6535 - accuracy: 0.7794 - val_loss: 1.1268 - val_accuracy: 0.6366 - lr: 2.5000e-04\n",
            "Epoch 67/80\n",
            "26/26 [==============================] - 4s 158ms/step - loss: 0.6534 - accuracy: 0.7755 - val_loss: 1.1148 - val_accuracy: 0.6309 - lr: 2.5000e-04\n",
            "Epoch 68/80\n",
            "26/26 [==============================] - 4s 169ms/step - loss: 0.6479 - accuracy: 0.7786 - val_loss: 1.1126 - val_accuracy: 0.6277 - lr: 2.5000e-04\n",
            "Epoch 69/80\n",
            "26/26 [==============================] - ETA: 0s - loss: 0.6493 - accuracy: 0.7762\n",
            "Epoch 69: ReduceLROnPlateau reducing learning rate to 0.0001250000059371814.\n",
            "26/26 [==============================] - 4s 157ms/step - loss: 0.6493 - accuracy: 0.7762 - val_loss: 1.1248 - val_accuracy: 0.6313 - lr: 2.5000e-04\n",
            "Epoch 69: early stopping\n"
          ]
        }
      ],
      "source": [
        "history = model.fit(train_bl, y_train, epochs = 80, batch_size = 256, callbacks = callbacks, \n",
        "                        validation_split = 0.3) "
      ]
    },
    {
      "cell_type": "code",
      "execution_count": 29,
      "id": "S2yyM7ydkLsp",
      "metadata": {
        "id": "S2yyM7ydkLsp"
      },
      "outputs": [],
      "source": [
        "tensorflow.keras.backend.clear_session()"
      ]
    },
    {
      "cell_type": "code",
      "execution_count": 30,
      "id": "rnUFy0qUkMbR",
      "metadata": {
        "colab": {
          "base_uri": "https://localhost:8080/"
        },
        "id": "rnUFy0qUkMbR",
        "outputId": "54588e2f-2b50-41b3-c3f7-5135d9c213cd"
      },
      "outputs": [
        {
          "name": "stdout",
          "output_type": "stream",
          "text": [
            "Model: \"sequential\"\n",
            "_________________________________________________________________\n",
            " Layer (type)                Output Shape              Param #   \n",
            "=================================================================\n",
            " lstm (LSTM)                 (None, 64)                22016     \n",
            "                                                                 \n",
            " dropout (Dropout)           (None, 64)                0         \n",
            "                                                                 \n",
            " dense (Dense)               (None, 32)                2080      \n",
            "                                                                 \n",
            " batch_normalization (BatchN  (None, 32)               128       \n",
            " ormalization)                                                   \n",
            "                                                                 \n",
            " dropout_1 (Dropout)         (None, 32)                0         \n",
            "                                                                 \n",
            " dense_1 (Dense)             (None, 9)                 297       \n",
            "                                                                 \n",
            "=================================================================\n",
            "Total params: 24,521\n",
            "Trainable params: 24,457\n",
            "Non-trainable params: 64\n",
            "_________________________________________________________________\n",
            "None\n"
          ]
        }
      ],
      "source": [
        "print(model.summary())"
      ]
    },
    {
      "cell_type": "code",
      "execution_count": 31,
      "id": "sg6G6O-5he9z",
      "metadata": {
        "colab": {
          "base_uri": "https://localhost:8080/"
        },
        "id": "sg6G6O-5he9z",
        "outputId": "112015c1-adb4-457d-ce70-a74e14c2a0dc"
      },
      "outputs": [
        {
          "name": "stdout",
          "output_type": "stream",
          "text": [
            "Training Accuracy:  0.5379113408102505\n",
            "Validation Accuracy:  0.49717609994653345\n",
            "Training Loss:  1.2605173458223757\n",
            "Validation Loss:  1.3677933648012686\n"
          ]
        }
      ],
      "source": [
        "print('Training Accuracy: ', np.mean(history.history['accuracy']))\n",
        "print('Validation Accuracy: ', np.mean(history.history['val_accuracy']))\n",
        "print('Training Loss: ', np.mean(history.history['loss']))\n",
        "print('Validation Loss: ', np.mean(history.history['val_loss']))"
      ]
    },
    {
      "cell_type": "code",
      "execution_count": 32,
      "id": "ccGoLudFhfAb",
      "metadata": {
        "colab": {
          "base_uri": "https://localhost:8080/",
          "height": 590
        },
        "id": "ccGoLudFhfAb",
        "outputId": "ee2a3fb3-dd6f-4785-d5e8-fca1892b9a54"
      },
      "outputs": [
        {
          "data": {
            "image/png": "[encoded data removed]",
            "text/plain": [
              "<Figure size 432x288 with 1 Axes>"
            ]
          },
          "metadata": {
            "needs_background": "light"
          },
          "output_type": "display_data"
        },
        {
          "data": {
            "image/png": "[encoded data removed]",
            "text/plain": [
              "<Figure size 432x288 with 1 Axes>"
            ]
          },
          "metadata": {
            "needs_background": "light"
          },
          "output_type": "display_data"
        },
        {
          "data": {
            "text/plain": [
              "<Figure size 432x288 with 0 Axes>"
            ]
          },
          "metadata": {},
          "output_type": "display_data"
        }
      ],
      "source": [
        "plot_summary_accuracy(model)\n",
        "plot_summary_loss(model)"
      ]
    },
    {
      "cell_type": "code",
      "execution_count": 67,
      "id": "vxjOKm_5pjv-",
      "metadata": {
        "id": "vxjOKm_5pjv-"
      },
      "outputs": [],
      "source": [
        "from sklearn.metrics import accuracy_score, matthews_corrcoef, multilabel_confusion_matrix\n",
        "\n",
        "def model_evaluate_multi(X_test=None, y_test=None, model=None):\n",
        "    scores = {}\n",
        "  \n",
        "    y_prob = model.predict(X_test) \n",
        "    y_pred = np.argmax(y_prob,axis=1)\n",
        "\n",
        "    scores['Accuracy'] = accuracy_score(y_test, y_pred)\n",
        "    scores['MCC'] = matthews_corrcoef(y_test, y_pred)\n",
        "    scores['precision'] = precision_score(y_test, y_pred, average='weighted')\n",
        "    scores['recall'] = recall_score(y_test, y_pred, average='weighted')\n",
        "    cm2 = multilabel_confusion_matrix(y_test, y_pred)\n",
        "    \n",
        "    return scores, cm2"
      ]
    },
    {
      "cell_type": "code",
      "execution_count": 55,
      "id": "7RjrmaSFmaeY",
      "metadata": {
        "colab": {
          "base_uri": "https://localhost:8080/",
          "height": 322
        },
        "id": "7RjrmaSFmaeY",
        "outputId": "c12106ee-7ad5-4a88-b409-e8cd80822cf2"
      },
      "outputs": [
        {
          "name": "stdout",
          "output_type": "stream",
          "text": [
            "126/126 [==============================] - 1s 11ms/step\n"
          ]
        }
      ],
      "source": [
        "scores, cm2 = model_evaluate_multi(X_test=test_bl, y_test=y_test, model=model)"
      ]
    },
    {
      "cell_type": "code",
      "execution_count": 56,
      "id": "uULx4gpHmahL",
      "metadata": {
        "id": "uULx4gpHmahL"
      },
      "outputs": [
        {
          "data": {
            "text/plain": [
              "{'Accuracy': 0.6176031824962706,\n",
              " 'MCC': 0.553728883467832,\n",
              " 'precision': 0.6231810750158294,\n",
              " 'recall': 0.6176031824962706}"
            ]
          },
          "execution_count": 56,
          "metadata": {},
          "output_type": "execute_result"
        }
      ],
      "source": [
        "scores"
      ]
    },
    {
      "attachments": {},
      "cell_type": "markdown",
      "id": "4c222b97",
      "metadata": {},
      "source": [
        "## Z scale encoding"
      ]
    },
    {
      "attachments": {},
      "cell_type": "markdown",
      "id": "aed5a2b2",
      "metadata": {},
      "source": [
        "Z scale represents physicochemical properties of each aminoacid.\n",
        "Physicochemical character based schemes are usually derived by PCA of a large property matrix used to described individual AAs. \n",
        "\n",
        "Z-scales are 5 dimension vectors based on 26 physicochemical properties of the AAs. Each Z scale represent an amino-acid property including lipophilicity, Steric properties, Electronic properties, electronegativity, heat of formation, electrophilicity and hardness."
      ]
    },
    {
      "cell_type": "code",
      "execution_count": null,
      "id": "446f59ea",
      "metadata": {},
      "outputs": [],
      "source": [
        "zs = {\n",
        "    'A': [0.24, -2.32, 0.60, -0.14, 1.30],  \n",
        "    'C': [0.84, -1.67, 3.71, 0.18, -2.65],  \n",
        "    'D': [3.98, 0.93, 1.93, -2.46, 0.75],  \n",
        "    'E': [3.11, 0.26, -0.11, -0.34, -0.25],  \n",
        "    'F': [-4.22, 1.94, 1.06, 0.54, -0.62],  \n",
        "    'G': [2.05, -4.06, 0.36, -0.82, -0.38],  \n",
        "    'H': [2.47, 1.95, 0.26, 3.90, 0.09],  \n",
        "    'I': [-3.89, -1.73, -1.71, -0.84, 0.26],  \n",
        "    'K': [2.29, 0.89, -2.49, 1.49, 0.31],  \n",
        "    'L': [-4.28, -1.30, -1.49, -0.72, 0.84],  \n",
        "    'M': [-2.85, -0.22, 0.47, 1.94, -0.98],  \n",
        "    'N': [3.05, 1.62, 1.04, -1.15, 1.61],  \n",
        "    'P': [-1.66, 0.27, 1.84, 0.70, 2.00],  \n",
        "    'Q': [1.75, 0.50, -1.44, -1.34, 0.66],  \n",
        "    'R': [3.52, 2.50, -3.50, 1.99, -0.17],  \n",
        "    'S': [2.39, -1.07, 1.15, -1.39, 0.67], \n",
        "    'T': [0.75, -2.18, -1.12, -1.46, -0.40],  \n",
        "    'V': [-2.59, -2.64, -1.54, -0.85, -0.02],  \n",
        "    'W': [-4.36, 3.94, 0.59, 3.44, -1.59],  \n",
        "    'Y': [-2.54, 2.44, 0.43, 0.04, -1.47], \n",
        "    'X': [0.0, 0.0, 0.0, 0.0, 0.0]\n",
        "}"
      ]
    },
    {
      "attachments": {},
      "cell_type": "markdown",
      "id": "fbf3a942",
      "metadata": {},
      "source": [
        "Function to get each aa in protein sequence as z scale encoding"
      ]
    },
    {
      "cell_type": "code",
      "execution_count": null,
      "id": "6817ede5",
      "metadata": {},
      "outputs": [],
      "source": [
        "def zscale(sequences):\n",
        "    zl = []\n",
        "    for seq in sequences:\n",
        "        x = [zs.get(i) for i in seq]\n",
        "        zl.append(x)\n",
        "    return zl"
      ]
    },
    {
      "cell_type": "code",
      "execution_count": 57,
      "id": "0RMGv4x0makR",
      "metadata": {
        "id": "0RMGv4x0makR"
      },
      "outputs": [],
      "source": [
        "train_zl = np.array(zscale(train))\n",
        "test_zl=np.array(zscale(test))"
      ]
    },
    {
      "cell_type": "code",
      "execution_count": 58,
      "id": "_87fH-gWmanC",
      "metadata": {
        "id": "_87fH-gWmanC"
      },
      "outputs": [
        {
          "name": "stdout",
          "output_type": "stream",
          "text": [
            "train (9382, 100, 5)\n",
            "test (4022, 100, 5)\n"
          ]
        }
      ],
      "source": [
        "print('train', train_zl.shape)  \n",
        "print('test', test_zl.shape)"
      ]
    },
    {
      "cell_type": "code",
      "execution_count": 61,
      "id": "vwNhDajomkom",
      "metadata": {
        "id": "vwNhDajomkom"
      },
      "outputs": [],
      "source": [
        "model = lstm_simple(input_dim = 100,len_alphabet=5)\n",
        "\n",
        "es = EarlyStopping(monitor='val_loss', mode='min', patience=10, verbose=1)\n",
        "\n",
        "reduce_lr = ReduceLROnPlateau(monitor='val_loss', factor=0.5,patience=5, min_lr=0.00001, verbose=1)\n",
        "\n",
        "callbacks = [es, reduce_lr]\n",
        "model.compile(optimizer='adam', loss='sparse_categorical_crossentropy', metrics=['accuracy'])"
      ]
    },
    {
      "cell_type": "code",
      "execution_count": 62,
      "id": "ZH-1mqU6mkx1",
      "metadata": {
        "id": "ZH-1mqU6mkx1"
      },
      "outputs": [
        {
          "name": "stdout",
          "output_type": "stream",
          "text": [
            "Epoch 1/80\n",
            "26/26 [==============================] - 6s 138ms/step - loss: 2.6763 - accuracy: 0.1215 - val_loss: 2.1739 - val_accuracy: 0.1496 - lr: 0.0010\n",
            "Epoch 2/80\n",
            "26/26 [==============================] - 3s 109ms/step - loss: 2.3774 - accuracy: 0.1573 - val_loss: 2.1497 - val_accuracy: 0.1478 - lr: 0.0010\n",
            "Epoch 3/80\n",
            "26/26 [==============================] - 3s 103ms/step - loss: 2.2744 - accuracy: 0.1709 - val_loss: 2.1234 - val_accuracy: 0.1499 - lr: 0.0010\n",
            "Epoch 4/80\n",
            "26/26 [==============================] - 3s 102ms/step - loss: 2.1955 - accuracy: 0.1867 - val_loss: 2.0951 - val_accuracy: 0.1574 - lr: 0.0010\n",
            "Epoch 5/80\n",
            "26/26 [==============================] - 3s 106ms/step - loss: 2.1394 - accuracy: 0.1998 - val_loss: 2.0690 - val_accuracy: 0.1755 - lr: 0.0010\n",
            "Epoch 6/80\n",
            "26/26 [==============================] - 3s 104ms/step - loss: 2.0763 - accuracy: 0.2149 - val_loss: 2.0320 - val_accuracy: 0.1947 - lr: 0.0010\n",
            "Epoch 7/80\n",
            "26/26 [==============================] - 3s 127ms/step - loss: 2.0195 - accuracy: 0.2382 - val_loss: 1.9990 - val_accuracy: 0.2117 - lr: 0.0010\n",
            "Epoch 8/80\n",
            "26/26 [==============================] - 3s 125ms/step - loss: 1.9619 - accuracy: 0.2554 - val_loss: 1.9358 - val_accuracy: 0.2611 - lr: 0.0010\n",
            "Epoch 9/80\n",
            "26/26 [==============================] - 3s 118ms/step - loss: 1.9048 - accuracy: 0.2752 - val_loss: 1.9247 - val_accuracy: 0.2448 - lr: 0.0010\n",
            "Epoch 10/80\n",
            "26/26 [==============================] - 3s 120ms/step - loss: 1.8784 - accuracy: 0.2805 - val_loss: 1.8412 - val_accuracy: 0.2941 - lr: 0.0010\n",
            "Epoch 11/80\n",
            "26/26 [==============================] - 3s 119ms/step - loss: 1.8248 - accuracy: 0.3001 - val_loss: 1.7882 - val_accuracy: 0.3066 - lr: 0.0010\n",
            "Epoch 12/80\n",
            "26/26 [==============================] - 3s 120ms/step - loss: 1.7901 - accuracy: 0.3074 - val_loss: 1.7444 - val_accuracy: 0.3307 - lr: 0.0010\n",
            "Epoch 13/80\n",
            "26/26 [==============================] - 3s 128ms/step - loss: 1.7559 - accuracy: 0.3166 - val_loss: 1.7265 - val_accuracy: 0.3279 - lr: 0.0010\n",
            "Epoch 14/80\n",
            "26/26 [==============================] - 3s 129ms/step - loss: 1.7441 - accuracy: 0.3155 - val_loss: 1.7685 - val_accuracy: 0.2906 - lr: 0.0010\n",
            "Epoch 15/80\n",
            "26/26 [==============================] - 4s 151ms/step - loss: 1.6991 - accuracy: 0.3346 - val_loss: 1.7252 - val_accuracy: 0.3353 - lr: 0.0010\n",
            "Epoch 16/80\n",
            "26/26 [==============================] - 4s 139ms/step - loss: 1.7065 - accuracy: 0.3367 - val_loss: 1.6763 - val_accuracy: 0.3496 - lr: 0.0010\n",
            "Epoch 17/80\n",
            "26/26 [==============================] - 3s 134ms/step - loss: 1.6798 - accuracy: 0.3420 - val_loss: 1.6569 - val_accuracy: 0.3655 - lr: 0.0010\n",
            "Epoch 18/80\n",
            "26/26 [==============================] - 3s 120ms/step - loss: 1.6566 - accuracy: 0.3516 - val_loss: 1.6234 - val_accuracy: 0.3705 - lr: 0.0010\n",
            "Epoch 19/80\n",
            "26/26 [==============================] - 3s 117ms/step - loss: 1.6370 - accuracy: 0.3610 - val_loss: 1.5977 - val_accuracy: 0.3897 - lr: 0.0010\n",
            "Epoch 20/80\n",
            "26/26 [==============================] - 3s 120ms/step - loss: 1.6142 - accuracy: 0.3636 - val_loss: 1.5840 - val_accuracy: 0.3861 - lr: 0.0010\n",
            "Epoch 21/80\n",
            "26/26 [==============================] - 3s 117ms/step - loss: 1.6036 - accuracy: 0.3641 - val_loss: 1.6011 - val_accuracy: 0.3751 - lr: 0.0010\n",
            "Epoch 22/80\n",
            "26/26 [==============================] - 3s 119ms/step - loss: 1.5841 - accuracy: 0.3842 - val_loss: 1.5389 - val_accuracy: 0.4036 - lr: 0.0010\n",
            "Epoch 23/80\n",
            "26/26 [==============================] - 3s 121ms/step - loss: 1.5599 - accuracy: 0.3898 - val_loss: 1.5914 - val_accuracy: 0.3808 - lr: 0.0010\n",
            "Epoch 24/80\n",
            "26/26 [==============================] - 3s 120ms/step - loss: 1.5497 - accuracy: 0.3977 - val_loss: 1.5084 - val_accuracy: 0.4167 - lr: 0.0010\n",
            "Epoch 25/80\n",
            "26/26 [==============================] - 3s 117ms/step - loss: 1.5271 - accuracy: 0.4031 - val_loss: 1.5055 - val_accuracy: 0.4199 - lr: 0.0010\n",
            "Epoch 26/80\n",
            "26/26 [==============================] - 3s 122ms/step - loss: 1.5132 - accuracy: 0.4019 - val_loss: 1.6426 - val_accuracy: 0.3798 - lr: 0.0010\n",
            "Epoch 27/80\n",
            "26/26 [==============================] - 3s 119ms/step - loss: 1.5141 - accuracy: 0.4083 - val_loss: 1.4927 - val_accuracy: 0.4153 - lr: 0.0010\n",
            "Epoch 28/80\n",
            "26/26 [==============================] - 3s 117ms/step - loss: 1.4979 - accuracy: 0.4198 - val_loss: 1.5038 - val_accuracy: 0.4192 - lr: 0.0010\n",
            "Epoch 29/80\n",
            "26/26 [==============================] - 3s 119ms/step - loss: 1.4873 - accuracy: 0.4194 - val_loss: 1.4582 - val_accuracy: 0.4359 - lr: 0.0010\n",
            "Epoch 30/80\n",
            "26/26 [==============================] - 3s 120ms/step - loss: 1.4585 - accuracy: 0.4274 - val_loss: 1.4386 - val_accuracy: 0.4508 - lr: 0.0010\n",
            "Epoch 31/80\n",
            "26/26 [==============================] - 3s 117ms/step - loss: 1.4437 - accuracy: 0.4457 - val_loss: 1.4545 - val_accuracy: 0.4401 - lr: 0.0010\n",
            "Epoch 32/80\n",
            "26/26 [==============================] - 3s 121ms/step - loss: 1.4462 - accuracy: 0.4311 - val_loss: 1.4565 - val_accuracy: 0.4359 - lr: 0.0010\n",
            "Epoch 33/80\n",
            "26/26 [==============================] - 3s 118ms/step - loss: 1.4296 - accuracy: 0.4402 - val_loss: 1.4417 - val_accuracy: 0.4501 - lr: 0.0010\n",
            "Epoch 34/80\n",
            "26/26 [==============================] - 3s 118ms/step - loss: 1.4243 - accuracy: 0.4503 - val_loss: 1.4179 - val_accuracy: 0.4508 - lr: 0.0010\n",
            "Epoch 35/80\n",
            "26/26 [==============================] - 3s 121ms/step - loss: 1.3988 - accuracy: 0.4584 - val_loss: 1.4477 - val_accuracy: 0.4455 - lr: 0.0010\n",
            "Epoch 36/80\n",
            "26/26 [==============================] - 3s 122ms/step - loss: 1.3963 - accuracy: 0.4579 - val_loss: 1.3991 - val_accuracy: 0.4639 - lr: 0.0010\n",
            "Epoch 37/80\n",
            "26/26 [==============================] - 3s 116ms/step - loss: 1.3729 - accuracy: 0.4743 - val_loss: 1.4300 - val_accuracy: 0.4462 - lr: 0.0010\n",
            "Epoch 38/80\n",
            "26/26 [==============================] - 3s 120ms/step - loss: 1.3613 - accuracy: 0.4841 - val_loss: 1.3899 - val_accuracy: 0.4664 - lr: 0.0010\n",
            "Epoch 39/80\n",
            "26/26 [==============================] - 3s 118ms/step - loss: 1.3603 - accuracy: 0.4792 - val_loss: 1.3685 - val_accuracy: 0.4909 - lr: 0.0010\n",
            "Epoch 40/80\n",
            "26/26 [==============================] - 3s 119ms/step - loss: 1.3317 - accuracy: 0.4896 - val_loss: 1.3906 - val_accuracy: 0.4771 - lr: 0.0010\n",
            "Epoch 41/80\n",
            "26/26 [==============================] - 3s 117ms/step - loss: 1.3489 - accuracy: 0.4783 - val_loss: 1.4117 - val_accuracy: 0.4661 - lr: 0.0010\n",
            "Epoch 42/80\n",
            "26/26 [==============================] - 3s 118ms/step - loss: 1.3210 - accuracy: 0.4990 - val_loss: 1.3458 - val_accuracy: 0.4938 - lr: 0.0010\n",
            "Epoch 43/80\n",
            "26/26 [==============================] - 3s 117ms/step - loss: 1.3125 - accuracy: 0.4976 - val_loss: 1.3591 - val_accuracy: 0.4821 - lr: 0.0010\n",
            "Epoch 44/80\n",
            "26/26 [==============================] - 3s 119ms/step - loss: 1.3143 - accuracy: 0.4970 - val_loss: 1.4117 - val_accuracy: 0.4782 - lr: 0.0010\n",
            "Epoch 45/80\n",
            "26/26 [==============================] - 3s 117ms/step - loss: 1.3030 - accuracy: 0.5083 - val_loss: 1.3810 - val_accuracy: 0.4725 - lr: 0.0010\n",
            "Epoch 46/80\n",
            "26/26 [==============================] - 3s 121ms/step - loss: 1.2993 - accuracy: 0.5065 - val_loss: 1.3709 - val_accuracy: 0.4732 - lr: 0.0010\n",
            "Epoch 47/80\n",
            "26/26 [==============================] - 3s 118ms/step - loss: 1.2691 - accuracy: 0.5234 - val_loss: 1.3271 - val_accuracy: 0.4892 - lr: 0.0010\n",
            "Epoch 48/80\n",
            "26/26 [==============================] - 3s 120ms/step - loss: 1.2605 - accuracy: 0.5267 - val_loss: 1.2916 - val_accuracy: 0.5119 - lr: 0.0010\n",
            "Epoch 49/80\n",
            "26/26 [==============================] - 3s 116ms/step - loss: 1.2485 - accuracy: 0.5222 - val_loss: 1.3247 - val_accuracy: 0.4980 - lr: 0.0010\n",
            "Epoch 50/80\n",
            "26/26 [==============================] - 3s 121ms/step - loss: 1.2366 - accuracy: 0.5321 - val_loss: 1.3541 - val_accuracy: 0.4813 - lr: 0.0010\n",
            "Epoch 51/80\n",
            "26/26 [==============================] - 3s 122ms/step - loss: 1.2351 - accuracy: 0.5333 - val_loss: 1.3503 - val_accuracy: 0.4941 - lr: 0.0010\n",
            "Epoch 52/80\n",
            "26/26 [==============================] - 3s 121ms/step - loss: 1.2255 - accuracy: 0.5381 - val_loss: 1.3268 - val_accuracy: 0.5091 - lr: 0.0010\n",
            "Epoch 53/80\n",
            "26/26 [==============================] - ETA: 0s - loss: 1.2146 - accuracy: 0.5436\n",
            "Epoch 53: ReduceLROnPlateau reducing learning rate to 0.0005000000237487257.\n",
            "26/26 [==============================] - 3s 119ms/step - loss: 1.2146 - accuracy: 0.5436 - val_loss: 1.3478 - val_accuracy: 0.4956 - lr: 0.0010\n",
            "Epoch 54/80\n",
            "26/26 [==============================] - 3s 126ms/step - loss: 1.1848 - accuracy: 0.5499 - val_loss: 1.2968 - val_accuracy: 0.5108 - lr: 5.0000e-04\n",
            "Epoch 55/80\n",
            "26/26 [==============================] - 3s 130ms/step - loss: 1.1709 - accuracy: 0.5590 - val_loss: 1.2739 - val_accuracy: 0.5130 - lr: 5.0000e-04\n",
            "Epoch 56/80\n",
            "26/26 [==============================] - 3s 118ms/step - loss: 1.1573 - accuracy: 0.5637 - val_loss: 1.2769 - val_accuracy: 0.5112 - lr: 5.0000e-04\n",
            "Epoch 57/80\n",
            "26/26 [==============================] - 3s 118ms/step - loss: 1.1624 - accuracy: 0.5598 - val_loss: 1.2747 - val_accuracy: 0.5204 - lr: 5.0000e-04\n",
            "Epoch 58/80\n",
            "26/26 [==============================] - 3s 117ms/step - loss: 1.1446 - accuracy: 0.5720 - val_loss: 1.2965 - val_accuracy: 0.5261 - lr: 5.0000e-04\n",
            "Epoch 59/80\n",
            "26/26 [==============================] - 3s 118ms/step - loss: 1.1371 - accuracy: 0.5767 - val_loss: 1.3009 - val_accuracy: 0.5130 - lr: 5.0000e-04\n",
            "Epoch 60/80\n",
            "26/26 [==============================] - ETA: 0s - loss: 1.1276 - accuracy: 0.5777\n",
            "Epoch 60: ReduceLROnPlateau reducing learning rate to 0.0002500000118743628.\n",
            "26/26 [==============================] - 3s 120ms/step - loss: 1.1276 - accuracy: 0.5777 - val_loss: 1.2746 - val_accuracy: 0.5183 - lr: 5.0000e-04\n",
            "Epoch 61/80\n",
            "26/26 [==============================] - 3s 121ms/step - loss: 1.1175 - accuracy: 0.5802 - val_loss: 1.2549 - val_accuracy: 0.5243 - lr: 2.5000e-04\n",
            "Epoch 62/80\n",
            "26/26 [==============================] - 3s 118ms/step - loss: 1.1239 - accuracy: 0.5803 - val_loss: 1.2722 - val_accuracy: 0.5197 - lr: 2.5000e-04\n",
            "Epoch 63/80\n",
            "26/26 [==============================] - 3s 116ms/step - loss: 1.1134 - accuracy: 0.5825 - val_loss: 1.2850 - val_accuracy: 0.5147 - lr: 2.5000e-04\n",
            "Epoch 64/80\n",
            "26/26 [==============================] - 3s 118ms/step - loss: 1.1080 - accuracy: 0.5870 - val_loss: 1.2667 - val_accuracy: 0.5229 - lr: 2.5000e-04\n",
            "Epoch 65/80\n",
            "26/26 [==============================] - 3s 118ms/step - loss: 1.1037 - accuracy: 0.5805 - val_loss: 1.2922 - val_accuracy: 0.5247 - lr: 2.5000e-04\n",
            "Epoch 66/80\n",
            "26/26 [==============================] - ETA: 0s - loss: 1.1056 - accuracy: 0.5916\n",
            "Epoch 66: ReduceLROnPlateau reducing learning rate to 0.0001250000059371814.\n",
            "26/26 [==============================] - 3s 119ms/step - loss: 1.1056 - accuracy: 0.5916 - val_loss: 1.2634 - val_accuracy: 0.5261 - lr: 2.5000e-04\n",
            "Epoch 67/80\n",
            "26/26 [==============================] - 3s 125ms/step - loss: 1.0914 - accuracy: 0.5916 - val_loss: 1.2578 - val_accuracy: 0.5286 - lr: 1.2500e-04\n",
            "Epoch 68/80\n",
            "26/26 [==============================] - 3s 119ms/step - loss: 1.0899 - accuracy: 0.5966 - val_loss: 1.2700 - val_accuracy: 0.5314 - lr: 1.2500e-04\n",
            "Epoch 69/80\n",
            "26/26 [==============================] - 3s 116ms/step - loss: 1.0843 - accuracy: 0.5972 - val_loss: 1.2608 - val_accuracy: 0.5314 - lr: 1.2500e-04\n",
            "Epoch 70/80\n",
            "26/26 [==============================] - 3s 120ms/step - loss: 1.0797 - accuracy: 0.5997 - val_loss: 1.2696 - val_accuracy: 0.5321 - lr: 1.2500e-04\n",
            "Epoch 71/80\n",
            "26/26 [==============================] - ETA: 0s - loss: 1.0733 - accuracy: 0.5968\n",
            "Epoch 71: ReduceLROnPlateau reducing learning rate to 6.25000029685907e-05.\n",
            "26/26 [==============================] - 3s 118ms/step - loss: 1.0733 - accuracy: 0.5968 - val_loss: 1.2606 - val_accuracy: 0.5293 - lr: 1.2500e-04\n",
            "Epoch 71: early stopping\n"
          ]
        }
      ],
      "source": [
        "history = model.fit(train_zl, y_train, epochs=80, batch_size=256, callbacks=callbacks, validation_split = 0.3) "
      ]
    },
    {
      "cell_type": "code",
      "execution_count": 63,
      "id": "WPaJXENrmk7o",
      "metadata": {
        "id": "WPaJXENrmk7o"
      },
      "outputs": [],
      "source": [
        "tensorflow.keras.backend.clear_session()"
      ]
    },
    {
      "cell_type": "code",
      "execution_count": 64,
      "id": "UA2XHx-Wmr4z",
      "metadata": {
        "id": "UA2XHx-Wmr4z"
      },
      "outputs": [
        {
          "name": "stdout",
          "output_type": "stream",
          "text": [
            "Training Accuracy:  0.43950224909144386\n",
            "Validation Accuracy:  0.4203687484415484\n",
            "Training Loss:  1.473758381856999\n",
            "Validation Loss:  1.5107388294918436\n"
          ]
        }
      ],
      "source": [
        "print('Training Accuracy: ', np.mean(history.history['accuracy']))\n",
        "print('Validation Accuracy: ', np.mean(history.history['val_accuracy']))\n",
        "print('Training Loss: ', np.mean(history.history['loss']))\n",
        "print('Validation Loss: ', np.mean(history.history['val_loss']))"
      ]
    },
    {
      "cell_type": "code",
      "execution_count": 65,
      "id": "C0sGNKIsmsDc",
      "metadata": {
        "id": "C0sGNKIsmsDc"
      },
      "outputs": [
        {
          "data": {
            "image/png": "[encoded data removed]",
            "text/plain": [
              "<Figure size 432x288 with 1 Axes>"
            ]
          },
          "metadata": {
            "needs_background": "light"
          },
          "output_type": "display_data"
        },
        {
          "data": {
            "image/png": "[encoded data removed]",
            "text/plain": [
              "<Figure size 432x288 with 1 Axes>"
            ]
          },
          "metadata": {
            "needs_background": "light"
          },
          "output_type": "display_data"
        },
        {
          "data": {
            "text/plain": [
              "<Figure size 432x288 with 0 Axes>"
            ]
          },
          "metadata": {},
          "output_type": "display_data"
        }
      ],
      "source": [
        "plot_summary_accuracy(model)\n",
        "plot_summary_loss(model)"
      ]
    },
    {
      "cell_type": "code",
      "execution_count": 69,
      "id": "B-7BkJVemsMU",
      "metadata": {
        "id": "B-7BkJVemsMU"
      },
      "outputs": [
        {
          "name": "stdout",
          "output_type": "stream",
          "text": [
            "126/126 [==============================] - 2s 12ms/step\n"
          ]
        },
        {
          "data": {
            "text/plain": [
              "{'Accuracy': 0.538040775733466,\n",
              " 'MCC': 0.46062436832725373,\n",
              " 'precision': 0.5455593576443954,\n",
              " 'recall': 0.538040775733466}"
            ]
          },
          "execution_count": 69,
          "metadata": {},
          "output_type": "execute_result"
        }
      ],
      "source": [
        "scores, cm2 = model_evaluate_multi(X_test=test_zl, y_test=y_test, model=model)\n",
        "scores"
      ]
    },
    {
      "attachments": {},
      "cell_type": "markdown",
      "id": "3503c4d1",
      "metadata": {},
      "source": [
        "## Embedding encoding"
      ]
    },
    {
      "attachments": {},
      "cell_type": "markdown",
      "id": "37908f2f",
      "metadata": {},
      "source": [
        "Using the embedding layers we encoded a learnable part of the model. The model encodes and extracts patterns in data relevant and specific for the problem in question."
      ]
    },
    {
      "cell_type": "code",
      "execution_count": 76,
      "id": "w9b-co7ZmsUI",
      "metadata": {
        "id": "w9b-co7ZmsUI"
      },
      "outputs": [],
      "source": [
        "def lstm_embedding(output_dim,input_dim,\n",
        "                               optimizer='Adam',\n",
        "                               lstm_layers=(32,),\n",
        "                               activation='tanh',\n",
        "                               recurrent_activation='sigmoid',\n",
        "                               dropout_rate=(0.1,),\n",
        "                               l1=1e-5, l2=1e-4,\n",
        "                               dense_layers=(32, 16),\n",
        "                               dropout_rate_dense=(0.1, 0.1),\n",
        "                               dense_activation=\"relu\", loss='sparse_categorical_crossentropy'):\n",
        "    model = Sequential()    \n",
        "    len_alphabet = 21\n",
        "\n",
        "    model.add(Embedding(input_dim=len_alphabet, output_dim=output_dim))\n",
        "    model.add(LSTM(64, return_sequences = False))\n",
        "    model.add(Dropout(0.25))\n",
        "\n",
        "    model.add(Dense(32, activation=\"relu\"))\n",
        "    model.add(BatchNormalization())\n",
        "    model.add(Dropout(0.3))\n",
        "\n",
        "    model.add(Dense(7, activation='softmax'))\n",
        "    return model"
      ]
    },
    {
      "cell_type": "code",
      "execution_count": 74,
      "id": "m8ZFAL3xmscT",
      "metadata": {
        "id": "m8ZFAL3xmscT"
      },
      "outputs": [],
      "source": [
        "model = lstm_embedding(output_dim = 5, input_dim = 100)\n",
        "\n",
        "es = EarlyStopping(monitor='val_loss', mode='min', patience=5, verbose=1)\n",
        "\n",
        "reduce_lr = ReduceLROnPlateau(monitor='val_loss', factor=0.5,patience=5, min_lr=0.00001, verbose=1)\n",
        "\n",
        "callbacks = [es, reduce_lr]\n",
        "model.compile(optimizer='adam', loss='sparse_categorical_crossentropy', metrics=['accuracy'])"
      ]
    },
    {
      "cell_type": "code",
      "execution_count": 77,
      "id": "9rTvpCW0m6x2",
      "metadata": {
        "id": "9rTvpCW0m6x2"
      },
      "outputs": [
        {
          "name": "stdout",
          "output_type": "stream",
          "text": [
            "Epoch 1/80\n",
            "26/26 [==============================] - 3s 126ms/step - loss: 1.9425 - accuracy: 0.2628 - val_loss: 2.0307 - val_accuracy: 0.1769 - lr: 0.0010\n",
            "Epoch 2/80\n",
            "26/26 [==============================] - 3s 122ms/step - loss: 1.9102 - accuracy: 0.2720 - val_loss: 2.0095 - val_accuracy: 0.1496 - lr: 0.0010\n",
            "Epoch 3/80\n",
            "26/26 [==============================] - 4s 146ms/step - loss: 1.8813 - accuracy: 0.2723 - val_loss: 1.9866 - val_accuracy: 0.1496 - lr: 0.0010\n",
            "Epoch 4/80\n",
            "26/26 [==============================] - 4s 150ms/step - loss: 1.8558 - accuracy: 0.2779 - val_loss: 1.9674 - val_accuracy: 0.1474 - lr: 0.0010\n",
            "Epoch 5/80\n",
            "26/26 [==============================] - 4s 149ms/step - loss: 1.8411 - accuracy: 0.2711 - val_loss: 1.9521 - val_accuracy: 0.1702 - lr: 0.0010\n",
            "Epoch 6/80\n",
            "26/26 [==============================] - 4s 146ms/step - loss: 1.8208 - accuracy: 0.2811 - val_loss: 1.9424 - val_accuracy: 0.1691 - lr: 0.0010\n",
            "Epoch 7/80\n",
            "26/26 [==============================] - 4s 145ms/step - loss: 1.8101 - accuracy: 0.2819 - val_loss: 1.9167 - val_accuracy: 0.1936 - lr: 0.0010\n",
            "Epoch 8/80\n",
            "26/26 [==============================] - 4s 143ms/step - loss: 1.7958 - accuracy: 0.2939 - val_loss: 1.9245 - val_accuracy: 0.1673 - lr: 0.0010\n",
            "Epoch 9/80\n",
            "26/26 [==============================] - 4s 149ms/step - loss: 1.7908 - accuracy: 0.2975 - val_loss: 1.9088 - val_accuracy: 0.1925 - lr: 0.0010\n",
            "Epoch 10/80\n",
            "26/26 [==============================] - 4s 154ms/step - loss: 1.7860 - accuracy: 0.2934 - val_loss: 1.8997 - val_accuracy: 0.2174 - lr: 0.0010\n",
            "Epoch 11/80\n",
            "26/26 [==============================] - 4s 145ms/step - loss: 1.7849 - accuracy: 0.2956 - val_loss: 1.8911 - val_accuracy: 0.2025 - lr: 0.0010\n",
            "Epoch 12/80\n",
            "26/26 [==============================] - 4s 150ms/step - loss: 1.7761 - accuracy: 0.2937 - val_loss: 1.8913 - val_accuracy: 0.2174 - lr: 0.0010\n",
            "Epoch 13/80\n",
            "26/26 [==============================] - 4s 144ms/step - loss: 1.7675 - accuracy: 0.2983 - val_loss: 1.8575 - val_accuracy: 0.2263 - lr: 0.0010\n",
            "Epoch 14/80\n",
            "26/26 [==============================] - 4s 141ms/step - loss: 1.7693 - accuracy: 0.2986 - val_loss: 1.8545 - val_accuracy: 0.2288 - lr: 0.0010\n",
            "Epoch 15/80\n",
            "26/26 [==============================] - 4s 142ms/step - loss: 1.7502 - accuracy: 0.3046 - val_loss: 1.8339 - val_accuracy: 0.2512 - lr: 0.0010\n",
            "Epoch 16/80\n",
            "26/26 [==============================] - 4s 143ms/step - loss: 1.7488 - accuracy: 0.3041 - val_loss: 1.8441 - val_accuracy: 0.2590 - lr: 0.0010\n",
            "Epoch 17/80\n",
            "26/26 [==============================] - 4s 144ms/step - loss: 1.7555 - accuracy: 0.3018 - val_loss: 1.8356 - val_accuracy: 0.2504 - lr: 0.0010\n",
            "Epoch 18/80\n",
            "26/26 [==============================] - 4s 144ms/step - loss: 1.7277 - accuracy: 0.3146 - val_loss: 1.7792 - val_accuracy: 0.2828 - lr: 0.0010\n",
            "Epoch 19/80\n",
            "26/26 [==============================] - 4s 143ms/step - loss: 1.7343 - accuracy: 0.3155 - val_loss: 1.7782 - val_accuracy: 0.2870 - lr: 0.0010\n",
            "Epoch 20/80\n",
            "26/26 [==============================] - 4s 144ms/step - loss: 1.7351 - accuracy: 0.3176 - val_loss: 1.7444 - val_accuracy: 0.3119 - lr: 0.0010\n",
            "Epoch 21/80\n",
            "26/26 [==============================] - 4s 142ms/step - loss: 1.7164 - accuracy: 0.3236 - val_loss: 1.7267 - val_accuracy: 0.3169 - lr: 0.0010\n",
            "Epoch 22/80\n",
            "26/26 [==============================] - 4s 148ms/step - loss: 1.7170 - accuracy: 0.3219 - val_loss: 1.7237 - val_accuracy: 0.3059 - lr: 0.0010\n",
            "Epoch 23/80\n",
            "26/26 [==============================] - 4s 144ms/step - loss: 1.6944 - accuracy: 0.3297 - val_loss: 1.6972 - val_accuracy: 0.3215 - lr: 0.0010\n",
            "Epoch 24/80\n",
            "26/26 [==============================] - 4s 149ms/step - loss: 1.6965 - accuracy: 0.3335 - val_loss: 1.7258 - val_accuracy: 0.3012 - lr: 0.0010\n",
            "Epoch 25/80\n",
            "26/26 [==============================] - 4s 143ms/step - loss: 1.6819 - accuracy: 0.3349 - val_loss: 1.7039 - val_accuracy: 0.3353 - lr: 0.0010\n",
            "Epoch 26/80\n",
            "26/26 [==============================] - 4s 146ms/step - loss: 1.6927 - accuracy: 0.3370 - val_loss: 1.7070 - val_accuracy: 0.3272 - lr: 0.0010\n",
            "Epoch 27/80\n",
            "26/26 [==============================] - 4s 142ms/step - loss: 1.6862 - accuracy: 0.3384 - val_loss: 1.6563 - val_accuracy: 0.3432 - lr: 0.0010\n",
            "Epoch 28/80\n",
            "26/26 [==============================] - 4s 145ms/step - loss: 1.6689 - accuracy: 0.3455 - val_loss: 1.6899 - val_accuracy: 0.3218 - lr: 0.0010\n",
            "Epoch 29/80\n",
            "26/26 [==============================] - 4s 144ms/step - loss: 1.6568 - accuracy: 0.3536 - val_loss: 1.6992 - val_accuracy: 0.3265 - lr: 0.0010\n",
            "Epoch 30/80\n",
            "26/26 [==============================] - 4s 144ms/step - loss: 1.6813 - accuracy: 0.3391 - val_loss: 1.6843 - val_accuracy: 0.3400 - lr: 0.0010\n",
            "Epoch 31/80\n",
            "26/26 [==============================] - 4s 145ms/step - loss: 1.6817 - accuracy: 0.3428 - val_loss: 1.7406 - val_accuracy: 0.3268 - lr: 0.0010\n",
            "Epoch 32/80\n",
            "26/26 [==============================] - ETA: 0s - loss: 1.6587 - accuracy: 0.3440\n",
            "Epoch 32: ReduceLROnPlateau reducing learning rate to 0.0005000000237487257.\n",
            "26/26 [==============================] - 4s 144ms/step - loss: 1.6587 - accuracy: 0.3440 - val_loss: 1.7567 - val_accuracy: 0.3101 - lr: 0.0010\n",
            "Epoch 32: early stopping\n"
          ]
        }
      ],
      "source": [
        "history = model.fit(fps_x_train, y_train, epochs=80, batch_size=256, callbacks=callbacks, validation_split = 0.3) \n"
      ]
    },
    {
      "cell_type": "code",
      "execution_count": 78,
      "id": "6DapQ4xAm8xZ",
      "metadata": {
        "id": "6DapQ4xAm8xZ"
      },
      "outputs": [],
      "source": [
        "tensorflow.keras.backend.clear_session()"
      ]
    },
    {
      "cell_type": "code",
      "execution_count": 79,
      "id": "mkjhlAvXm85O",
      "metadata": {
        "id": "mkjhlAvXm85O"
      },
      "outputs": [
        {
          "name": "stdout",
          "output_type": "stream",
          "text": [
            "Training Accuracy:  0.30913088377565145\n",
            "Validation Accuracy:  0.25397424725815654\n",
            "Training Loss:  1.756753958761692\n",
            "Validation Loss:  1.8237334825098515\n"
          ]
        }
      ],
      "source": [
        "print('Training Accuracy: ', np.mean(history.history['accuracy']))\n",
        "print('Validation Accuracy: ', np.mean(history.history['val_accuracy']))\n",
        "print('Training Loss: ', np.mean(history.history['loss']))\n",
        "print('Validation Loss: ', np.mean(history.history['val_loss']))"
      ]
    },
    {
      "cell_type": "code",
      "execution_count": 80,
      "id": "1p6TrrAAnBZY",
      "metadata": {
        "id": "1p6TrrAAnBZY"
      },
      "outputs": [
        {
          "data": {
            "image/png": "[encoded data removed]",
            "text/plain": [
              "<Figure size 432x288 with 1 Axes>"
            ]
          },
          "metadata": {
            "needs_background": "light"
          },
          "output_type": "display_data"
        },
        {
          "data": {
            "image/png": "[encoded data removed]",
            "text/plain": [
              "<Figure size 432x288 with 1 Axes>"
            ]
          },
          "metadata": {
            "needs_background": "light"
          },
          "output_type": "display_data"
        },
        {
          "data": {
            "text/plain": [
              "<Figure size 432x288 with 0 Axes>"
            ]
          },
          "metadata": {},
          "output_type": "display_data"
        }
      ],
      "source": [
        "plot_summary_accuracy(model)\n",
        "plot_summary_loss(model)"
      ]
    },
    {
      "cell_type": "code",
      "execution_count": 82,
      "id": "eyEbjxx7nBg3",
      "metadata": {
        "id": "eyEbjxx7nBg3"
      },
      "outputs": [
        {
          "name": "stdout",
          "output_type": "stream",
          "text": [
            "126/126 [==============================] - 2s 13ms/step\n"
          ]
        },
        {
          "data": {
            "text/plain": [
              "{'Accuracy': 0.3112879164594729,\n",
              " 'MCC': 0.20525444447948726,\n",
              " 'precision': 0.33312584602050244,\n",
              " 'recall': 0.3112879164594729}"
            ]
          },
          "execution_count": 82,
          "metadata": {},
          "output_type": "execute_result"
        }
      ],
      "source": [
        "scores, cm2 = model_evaluate_multi(X_test=fps_x_test, y_test=y_test, model=model)\n",
        "scores"
      ]
    },
    {
      "cell_type": "code",
      "execution_count": 83,
      "id": "DA0k0pvUnBoE",
      "metadata": {
        "id": "DA0k0pvUnBoE"
      },
      "outputs": [
        {
          "name": "stdout",
          "output_type": "stream",
          "text": [
            "Model: \"sequential_1\"\n",
            "_________________________________________________________________\n",
            " Layer (type)                Output Shape              Param #   \n",
            "=================================================================\n",
            " embedding_1 (Embedding)     (None, None, 5)           105       \n",
            "                                                                 \n",
            " lstm_1 (LSTM)               (None, 64)                17920     \n",
            "                                                                 \n",
            " dropout_2 (Dropout)         (None, 64)                0         \n",
            "                                                                 \n",
            " dense_2 (Dense)             (None, 32)                2080      \n",
            "                                                                 \n",
            " batch_normalization_1 (Batc  (None, 32)               128       \n",
            " hNormalization)                                                 \n",
            "                                                                 \n",
            " dropout_3 (Dropout)         (None, 32)                0         \n",
            "                                                                 \n",
            " dense_3 (Dense)             (None, 9)                 297       \n",
            "                                                                 \n",
            "=================================================================\n",
            "Total params: 20,530\n",
            "Trainable params: 20,466\n",
            "Non-trainable params: 64\n",
            "_________________________________________________________________\n",
            "None\n"
          ]
        }
      ],
      "source": [
        "print(model.summary())"
      ]
    },
    {
      "attachments": {},
      "cell_type": "markdown",
      "id": "ef59ac27",
      "metadata": {},
      "source": [
        "Get the weights of the embedding"
      ]
    },
    {
      "cell_type": "code",
      "execution_count": 84,
      "id": "fVRcJeMxnBvH",
      "metadata": {
        "id": "fVRcJeMxnBvH"
      },
      "outputs": [
        {
          "data": {
            "text/html": [
              "<div>\n",
              "<style scoped>\n",
              "    .dataframe tbody tr th:only-of-type {\n",
              "        vertical-align: middle;\n",
              "    }\n",
              "\n",
              "    .dataframe tbody tr th {\n",
              "        vertical-align: top;\n",
              "    }\n",
              "\n",
              "    .dataframe thead th {\n",
              "        text-align: right;\n",
              "    }\n",
              "</style>\n",
              "<table border=\"1\" class=\"dataframe\">\n",
              "  <thead>\n",
              "    <tr style=\"text-align: right;\">\n",
              "      <th></th>\n",
              "      <th>0</th>\n",
              "      <th>1</th>\n",
              "      <th>2</th>\n",
              "      <th>3</th>\n",
              "      <th>4</th>\n",
              "    </tr>\n",
              "  </thead>\n",
              "  <tbody>\n",
              "    <tr>\n",
              "      <th>0</th>\n",
              "      <td>-0.084863</td>\n",
              "      <td>-0.018710</td>\n",
              "      <td>0.018058</td>\n",
              "      <td>-0.112691</td>\n",
              "      <td>-0.114571</td>\n",
              "    </tr>\n",
              "    <tr>\n",
              "      <th>1</th>\n",
              "      <td>-0.086352</td>\n",
              "      <td>0.090027</td>\n",
              "      <td>-0.035261</td>\n",
              "      <td>0.003998</td>\n",
              "      <td>0.003221</td>\n",
              "    </tr>\n",
              "    <tr>\n",
              "      <th>2</th>\n",
              "      <td>0.004539</td>\n",
              "      <td>-0.018867</td>\n",
              "      <td>0.001237</td>\n",
              "      <td>-0.117329</td>\n",
              "      <td>-0.089070</td>\n",
              "    </tr>\n",
              "    <tr>\n",
              "      <th>3</th>\n",
              "      <td>0.108309</td>\n",
              "      <td>-0.046057</td>\n",
              "      <td>-0.110385</td>\n",
              "      <td>-0.035461</td>\n",
              "      <td>0.088830</td>\n",
              "    </tr>\n",
              "    <tr>\n",
              "      <th>4</th>\n",
              "      <td>-0.029379</td>\n",
              "      <td>-0.080477</td>\n",
              "      <td>-0.028824</td>\n",
              "      <td>-0.090675</td>\n",
              "      <td>-0.005313</td>\n",
              "    </tr>\n",
              "    <tr>\n",
              "      <th>5</th>\n",
              "      <td>0.182208</td>\n",
              "      <td>0.110061</td>\n",
              "      <td>-0.089275</td>\n",
              "      <td>0.023507</td>\n",
              "      <td>-0.056136</td>\n",
              "    </tr>\n",
              "    <tr>\n",
              "      <th>6</th>\n",
              "      <td>0.003138</td>\n",
              "      <td>-0.009290</td>\n",
              "      <td>-0.120747</td>\n",
              "      <td>0.016459</td>\n",
              "      <td>-0.068218</td>\n",
              "    </tr>\n",
              "    <tr>\n",
              "      <th>7</th>\n",
              "      <td>0.041138</td>\n",
              "      <td>0.008096</td>\n",
              "      <td>-0.025083</td>\n",
              "      <td>-0.086749</td>\n",
              "      <td>0.025290</td>\n",
              "    </tr>\n",
              "    <tr>\n",
              "      <th>8</th>\n",
              "      <td>0.025089</td>\n",
              "      <td>-0.027470</td>\n",
              "      <td>0.012634</td>\n",
              "      <td>0.051160</td>\n",
              "      <td>0.016339</td>\n",
              "    </tr>\n",
              "    <tr>\n",
              "      <th>9</th>\n",
              "      <td>-0.058176</td>\n",
              "      <td>-0.014777</td>\n",
              "      <td>-0.058160</td>\n",
              "      <td>-0.036379</td>\n",
              "      <td>0.055234</td>\n",
              "    </tr>\n",
              "    <tr>\n",
              "      <th>10</th>\n",
              "      <td>-0.004710</td>\n",
              "      <td>-0.012471</td>\n",
              "      <td>0.058482</td>\n",
              "      <td>0.141091</td>\n",
              "      <td>-0.025174</td>\n",
              "    </tr>\n",
              "    <tr>\n",
              "      <th>11</th>\n",
              "      <td>-0.046198</td>\n",
              "      <td>0.033459</td>\n",
              "      <td>0.061391</td>\n",
              "      <td>0.079725</td>\n",
              "      <td>0.104739</td>\n",
              "    </tr>\n",
              "    <tr>\n",
              "      <th>12</th>\n",
              "      <td>0.009314</td>\n",
              "      <td>0.059992</td>\n",
              "      <td>0.002698</td>\n",
              "      <td>-0.090557</td>\n",
              "      <td>-0.048444</td>\n",
              "    </tr>\n",
              "    <tr>\n",
              "      <th>13</th>\n",
              "      <td>-0.083852</td>\n",
              "      <td>0.016734</td>\n",
              "      <td>0.042538</td>\n",
              "      <td>0.067938</td>\n",
              "      <td>0.076832</td>\n",
              "    </tr>\n",
              "    <tr>\n",
              "      <th>14</th>\n",
              "      <td>0.010841</td>\n",
              "      <td>-0.064399</td>\n",
              "      <td>0.073631</td>\n",
              "      <td>0.039307</td>\n",
              "      <td>-0.001048</td>\n",
              "    </tr>\n",
              "    <tr>\n",
              "      <th>15</th>\n",
              "      <td>-0.025432</td>\n",
              "      <td>-0.048635</td>\n",
              "      <td>-0.012045</td>\n",
              "      <td>-0.074732</td>\n",
              "      <td>0.083243</td>\n",
              "    </tr>\n",
              "    <tr>\n",
              "      <th>16</th>\n",
              "      <td>0.091054</td>\n",
              "      <td>-0.021197</td>\n",
              "      <td>0.030819</td>\n",
              "      <td>-0.076922</td>\n",
              "      <td>0.030625</td>\n",
              "    </tr>\n",
              "    <tr>\n",
              "      <th>17</th>\n",
              "      <td>0.098640</td>\n",
              "      <td>-0.012155</td>\n",
              "      <td>0.006137</td>\n",
              "      <td>0.018328</td>\n",
              "      <td>0.015455</td>\n",
              "    </tr>\n",
              "    <tr>\n",
              "      <th>18</th>\n",
              "      <td>-0.018615</td>\n",
              "      <td>0.054480</td>\n",
              "      <td>0.061022</td>\n",
              "      <td>-0.133956</td>\n",
              "      <td>-0.000146</td>\n",
              "    </tr>\n",
              "    <tr>\n",
              "      <th>19</th>\n",
              "      <td>-0.093521</td>\n",
              "      <td>-0.153682</td>\n",
              "      <td>-0.035187</td>\n",
              "      <td>-0.098202</td>\n",
              "      <td>0.013859</td>\n",
              "    </tr>\n",
              "    <tr>\n",
              "      <th>20</th>\n",
              "      <td>0.024007</td>\n",
              "      <td>-0.046269</td>\n",
              "      <td>0.033365</td>\n",
              "      <td>0.096641</td>\n",
              "      <td>-0.059953</td>\n",
              "    </tr>\n",
              "  </tbody>\n",
              "</table>\n",
              "</div>"
            ],
            "text/plain": [
              "           0         1         2         3         4\n",
              "0  -0.084863 -0.018710  0.018058 -0.112691 -0.114571\n",
              "1  -0.086352  0.090027 -0.035261  0.003998  0.003221\n",
              "2   0.004539 -0.018867  0.001237 -0.117329 -0.089070\n",
              "3   0.108309 -0.046057 -0.110385 -0.035461  0.088830\n",
              "4  -0.029379 -0.080477 -0.028824 -0.090675 -0.005313\n",
              "5   0.182208  0.110061 -0.089275  0.023507 -0.056136\n",
              "6   0.003138 -0.009290 -0.120747  0.016459 -0.068218\n",
              "7   0.041138  0.008096 -0.025083 -0.086749  0.025290\n",
              "8   0.025089 -0.027470  0.012634  0.051160  0.016339\n",
              "9  -0.058176 -0.014777 -0.058160 -0.036379  0.055234\n",
              "10 -0.004710 -0.012471  0.058482  0.141091 -0.025174\n",
              "11 -0.046198  0.033459  0.061391  0.079725  0.104739\n",
              "12  0.009314  0.059992  0.002698 -0.090557 -0.048444\n",
              "13 -0.083852  0.016734  0.042538  0.067938  0.076832\n",
              "14  0.010841 -0.064399  0.073631  0.039307 -0.001048\n",
              "15 -0.025432 -0.048635 -0.012045 -0.074732  0.083243\n",
              "16  0.091054 -0.021197  0.030819 -0.076922  0.030625\n",
              "17  0.098640 -0.012155  0.006137  0.018328  0.015455\n",
              "18 -0.018615  0.054480  0.061022 -0.133956 -0.000146\n",
              "19 -0.093521 -0.153682 -0.035187 -0.098202  0.013859\n",
              "20  0.024007 -0.046269  0.033365  0.096641 -0.059953"
            ]
          },
          "execution_count": 84,
          "metadata": {},
          "output_type": "execute_result"
        }
      ],
      "source": [
        "emb_wei_5 = pd.DataFrame(model.layers[0].get_weights()[0])\n",
        "emb_wei_5"
      ]
    },
    {
      "cell_type": "code",
      "execution_count": 85,
      "id": "_ShdULPVnB1W",
      "metadata": {
        "id": "_ShdULPVnB1W"
      },
      "outputs": [],
      "source": [
        "model = lstm_embedding(output_dim = 21, input_dim = 100)\n",
        "\n",
        "es = EarlyStopping(monitor='val_loss', mode='min', patience=5, verbose=1)\n",
        "\n",
        "reduce_lr = ReduceLROnPlateau(monitor='val_loss', factor=0.5,patience=5, min_lr=0.00001, verbose=1)\n",
        "\n",
        "callbacks = [es, reduce_lr]\n",
        "model.compile(optimizer='adam', loss='sparse_categorical_crossentropy', metrics=['accuracy'])"
      ]
    },
    {
      "cell_type": "code",
      "execution_count": 86,
      "id": "uu-6Op4FnB7Z",
      "metadata": {
        "id": "uu-6Op4FnB7Z"
      },
      "outputs": [
        {
          "name": "stdout",
          "output_type": "stream",
          "text": [
            "Epoch 1/80\n",
            "26/26 [==============================] - 5s 127ms/step - loss: 2.1757 - accuracy: 0.1533 - val_loss: 2.1618 - val_accuracy: 0.1496 - lr: 0.0010\n",
            "Epoch 2/80\n",
            "26/26 [==============================] - 3s 108ms/step - loss: 2.1052 - accuracy: 0.2144 - val_loss: 2.1202 - val_accuracy: 0.1492 - lr: 0.0010\n",
            "Epoch 3/80\n",
            "26/26 [==============================] - 3s 115ms/step - loss: 2.0249 - accuracy: 0.2429 - val_loss: 2.0811 - val_accuracy: 0.1496 - lr: 0.0010\n",
            "Epoch 4/80\n",
            "26/26 [==============================] - 3s 120ms/step - loss: 1.9533 - accuracy: 0.2715 - val_loss: 2.0415 - val_accuracy: 0.1496 - lr: 0.0010\n",
            "Epoch 5/80\n",
            "26/26 [==============================] - 3s 130ms/step - loss: 1.9033 - accuracy: 0.2837 - val_loss: 2.0122 - val_accuracy: 0.1492 - lr: 0.0010\n",
            "Epoch 6/80\n",
            "26/26 [==============================] - 3s 131ms/step - loss: 1.8687 - accuracy: 0.2869 - val_loss: 1.9855 - val_accuracy: 0.1492 - lr: 0.0010\n",
            "Epoch 7/80\n",
            "26/26 [==============================] - 3s 127ms/step - loss: 1.8515 - accuracy: 0.2968 - val_loss: 1.9717 - val_accuracy: 0.1524 - lr: 0.0010\n",
            "Epoch 8/80\n",
            "26/26 [==============================] - 3s 130ms/step - loss: 1.8154 - accuracy: 0.2985 - val_loss: 1.9555 - val_accuracy: 0.1652 - lr: 0.0010\n",
            "Epoch 9/80\n",
            "26/26 [==============================] - 4s 138ms/step - loss: 1.8118 - accuracy: 0.2982 - val_loss: 1.9448 - val_accuracy: 0.1741 - lr: 0.0010\n",
            "Epoch 10/80\n",
            "26/26 [==============================] - 4s 138ms/step - loss: 1.7930 - accuracy: 0.3050 - val_loss: 1.9293 - val_accuracy: 0.1890 - lr: 0.0010\n",
            "Epoch 11/80\n",
            "26/26 [==============================] - 4s 136ms/step - loss: 1.7673 - accuracy: 0.3082 - val_loss: 1.8953 - val_accuracy: 0.2565 - lr: 0.0010\n",
            "Epoch 12/80\n",
            "26/26 [==============================] - 4s 142ms/step - loss: 1.7561 - accuracy: 0.3189 - val_loss: 1.8901 - val_accuracy: 0.2242 - lr: 0.0010\n",
            "Epoch 13/80\n",
            "26/26 [==============================] - 4s 141ms/step - loss: 1.7395 - accuracy: 0.3277 - val_loss: 1.8687 - val_accuracy: 0.2554 - lr: 0.0010\n",
            "Epoch 14/80\n",
            "26/26 [==============================] - 3s 134ms/step - loss: 1.7127 - accuracy: 0.3352 - val_loss: 1.8670 - val_accuracy: 0.2377 - lr: 0.0010\n",
            "Epoch 15/80\n",
            "26/26 [==============================] - 3s 128ms/step - loss: 1.6989 - accuracy: 0.3493 - val_loss: 1.8384 - val_accuracy: 0.2693 - lr: 0.0010\n",
            "Epoch 16/80\n",
            "26/26 [==============================] - 3s 136ms/step - loss: 1.6848 - accuracy: 0.3557 - val_loss: 1.8106 - val_accuracy: 0.2963 - lr: 0.0010\n",
            "Epoch 17/80\n",
            "26/26 [==============================] - 3s 127ms/step - loss: 1.6728 - accuracy: 0.3604 - val_loss: 1.7910 - val_accuracy: 0.3059 - lr: 0.0010\n",
            "Epoch 18/80\n",
            "26/26 [==============================] - 3s 126ms/step - loss: 1.6555 - accuracy: 0.3706 - val_loss: 1.7505 - val_accuracy: 0.3332 - lr: 0.0010\n",
            "Epoch 19/80\n",
            "26/26 [==============================] - 3s 127ms/step - loss: 1.6663 - accuracy: 0.3606 - val_loss: 1.7562 - val_accuracy: 0.3375 - lr: 0.0010\n",
            "Epoch 20/80\n",
            "26/26 [==============================] - 3s 126ms/step - loss: 1.6412 - accuracy: 0.3784 - val_loss: 1.7158 - val_accuracy: 0.3375 - lr: 0.0010\n",
            "Epoch 21/80\n",
            "26/26 [==============================] - 3s 121ms/step - loss: 1.6392 - accuracy: 0.3754 - val_loss: 1.6968 - val_accuracy: 0.3563 - lr: 0.0010\n",
            "Epoch 22/80\n",
            "26/26 [==============================] - 3s 129ms/step - loss: 1.6202 - accuracy: 0.3802 - val_loss: 1.6633 - val_accuracy: 0.3741 - lr: 0.0010\n",
            "Epoch 23/80\n",
            "26/26 [==============================] - 3s 125ms/step - loss: 1.6040 - accuracy: 0.3950 - val_loss: 1.6116 - val_accuracy: 0.3925 - lr: 0.0010\n",
            "Epoch 24/80\n",
            "26/26 [==============================] - 3s 131ms/step - loss: 1.6086 - accuracy: 0.3847 - val_loss: 1.6632 - val_accuracy: 0.3535 - lr: 0.0010\n",
            "Epoch 25/80\n",
            "26/26 [==============================] - 3s 127ms/step - loss: 1.6134 - accuracy: 0.3790 - val_loss: 1.5728 - val_accuracy: 0.3986 - lr: 0.0010\n",
            "Epoch 26/80\n",
            "26/26 [==============================] - 3s 127ms/step - loss: 1.5789 - accuracy: 0.3955 - val_loss: 1.5760 - val_accuracy: 0.4007 - lr: 0.0010\n",
            "Epoch 27/80\n",
            "26/26 [==============================] - 3s 132ms/step - loss: 1.5808 - accuracy: 0.3915 - val_loss: 1.5367 - val_accuracy: 0.4085 - lr: 0.0010\n",
            "Epoch 28/80\n",
            "26/26 [==============================] - 3s 127ms/step - loss: 1.5581 - accuracy: 0.4092 - val_loss: 1.5245 - val_accuracy: 0.4281 - lr: 0.0010\n",
            "Epoch 29/80\n",
            "26/26 [==============================] - 3s 122ms/step - loss: 1.5534 - accuracy: 0.4110 - val_loss: 1.5412 - val_accuracy: 0.4242 - lr: 0.0010\n",
            "Epoch 30/80\n",
            "26/26 [==============================] - 3s 132ms/step - loss: 1.5599 - accuracy: 0.4105 - val_loss: 1.5166 - val_accuracy: 0.4238 - lr: 0.0010\n",
            "Epoch 31/80\n",
            "26/26 [==============================] - 3s 128ms/step - loss: 1.5301 - accuracy: 0.4203 - val_loss: 1.5292 - val_accuracy: 0.4195 - lr: 0.0010\n",
            "Epoch 32/80\n",
            "26/26 [==============================] - 3s 128ms/step - loss: 1.5317 - accuracy: 0.4169 - val_loss: 1.5704 - val_accuracy: 0.3982 - lr: 0.0010\n",
            "Epoch 33/80\n",
            "26/26 [==============================] - 3s 128ms/step - loss: 1.5299 - accuracy: 0.4142 - val_loss: 1.4716 - val_accuracy: 0.4448 - lr: 0.0010\n",
            "Epoch 34/80\n",
            "26/26 [==============================] - 3s 127ms/step - loss: 1.4983 - accuracy: 0.4288 - val_loss: 1.4433 - val_accuracy: 0.4551 - lr: 0.0010\n",
            "Epoch 35/80\n",
            "26/26 [==============================] - 3s 130ms/step - loss: 1.4914 - accuracy: 0.4319 - val_loss: 1.4752 - val_accuracy: 0.4412 - lr: 0.0010\n",
            "Epoch 36/80\n",
            "26/26 [==============================] - 3s 129ms/step - loss: 1.4751 - accuracy: 0.4344 - val_loss: 1.4500 - val_accuracy: 0.4490 - lr: 0.0010\n",
            "Epoch 37/80\n",
            "26/26 [==============================] - 3s 125ms/step - loss: 1.4738 - accuracy: 0.4465 - val_loss: 1.4342 - val_accuracy: 0.4519 - lr: 0.0010\n",
            "Epoch 38/80\n",
            "26/26 [==============================] - 3s 129ms/step - loss: 1.4486 - accuracy: 0.4590 - val_loss: 1.4573 - val_accuracy: 0.4384 - lr: 0.0010\n",
            "Epoch 39/80\n",
            "26/26 [==============================] - 3s 129ms/step - loss: 1.4566 - accuracy: 0.4469 - val_loss: 1.4488 - val_accuracy: 0.4444 - lr: 0.0010\n",
            "Epoch 40/80\n",
            "26/26 [==============================] - 3s 126ms/step - loss: 1.4391 - accuracy: 0.4593 - val_loss: 1.4011 - val_accuracy: 0.4721 - lr: 0.0010\n",
            "Epoch 41/80\n",
            "26/26 [==============================] - 3s 128ms/step - loss: 1.4267 - accuracy: 0.4603 - val_loss: 1.5042 - val_accuracy: 0.4281 - lr: 0.0010\n",
            "Epoch 42/80\n",
            "26/26 [==============================] - 3s 127ms/step - loss: 1.4247 - accuracy: 0.4643 - val_loss: 1.4056 - val_accuracy: 0.4607 - lr: 0.0010\n",
            "Epoch 43/80\n",
            "26/26 [==============================] - 3s 131ms/step - loss: 1.4035 - accuracy: 0.4695 - val_loss: 1.5167 - val_accuracy: 0.4522 - lr: 0.0010\n",
            "Epoch 44/80\n",
            "26/26 [==============================] - 3s 130ms/step - loss: 1.3939 - accuracy: 0.4759 - val_loss: 1.4010 - val_accuracy: 0.4650 - lr: 0.0010\n",
            "Epoch 45/80\n",
            "26/26 [==============================] - 3s 126ms/step - loss: 1.3883 - accuracy: 0.4754 - val_loss: 1.3882 - val_accuracy: 0.4863 - lr: 0.0010\n",
            "Epoch 46/80\n",
            "26/26 [==============================] - 3s 132ms/step - loss: 1.3722 - accuracy: 0.4896 - val_loss: 1.4002 - val_accuracy: 0.4750 - lr: 0.0010\n",
            "Epoch 47/80\n",
            "26/26 [==============================] - 3s 127ms/step - loss: 1.3609 - accuracy: 0.4893 - val_loss: 1.3651 - val_accuracy: 0.4810 - lr: 0.0010\n",
            "Epoch 48/80\n",
            "26/26 [==============================] - 3s 122ms/step - loss: 1.3506 - accuracy: 0.4917 - val_loss: 1.3284 - val_accuracy: 0.4988 - lr: 0.0010\n",
            "Epoch 49/80\n",
            "26/26 [==============================] - 3s 130ms/step - loss: 1.3411 - accuracy: 0.5054 - val_loss: 1.3532 - val_accuracy: 0.5041 - lr: 0.0010\n",
            "Epoch 50/80\n",
            "26/26 [==============================] - 3s 126ms/step - loss: 1.3411 - accuracy: 0.5013 - val_loss: 1.3186 - val_accuracy: 0.4927 - lr: 0.0010\n",
            "Epoch 51/80\n",
            "26/26 [==============================] - 3s 129ms/step - loss: 1.3215 - accuracy: 0.5075 - val_loss: 1.3307 - val_accuracy: 0.4977 - lr: 0.0010\n",
            "Epoch 52/80\n",
            "26/26 [==============================] - 3s 127ms/step - loss: 1.3041 - accuracy: 0.5101 - val_loss: 1.3479 - val_accuracy: 0.5002 - lr: 0.0010\n",
            "Epoch 53/80\n",
            "26/26 [==============================] - 3s 129ms/step - loss: 1.2935 - accuracy: 0.5153 - val_loss: 1.3620 - val_accuracy: 0.4906 - lr: 0.0010\n",
            "Epoch 54/80\n",
            "26/26 [==============================] - 3s 127ms/step - loss: 1.2956 - accuracy: 0.5214 - val_loss: 1.2844 - val_accuracy: 0.5162 - lr: 0.0010\n",
            "Epoch 55/80\n",
            "26/26 [==============================] - 3s 125ms/step - loss: 1.2739 - accuracy: 0.5305 - val_loss: 1.2760 - val_accuracy: 0.5222 - lr: 0.0010\n",
            "Epoch 56/80\n",
            "26/26 [==============================] - 3s 125ms/step - loss: 1.2587 - accuracy: 0.5357 - val_loss: 1.3013 - val_accuracy: 0.5211 - lr: 0.0010\n",
            "Epoch 57/80\n",
            "26/26 [==============================] - 3s 127ms/step - loss: 1.2484 - accuracy: 0.5410 - val_loss: 1.2637 - val_accuracy: 0.5357 - lr: 0.0010\n",
            "Epoch 58/80\n",
            "26/26 [==============================] - 3s 127ms/step - loss: 1.2368 - accuracy: 0.5394 - val_loss: 1.3369 - val_accuracy: 0.5027 - lr: 0.0010\n",
            "Epoch 59/80\n",
            "26/26 [==============================] - 3s 126ms/step - loss: 1.2283 - accuracy: 0.5471 - val_loss: 1.2567 - val_accuracy: 0.5233 - lr: 0.0010\n",
            "Epoch 60/80\n",
            "26/26 [==============================] - 3s 129ms/step - loss: 1.2130 - accuracy: 0.5508 - val_loss: 1.2747 - val_accuracy: 0.5318 - lr: 0.0010\n",
            "Epoch 61/80\n",
            "26/26 [==============================] - 3s 127ms/step - loss: 1.2170 - accuracy: 0.5494 - val_loss: 1.2347 - val_accuracy: 0.5382 - lr: 0.0010\n",
            "Epoch 62/80\n",
            "26/26 [==============================] - 3s 129ms/step - loss: 1.2113 - accuracy: 0.5459 - val_loss: 1.2566 - val_accuracy: 0.5307 - lr: 0.0010\n",
            "Epoch 63/80\n",
            "26/26 [==============================] - 3s 131ms/step - loss: 1.2054 - accuracy: 0.5526 - val_loss: 1.2971 - val_accuracy: 0.5286 - lr: 0.0010\n",
            "Epoch 64/80\n",
            "26/26 [==============================] - 3s 132ms/step - loss: 1.1882 - accuracy: 0.5614 - val_loss: 1.2340 - val_accuracy: 0.5407 - lr: 0.0010\n",
            "Epoch 65/80\n",
            "26/26 [==============================] - 3s 130ms/step - loss: 1.1745 - accuracy: 0.5712 - val_loss: 1.2449 - val_accuracy: 0.5382 - lr: 0.0010\n",
            "Epoch 66/80\n",
            "26/26 [==============================] - 3s 133ms/step - loss: 1.1748 - accuracy: 0.5582 - val_loss: 1.2614 - val_accuracy: 0.5258 - lr: 0.0010\n",
            "Epoch 67/80\n",
            "26/26 [==============================] - 3s 125ms/step - loss: 1.1593 - accuracy: 0.5701 - val_loss: 1.2323 - val_accuracy: 0.5446 - lr: 0.0010\n",
            "Epoch 68/80\n",
            "26/26 [==============================] - 3s 129ms/step - loss: 1.1546 - accuracy: 0.5706 - val_loss: 1.2755 - val_accuracy: 0.5417 - lr: 0.0010\n",
            "Epoch 69/80\n",
            "26/26 [==============================] - 3s 127ms/step - loss: 1.1612 - accuracy: 0.5814 - val_loss: 1.3012 - val_accuracy: 0.5350 - lr: 0.0010\n",
            "Epoch 70/80\n",
            "26/26 [==============================] - 3s 130ms/step - loss: 1.1426 - accuracy: 0.5767 - val_loss: 1.2249 - val_accuracy: 0.5361 - lr: 0.0010\n",
            "Epoch 71/80\n",
            "26/26 [==============================] - 3s 135ms/step - loss: 1.1401 - accuracy: 0.5762 - val_loss: 1.2390 - val_accuracy: 0.5371 - lr: 0.0010\n",
            "Epoch 72/80\n",
            "26/26 [==============================] - 3s 129ms/step - loss: 1.1270 - accuracy: 0.5843 - val_loss: 1.2474 - val_accuracy: 0.5488 - lr: 0.0010\n",
            "Epoch 73/80\n",
            "26/26 [==============================] - 3s 128ms/step - loss: 1.1275 - accuracy: 0.5872 - val_loss: 1.2023 - val_accuracy: 0.5520 - lr: 0.0010\n",
            "Epoch 74/80\n",
            "26/26 [==============================] - 3s 127ms/step - loss: 1.1115 - accuracy: 0.5908 - val_loss: 1.2083 - val_accuracy: 0.5499 - lr: 0.0010\n",
            "Epoch 75/80\n",
            "26/26 [==============================] - 3s 122ms/step - loss: 1.1153 - accuracy: 0.5936 - val_loss: 1.2449 - val_accuracy: 0.5506 - lr: 0.0010\n",
            "Epoch 76/80\n",
            "26/26 [==============================] - 3s 128ms/step - loss: 1.1251 - accuracy: 0.5860 - val_loss: 1.1990 - val_accuracy: 0.5517 - lr: 0.0010\n",
            "Epoch 77/80\n",
            "26/26 [==============================] - 3s 130ms/step - loss: 1.0916 - accuracy: 0.5940 - val_loss: 1.2152 - val_accuracy: 0.5467 - lr: 0.0010\n",
            "Epoch 78/80\n",
            "26/26 [==============================] - 3s 127ms/step - loss: 1.0891 - accuracy: 0.5965 - val_loss: 1.2036 - val_accuracy: 0.5623 - lr: 0.0010\n",
            "Epoch 79/80\n",
            "26/26 [==============================] - 3s 129ms/step - loss: 1.0663 - accuracy: 0.6067 - val_loss: 1.1934 - val_accuracy: 0.5528 - lr: 0.0010\n",
            "Epoch 80/80\n",
            "26/26 [==============================] - 3s 124ms/step - loss: 1.0774 - accuracy: 0.6051 - val_loss: 1.1989 - val_accuracy: 0.5602 - lr: 0.0010\n"
          ]
        }
      ],
      "source": [
        "history = model.fit(fps_x_train, y_train, epochs=80, batch_size=256, callbacks=callbacks, \n",
        "                        validation_split = 0.3) "
      ]
    },
    {
      "cell_type": "code",
      "execution_count": 87,
      "id": "UBM1UTVMnCCz",
      "metadata": {
        "id": "UBM1UTVMnCCz"
      },
      "outputs": [],
      "source": [
        "tensorflow.keras.backend.clear_session()"
      ]
    },
    {
      "cell_type": "code",
      "execution_count": 88,
      "id": "unzDaJHjnVhe",
      "metadata": {
        "id": "unzDaJHjnVhe"
      },
      "outputs": [
        {
          "name": "stdout",
          "output_type": "stream",
          "text": [
            "Training Accuracy:  0.4510716464370489\n",
            "Validation Accuracy:  0.41952486615628004\n",
            "Training Loss:  1.4553202450275422\n",
            "Validation Loss:  1.5087681859731674\n"
          ]
        }
      ],
      "source": [
        "print('Training Accuracy: ', np.mean(history.history['accuracy']))\n",
        "print('Validation Accuracy: ', np.mean(history.history['val_accuracy']))\n",
        "print('Training Loss: ', np.mean(history.history['loss']))\n",
        "print('Validation Loss: ', np.mean(history.history['val_loss']))"
      ]
    },
    {
      "cell_type": "code",
      "execution_count": 89,
      "id": "rdvQNkRUnVre",
      "metadata": {
        "id": "rdvQNkRUnVre"
      },
      "outputs": [
        {
          "data": {
            "image/png": "[encoded data removed]",
            "text/plain": [
              "<Figure size 432x288 with 1 Axes>"
            ]
          },
          "metadata": {
            "needs_background": "light"
          },
          "output_type": "display_data"
        },
        {
          "data": {
            "image/png": "[encoded data removed]",
            "text/plain": [
              "<Figure size 432x288 with 1 Axes>"
            ]
          },
          "metadata": {
            "needs_background": "light"
          },
          "output_type": "display_data"
        },
        {
          "data": {
            "text/plain": [
              "<Figure size 432x288 with 0 Axes>"
            ]
          },
          "metadata": {},
          "output_type": "display_data"
        }
      ],
      "source": [
        "plot_summary_accuracy(model)\n",
        "plot_summary_loss(model)"
      ]
    },
    {
      "cell_type": "code",
      "execution_count": 90,
      "id": "nGodegONnV1x",
      "metadata": {
        "id": "nGodegONnV1x"
      },
      "outputs": [
        {
          "name": "stdout",
          "output_type": "stream",
          "text": [
            "126/126 [==============================] - 2s 12ms/step\n"
          ]
        },
        {
          "data": {
            "text/plain": [
              "{'Accuracy': 0.5529587270014918,\n",
              " 'MCC': 0.47825784218988676,\n",
              " 'precision': 0.5572879772427533,\n",
              " 'recall': 0.5529587270014918}"
            ]
          },
          "execution_count": 90,
          "metadata": {},
          "output_type": "execute_result"
        }
      ],
      "source": [
        "scores, cm2 = model_evaluate_multi(X_test=fps_x_test, y_test=y_test, model=model)\n",
        "scores"
      ]
    },
    {
      "cell_type": "code",
      "execution_count": 91,
      "id": "14GuXFJ2nWA7",
      "metadata": {
        "id": "14GuXFJ2nWA7"
      },
      "outputs": [
        {
          "data": {
            "text/html": [
              "<div>\n",
              "<style scoped>\n",
              "    .dataframe tbody tr th:only-of-type {\n",
              "        vertical-align: middle;\n",
              "    }\n",
              "\n",
              "    .dataframe tbody tr th {\n",
              "        vertical-align: top;\n",
              "    }\n",
              "\n",
              "    .dataframe thead th {\n",
              "        text-align: right;\n",
              "    }\n",
              "</style>\n",
              "<table border=\"1\" class=\"dataframe\">\n",
              "  <thead>\n",
              "    <tr style=\"text-align: right;\">\n",
              "      <th></th>\n",
              "      <th>0</th>\n",
              "      <th>1</th>\n",
              "      <th>2</th>\n",
              "      <th>3</th>\n",
              "      <th>4</th>\n",
              "      <th>5</th>\n",
              "      <th>6</th>\n",
              "      <th>7</th>\n",
              "      <th>8</th>\n",
              "      <th>9</th>\n",
              "      <th>...</th>\n",
              "      <th>11</th>\n",
              "      <th>12</th>\n",
              "      <th>13</th>\n",
              "      <th>14</th>\n",
              "      <th>15</th>\n",
              "      <th>16</th>\n",
              "      <th>17</th>\n",
              "      <th>18</th>\n",
              "      <th>19</th>\n",
              "      <th>20</th>\n",
              "    </tr>\n",
              "  </thead>\n",
              "  <tbody>\n",
              "    <tr>\n",
              "      <th>0</th>\n",
              "      <td>0.053338</td>\n",
              "      <td>0.033929</td>\n",
              "      <td>0.051067</td>\n",
              "      <td>0.123381</td>\n",
              "      <td>-0.179913</td>\n",
              "      <td>-0.022127</td>\n",
              "      <td>0.040525</td>\n",
              "      <td>0.070944</td>\n",
              "      <td>-0.101606</td>\n",
              "      <td>0.148907</td>\n",
              "      <td>...</td>\n",
              "      <td>0.005309</td>\n",
              "      <td>-0.031794</td>\n",
              "      <td>-0.163214</td>\n",
              "      <td>0.032918</td>\n",
              "      <td>-0.020311</td>\n",
              "      <td>0.197460</td>\n",
              "      <td>-0.122145</td>\n",
              "      <td>-0.015890</td>\n",
              "      <td>-0.003518</td>\n",
              "      <td>-0.058587</td>\n",
              "    </tr>\n",
              "    <tr>\n",
              "      <th>1</th>\n",
              "      <td>-0.031193</td>\n",
              "      <td>0.025194</td>\n",
              "      <td>-0.055595</td>\n",
              "      <td>-0.129727</td>\n",
              "      <td>-0.038532</td>\n",
              "      <td>0.051218</td>\n",
              "      <td>-0.155196</td>\n",
              "      <td>-0.053563</td>\n",
              "      <td>-0.098224</td>\n",
              "      <td>0.041865</td>\n",
              "      <td>...</td>\n",
              "      <td>0.027835</td>\n",
              "      <td>-0.162362</td>\n",
              "      <td>0.130632</td>\n",
              "      <td>-0.060416</td>\n",
              "      <td>-0.003061</td>\n",
              "      <td>-0.060421</td>\n",
              "      <td>-0.008719</td>\n",
              "      <td>-0.009680</td>\n",
              "      <td>-0.078060</td>\n",
              "      <td>-0.071187</td>\n",
              "    </tr>\n",
              "    <tr>\n",
              "      <th>2</th>\n",
              "      <td>0.184078</td>\n",
              "      <td>0.046660</td>\n",
              "      <td>0.056890</td>\n",
              "      <td>0.139943</td>\n",
              "      <td>-0.268463</td>\n",
              "      <td>-0.001925</td>\n",
              "      <td>0.128390</td>\n",
              "      <td>-0.009626</td>\n",
              "      <td>-0.034221</td>\n",
              "      <td>-0.003024</td>\n",
              "      <td>...</td>\n",
              "      <td>-0.025423</td>\n",
              "      <td>0.199758</td>\n",
              "      <td>0.044745</td>\n",
              "      <td>0.133079</td>\n",
              "      <td>-0.156057</td>\n",
              "      <td>-0.018976</td>\n",
              "      <td>-0.139561</td>\n",
              "      <td>-0.010300</td>\n",
              "      <td>-0.006795</td>\n",
              "      <td>0.108578</td>\n",
              "    </tr>\n",
              "    <tr>\n",
              "      <th>3</th>\n",
              "      <td>0.034416</td>\n",
              "      <td>-0.168607</td>\n",
              "      <td>-0.081654</td>\n",
              "      <td>-0.059166</td>\n",
              "      <td>-0.197936</td>\n",
              "      <td>0.033481</td>\n",
              "      <td>0.023545</td>\n",
              "      <td>-0.139698</td>\n",
              "      <td>0.057456</td>\n",
              "      <td>-0.066464</td>\n",
              "      <td>...</td>\n",
              "      <td>-0.011697</td>\n",
              "      <td>0.145281</td>\n",
              "      <td>-0.043916</td>\n",
              "      <td>-0.057001</td>\n",
              "      <td>0.223965</td>\n",
              "      <td>-0.000208</td>\n",
              "      <td>-0.164304</td>\n",
              "      <td>-0.050187</td>\n",
              "      <td>-0.101795</td>\n",
              "      <td>-0.183372</td>\n",
              "    </tr>\n",
              "    <tr>\n",
              "      <th>4</th>\n",
              "      <td>0.167268</td>\n",
              "      <td>-0.141584</td>\n",
              "      <td>0.173748</td>\n",
              "      <td>0.069648</td>\n",
              "      <td>0.187995</td>\n",
              "      <td>0.074373</td>\n",
              "      <td>-0.061871</td>\n",
              "      <td>-0.077004</td>\n",
              "      <td>0.131392</td>\n",
              "      <td>0.121225</td>\n",
              "      <td>...</td>\n",
              "      <td>-0.036032</td>\n",
              "      <td>0.065705</td>\n",
              "      <td>0.137448</td>\n",
              "      <td>0.140464</td>\n",
              "      <td>0.095710</td>\n",
              "      <td>0.286364</td>\n",
              "      <td>0.106453</td>\n",
              "      <td>0.052625</td>\n",
              "      <td>-0.087874</td>\n",
              "      <td>-0.097590</td>\n",
              "    </tr>\n",
              "    <tr>\n",
              "      <th>5</th>\n",
              "      <td>-0.043721</td>\n",
              "      <td>0.019643</td>\n",
              "      <td>-0.194043</td>\n",
              "      <td>0.079527</td>\n",
              "      <td>-0.027359</td>\n",
              "      <td>-0.138296</td>\n",
              "      <td>-0.072674</td>\n",
              "      <td>-0.229619</td>\n",
              "      <td>0.172968</td>\n",
              "      <td>0.041026</td>\n",
              "      <td>...</td>\n",
              "      <td>-0.061804</td>\n",
              "      <td>0.253975</td>\n",
              "      <td>-0.098145</td>\n",
              "      <td>-0.290245</td>\n",
              "      <td>0.036026</td>\n",
              "      <td>-0.012117</td>\n",
              "      <td>0.002151</td>\n",
              "      <td>-0.295388</td>\n",
              "      <td>-0.126162</td>\n",
              "      <td>0.133925</td>\n",
              "    </tr>\n",
              "    <tr>\n",
              "      <th>6</th>\n",
              "      <td>0.089018</td>\n",
              "      <td>-0.069543</td>\n",
              "      <td>0.103571</td>\n",
              "      <td>-0.139709</td>\n",
              "      <td>0.090579</td>\n",
              "      <td>-0.165302</td>\n",
              "      <td>0.000211</td>\n",
              "      <td>0.128535</td>\n",
              "      <td>0.148575</td>\n",
              "      <td>0.159911</td>\n",
              "      <td>...</td>\n",
              "      <td>-0.157913</td>\n",
              "      <td>0.113081</td>\n",
              "      <td>0.104805</td>\n",
              "      <td>0.072172</td>\n",
              "      <td>-0.046198</td>\n",
              "      <td>0.017379</td>\n",
              "      <td>-0.027872</td>\n",
              "      <td>0.071620</td>\n",
              "      <td>-0.066978</td>\n",
              "      <td>-0.114861</td>\n",
              "    </tr>\n",
              "    <tr>\n",
              "      <th>7</th>\n",
              "      <td>0.022229</td>\n",
              "      <td>-0.073848</td>\n",
              "      <td>-0.123894</td>\n",
              "      <td>-0.048409</td>\n",
              "      <td>-0.033267</td>\n",
              "      <td>-0.034319</td>\n",
              "      <td>0.158264</td>\n",
              "      <td>-0.178237</td>\n",
              "      <td>-0.054480</td>\n",
              "      <td>0.149062</td>\n",
              "      <td>...</td>\n",
              "      <td>-0.046081</td>\n",
              "      <td>0.003660</td>\n",
              "      <td>0.163867</td>\n",
              "      <td>0.015188</td>\n",
              "      <td>-0.186401</td>\n",
              "      <td>0.053432</td>\n",
              "      <td>-0.022532</td>\n",
              "      <td>0.063156</td>\n",
              "      <td>-0.086029</td>\n",
              "      <td>-0.082179</td>\n",
              "    </tr>\n",
              "    <tr>\n",
              "      <th>8</th>\n",
              "      <td>-0.041188</td>\n",
              "      <td>0.064167</td>\n",
              "      <td>0.007031</td>\n",
              "      <td>0.159053</td>\n",
              "      <td>-0.029425</td>\n",
              "      <td>-0.083283</td>\n",
              "      <td>0.005326</td>\n",
              "      <td>-0.053031</td>\n",
              "      <td>0.096000</td>\n",
              "      <td>-0.069708</td>\n",
              "      <td>...</td>\n",
              "      <td>-0.050599</td>\n",
              "      <td>-0.156960</td>\n",
              "      <td>-0.023855</td>\n",
              "      <td>0.019256</td>\n",
              "      <td>-0.011443</td>\n",
              "      <td>-0.191847</td>\n",
              "      <td>-0.154204</td>\n",
              "      <td>0.033415</td>\n",
              "      <td>-0.056157</td>\n",
              "      <td>0.287040</td>\n",
              "    </tr>\n",
              "    <tr>\n",
              "      <th>9</th>\n",
              "      <td>-0.002601</td>\n",
              "      <td>-0.156841</td>\n",
              "      <td>0.057662</td>\n",
              "      <td>0.067471</td>\n",
              "      <td>0.254234</td>\n",
              "      <td>-0.122196</td>\n",
              "      <td>0.026910</td>\n",
              "      <td>0.071591</td>\n",
              "      <td>0.037374</td>\n",
              "      <td>-0.186945</td>\n",
              "      <td>...</td>\n",
              "      <td>0.108943</td>\n",
              "      <td>0.243407</td>\n",
              "      <td>0.090909</td>\n",
              "      <td>0.007693</td>\n",
              "      <td>0.019642</td>\n",
              "      <td>-0.363039</td>\n",
              "      <td>0.054124</td>\n",
              "      <td>-0.085779</td>\n",
              "      <td>0.002862</td>\n",
              "      <td>-0.215660</td>\n",
              "    </tr>\n",
              "    <tr>\n",
              "      <th>10</th>\n",
              "      <td>-0.045063</td>\n",
              "      <td>0.224937</td>\n",
              "      <td>-0.030489</td>\n",
              "      <td>-0.016730</td>\n",
              "      <td>-0.056958</td>\n",
              "      <td>-0.032108</td>\n",
              "      <td>-0.101146</td>\n",
              "      <td>0.029755</td>\n",
              "      <td>0.098652</td>\n",
              "      <td>-0.004695</td>\n",
              "      <td>...</td>\n",
              "      <td>0.123818</td>\n",
              "      <td>0.051790</td>\n",
              "      <td>-0.064097</td>\n",
              "      <td>0.051875</td>\n",
              "      <td>0.082433</td>\n",
              "      <td>-0.038425</td>\n",
              "      <td>0.071639</td>\n",
              "      <td>0.143015</td>\n",
              "      <td>0.065844</td>\n",
              "      <td>-0.094589</td>\n",
              "    </tr>\n",
              "    <tr>\n",
              "      <th>11</th>\n",
              "      <td>-0.142626</td>\n",
              "      <td>0.046191</td>\n",
              "      <td>-0.007860</td>\n",
              "      <td>-0.113092</td>\n",
              "      <td>-0.148605</td>\n",
              "      <td>-0.043119</td>\n",
              "      <td>0.037974</td>\n",
              "      <td>0.140696</td>\n",
              "      <td>-0.046704</td>\n",
              "      <td>0.082184</td>\n",
              "      <td>...</td>\n",
              "      <td>0.132109</td>\n",
              "      <td>-0.117680</td>\n",
              "      <td>-0.067810</td>\n",
              "      <td>0.082417</td>\n",
              "      <td>0.071901</td>\n",
              "      <td>0.051054</td>\n",
              "      <td>0.047201</td>\n",
              "      <td>0.026038</td>\n",
              "      <td>0.106854</td>\n",
              "      <td>0.023854</td>\n",
              "    </tr>\n",
              "    <tr>\n",
              "      <th>12</th>\n",
              "      <td>0.139267</td>\n",
              "      <td>0.065492</td>\n",
              "      <td>-0.062077</td>\n",
              "      <td>-0.053901</td>\n",
              "      <td>-0.053898</td>\n",
              "      <td>0.216794</td>\n",
              "      <td>0.104051</td>\n",
              "      <td>0.180622</td>\n",
              "      <td>0.011738</td>\n",
              "      <td>-0.011465</td>\n",
              "      <td>...</td>\n",
              "      <td>-0.061835</td>\n",
              "      <td>-0.036107</td>\n",
              "      <td>0.115105</td>\n",
              "      <td>-0.019820</td>\n",
              "      <td>-0.113178</td>\n",
              "      <td>0.068681</td>\n",
              "      <td>0.082343</td>\n",
              "      <td>-0.107595</td>\n",
              "      <td>-0.009855</td>\n",
              "      <td>-0.018765</td>\n",
              "    </tr>\n",
              "    <tr>\n",
              "      <th>13</th>\n",
              "      <td>-0.066095</td>\n",
              "      <td>0.063591</td>\n",
              "      <td>-0.138277</td>\n",
              "      <td>0.093235</td>\n",
              "      <td>-0.021320</td>\n",
              "      <td>0.075251</td>\n",
              "      <td>-0.065729</td>\n",
              "      <td>0.191865</td>\n",
              "      <td>0.157533</td>\n",
              "      <td>-0.018353</td>\n",
              "      <td>...</td>\n",
              "      <td>0.098123</td>\n",
              "      <td>0.000631</td>\n",
              "      <td>-0.091153</td>\n",
              "      <td>0.163254</td>\n",
              "      <td>-0.196099</td>\n",
              "      <td>0.035955</td>\n",
              "      <td>0.122082</td>\n",
              "      <td>-0.071059</td>\n",
              "      <td>0.016565</td>\n",
              "      <td>0.029613</td>\n",
              "    </tr>\n",
              "    <tr>\n",
              "      <th>14</th>\n",
              "      <td>-0.113347</td>\n",
              "      <td>0.018683</td>\n",
              "      <td>0.083016</td>\n",
              "      <td>-0.026731</td>\n",
              "      <td>-0.019105</td>\n",
              "      <td>0.225071</td>\n",
              "      <td>-0.065259</td>\n",
              "      <td>-0.086610</td>\n",
              "      <td>-0.180319</td>\n",
              "      <td>-0.226735</td>\n",
              "      <td>...</td>\n",
              "      <td>-0.013915</td>\n",
              "      <td>0.173812</td>\n",
              "      <td>-0.107686</td>\n",
              "      <td>-0.010673</td>\n",
              "      <td>0.029249</td>\n",
              "      <td>0.073810</td>\n",
              "      <td>-0.010877</td>\n",
              "      <td>0.091929</td>\n",
              "      <td>0.074139</td>\n",
              "      <td>0.116658</td>\n",
              "    </tr>\n",
              "    <tr>\n",
              "      <th>15</th>\n",
              "      <td>-0.047980</td>\n",
              "      <td>-0.082733</td>\n",
              "      <td>0.132332</td>\n",
              "      <td>-0.070345</td>\n",
              "      <td>0.155449</td>\n",
              "      <td>-0.306893</td>\n",
              "      <td>0.109306</td>\n",
              "      <td>0.061771</td>\n",
              "      <td>-0.142170</td>\n",
              "      <td>-0.149123</td>\n",
              "      <td>...</td>\n",
              "      <td>-0.053818</td>\n",
              "      <td>0.041400</td>\n",
              "      <td>-0.088795</td>\n",
              "      <td>-0.044464</td>\n",
              "      <td>-0.311844</td>\n",
              "      <td>0.159299</td>\n",
              "      <td>-0.061152</td>\n",
              "      <td>-0.137374</td>\n",
              "      <td>0.129398</td>\n",
              "      <td>0.116467</td>\n",
              "    </tr>\n",
              "    <tr>\n",
              "      <th>16</th>\n",
              "      <td>0.058379</td>\n",
              "      <td>-0.060427</td>\n",
              "      <td>-0.049563</td>\n",
              "      <td>0.142980</td>\n",
              "      <td>0.118570</td>\n",
              "      <td>-0.042134</td>\n",
              "      <td>0.125827</td>\n",
              "      <td>-0.220906</td>\n",
              "      <td>-0.066442</td>\n",
              "      <td>0.021919</td>\n",
              "      <td>...</td>\n",
              "      <td>0.057784</td>\n",
              "      <td>-0.180139</td>\n",
              "      <td>-0.001939</td>\n",
              "      <td>-0.042065</td>\n",
              "      <td>0.005368</td>\n",
              "      <td>-0.033770</td>\n",
              "      <td>0.001956</td>\n",
              "      <td>0.048718</td>\n",
              "      <td>-0.091390</td>\n",
              "      <td>0.003994</td>\n",
              "    </tr>\n",
              "    <tr>\n",
              "      <th>17</th>\n",
              "      <td>0.003048</td>\n",
              "      <td>-0.039942</td>\n",
              "      <td>0.000715</td>\n",
              "      <td>0.136096</td>\n",
              "      <td>0.066997</td>\n",
              "      <td>0.049478</td>\n",
              "      <td>-0.093566</td>\n",
              "      <td>0.122431</td>\n",
              "      <td>-0.041210</td>\n",
              "      <td>0.006220</td>\n",
              "      <td>...</td>\n",
              "      <td>-0.112623</td>\n",
              "      <td>-0.003567</td>\n",
              "      <td>-0.331794</td>\n",
              "      <td>-0.100830</td>\n",
              "      <td>-0.083525</td>\n",
              "      <td>-0.120847</td>\n",
              "      <td>0.035483</td>\n",
              "      <td>0.020829</td>\n",
              "      <td>0.017739</td>\n",
              "      <td>-0.026310</td>\n",
              "    </tr>\n",
              "    <tr>\n",
              "      <th>18</th>\n",
              "      <td>0.103939</td>\n",
              "      <td>-0.020610</td>\n",
              "      <td>-0.099175</td>\n",
              "      <td>-0.065477</td>\n",
              "      <td>0.049907</td>\n",
              "      <td>0.390601</td>\n",
              "      <td>-0.072425</td>\n",
              "      <td>0.039140</td>\n",
              "      <td>0.036925</td>\n",
              "      <td>-0.066087</td>\n",
              "      <td>...</td>\n",
              "      <td>0.074665</td>\n",
              "      <td>-0.050612</td>\n",
              "      <td>0.065569</td>\n",
              "      <td>-0.066048</td>\n",
              "      <td>-0.041877</td>\n",
              "      <td>-0.065062</td>\n",
              "      <td>-0.327170</td>\n",
              "      <td>-0.254259</td>\n",
              "      <td>0.112147</td>\n",
              "      <td>0.156143</td>\n",
              "    </tr>\n",
              "    <tr>\n",
              "      <th>19</th>\n",
              "      <td>0.001917</td>\n",
              "      <td>-0.148037</td>\n",
              "      <td>0.216822</td>\n",
              "      <td>-0.293479</td>\n",
              "      <td>0.158072</td>\n",
              "      <td>0.068553</td>\n",
              "      <td>0.022258</td>\n",
              "      <td>-0.124277</td>\n",
              "      <td>-0.195547</td>\n",
              "      <td>0.032978</td>\n",
              "      <td>...</td>\n",
              "      <td>-0.044199</td>\n",
              "      <td>0.208908</td>\n",
              "      <td>0.017223</td>\n",
              "      <td>0.047656</td>\n",
              "      <td>0.109208</td>\n",
              "      <td>-0.022273</td>\n",
              "      <td>0.104079</td>\n",
              "      <td>-0.170788</td>\n",
              "      <td>0.147407</td>\n",
              "      <td>0.155956</td>\n",
              "    </tr>\n",
              "    <tr>\n",
              "      <th>20</th>\n",
              "      <td>-0.068783</td>\n",
              "      <td>0.096593</td>\n",
              "      <td>-0.034081</td>\n",
              "      <td>0.085320</td>\n",
              "      <td>-0.010535</td>\n",
              "      <td>0.012258</td>\n",
              "      <td>-0.063662</td>\n",
              "      <td>0.102525</td>\n",
              "      <td>0.007339</td>\n",
              "      <td>-0.087222</td>\n",
              "      <td>...</td>\n",
              "      <td>0.006733</td>\n",
              "      <td>-0.009580</td>\n",
              "      <td>-0.024988</td>\n",
              "      <td>0.010966</td>\n",
              "      <td>0.161350</td>\n",
              "      <td>0.048700</td>\n",
              "      <td>0.121194</td>\n",
              "      <td>0.151825</td>\n",
              "      <td>0.089945</td>\n",
              "      <td>-0.079379</td>\n",
              "    </tr>\n",
              "  </tbody>\n",
              "</table>\n",
              "<p>21 rows × 21 columns</p>\n",
              "</div>"
            ],
            "text/plain": [
              "          0         1         2         3         4         5         6   \\\n",
              "0   0.053338  0.033929  0.051067  0.123381 -0.179913 -0.022127  0.040525   \n",
              "1  -0.031193  0.025194 -0.055595 -0.129727 -0.038532  0.051218 -0.155196   \n",
              "2   0.184078  0.046660  0.056890  0.139943 -0.268463 -0.001925  0.128390   \n",
              "3   0.034416 -0.168607 -0.081654 -0.059166 -0.197936  0.033481  0.023545   \n",
              "4   0.167268 -0.141584  0.173748  0.069648  0.187995  0.074373 -0.061871   \n",
              "5  -0.043721  0.019643 -0.194043  0.079527 -0.027359 -0.138296 -0.072674   \n",
              "6   0.089018 -0.069543  0.103571 -0.139709  0.090579 -0.165302  0.000211   \n",
              "7   0.022229 -0.073848 -0.123894 -0.048409 -0.033267 -0.034319  0.158264   \n",
              "8  -0.041188  0.064167  0.007031  0.159053 -0.029425 -0.083283  0.005326   \n",
              "9  -0.002601 -0.156841  0.057662  0.067471  0.254234 -0.122196  0.026910   \n",
              "10 -0.045063  0.224937 -0.030489 -0.016730 -0.056958 -0.032108 -0.101146   \n",
              "11 -0.142626  0.046191 -0.007860 -0.113092 -0.148605 -0.043119  0.037974   \n",
              "12  0.139267  0.065492 -0.062077 -0.053901 -0.053898  0.216794  0.104051   \n",
              "13 -0.066095  0.063591 -0.138277  0.093235 -0.021320  0.075251 -0.065729   \n",
              "14 -0.113347  0.018683  0.083016 -0.026731 -0.019105  0.225071 -0.065259   \n",
              "15 -0.047980 -0.082733  0.132332 -0.070345  0.155449 -0.306893  0.109306   \n",
              "16  0.058379 -0.060427 -0.049563  0.142980  0.118570 -0.042134  0.125827   \n",
              "17  0.003048 -0.039942  0.000715  0.136096  0.066997  0.049478 -0.093566   \n",
              "18  0.103939 -0.020610 -0.099175 -0.065477  0.049907  0.390601 -0.072425   \n",
              "19  0.001917 -0.148037  0.216822 -0.293479  0.158072  0.068553  0.022258   \n",
              "20 -0.068783  0.096593 -0.034081  0.085320 -0.010535  0.012258 -0.063662   \n",
              "\n",
              "          7         8         9   ...        11        12        13        14  \\\n",
              "0   0.070944 -0.101606  0.148907  ...  0.005309 -0.031794 -0.163214  0.032918   \n",
              "1  -0.053563 -0.098224  0.041865  ...  0.027835 -0.162362  0.130632 -0.060416   \n",
              "2  -0.009626 -0.034221 -0.003024  ... -0.025423  0.199758  0.044745  0.133079   \n",
              "3  -0.139698  0.057456 -0.066464  ... -0.011697  0.145281 -0.043916 -0.057001   \n",
              "4  -0.077004  0.131392  0.121225  ... -0.036032  0.065705  0.137448  0.140464   \n",
              "5  -0.229619  0.172968  0.041026  ... -0.061804  0.253975 -0.098145 -0.290245   \n",
              "6   0.128535  0.148575  0.159911  ... -0.157913  0.113081  0.104805  0.072172   \n",
              "7  -0.178237 -0.054480  0.149062  ... -0.046081  0.003660  0.163867  0.015188   \n",
              "8  -0.053031  0.096000 -0.069708  ... -0.050599 -0.156960 -0.023855  0.019256   \n",
              "9   0.071591  0.037374 -0.186945  ...  0.108943  0.243407  0.090909  0.007693   \n",
              "10  0.029755  0.098652 -0.004695  ...  0.123818  0.051790 -0.064097  0.051875   \n",
              "11  0.140696 -0.046704  0.082184  ...  0.132109 -0.117680 -0.067810  0.082417   \n",
              "12  0.180622  0.011738 -0.011465  ... -0.061835 -0.036107  0.115105 -0.019820   \n",
              "13  0.191865  0.157533 -0.018353  ...  0.098123  0.000631 -0.091153  0.163254   \n",
              "14 -0.086610 -0.180319 -0.226735  ... -0.013915  0.173812 -0.107686 -0.010673   \n",
              "15  0.061771 -0.142170 -0.149123  ... -0.053818  0.041400 -0.088795 -0.044464   \n",
              "16 -0.220906 -0.066442  0.021919  ...  0.057784 -0.180139 -0.001939 -0.042065   \n",
              "17  0.122431 -0.041210  0.006220  ... -0.112623 -0.003567 -0.331794 -0.100830   \n",
              "18  0.039140  0.036925 -0.066087  ...  0.074665 -0.050612  0.065569 -0.066048   \n",
              "19 -0.124277 -0.195547  0.032978  ... -0.044199  0.208908  0.017223  0.047656   \n",
              "20  0.102525  0.007339 -0.087222  ...  0.006733 -0.009580 -0.024988  0.010966   \n",
              "\n",
              "          15        16        17        18        19        20  \n",
              "0  -0.020311  0.197460 -0.122145 -0.015890 -0.003518 -0.058587  \n",
              "1  -0.003061 -0.060421 -0.008719 -0.009680 -0.078060 -0.071187  \n",
              "2  -0.156057 -0.018976 -0.139561 -0.010300 -0.006795  0.108578  \n",
              "3   0.223965 -0.000208 -0.164304 -0.050187 -0.101795 -0.183372  \n",
              "4   0.095710  0.286364  0.106453  0.052625 -0.087874 -0.097590  \n",
              "5   0.036026 -0.012117  0.002151 -0.295388 -0.126162  0.133925  \n",
              "6  -0.046198  0.017379 -0.027872  0.071620 -0.066978 -0.114861  \n",
              "7  -0.186401  0.053432 -0.022532  0.063156 -0.086029 -0.082179  \n",
              "8  -0.011443 -0.191847 -0.154204  0.033415 -0.056157  0.287040  \n",
              "9   0.019642 -0.363039  0.054124 -0.085779  0.002862 -0.215660  \n",
              "10  0.082433 -0.038425  0.071639  0.143015  0.065844 -0.094589  \n",
              "11  0.071901  0.051054  0.047201  0.026038  0.106854  0.023854  \n",
              "12 -0.113178  0.068681  0.082343 -0.107595 -0.009855 -0.018765  \n",
              "13 -0.196099  0.035955  0.122082 -0.071059  0.016565  0.029613  \n",
              "14  0.029249  0.073810 -0.010877  0.091929  0.074139  0.116658  \n",
              "15 -0.311844  0.159299 -0.061152 -0.137374  0.129398  0.116467  \n",
              "16  0.005368 -0.033770  0.001956  0.048718 -0.091390  0.003994  \n",
              "17 -0.083525 -0.120847  0.035483  0.020829  0.017739 -0.026310  \n",
              "18 -0.041877 -0.065062 -0.327170 -0.254259  0.112147  0.156143  \n",
              "19  0.109208 -0.022273  0.104079 -0.170788  0.147407  0.155956  \n",
              "20  0.161350  0.048700  0.121194  0.151825  0.089945 -0.079379  \n",
              "\n",
              "[21 rows x 21 columns]"
            ]
          },
          "execution_count": 91,
          "metadata": {},
          "output_type": "execute_result"
        }
      ],
      "source": [
        "emb_wei_20 = pd.DataFrame(model.layers[0].get_weights()[0])\n",
        "emb_wei_20"
      ]
    },
    {
      "attachments": {},
      "cell_type": "markdown",
      "id": "907eaf80",
      "metadata": {},
      "source": [
        "## Graphics of embeddings"
      ]
    },
    {
      "cell_type": "code",
      "execution_count": 92,
      "id": "vZyRESJtnfLp",
      "metadata": {
        "id": "vZyRESJtnfLp"
      },
      "outputs": [],
      "source": [
        "hotencoded = {\n",
        "    'A': [1, 0, 0, 0, 0, 0, 0, 0, 0, 0, 0, 0, 0, 0, 0, 0, 0, 0, 0, 0, 0],\n",
        "    'R': [0, 1, 0, 0, 0, 0, 0, 0, 0, 0, 0, 0, 0, 0, 0, 0, 0, 0, 0, 0, 0],\n",
        "    'N': [0, 0, 1, 0, 0, 0, 0, 0, 0, 0, 0, 0, 0, 0, 0, 0, 0, 0, 0, 0, 0],\n",
        "    'D': [0, 0, 0, 1, 0, 0, 0, 0, 0, 0, 0, 0, 0, 0, 0, 0, 0, 0, 0, 0, 0],\n",
        "    'C': [0, 0, 0, 0, 1, 0, 0, 0, 0, 0, 0, 0, 0, 0, 0, 0, 0, 0, 0, 0, 0],\n",
        "    'Q': [0, 0, 0, 0, 0, 1, 0, 0, 0, 0, 0, 0, 0, 0, 0, 0, 0, 0, 0, 0, 0],\n",
        "    'E': [0, 0, 0, 0, 0, 0, 1, 0, 0, 0, 0, 0, 0, 0, 0, 0, 0, 0, 0, 0, 0],\n",
        "    'G': [0, 0, 0, 0, 0, 0, 0, 1, 0, 0, 0, 0, 0, 0, 0, 0, 0, 0, 0, 0, 0],\n",
        "    'H': [0, 0, 0, 0, 0, 0, 0, 0, 1, 0, 0, 0, 0, 0, 0, 0, 0, 0, 0, 0, 0],\n",
        "    'I': [0, 0, 0, 0, 0, 0, 0, 0, 0, 1, 0, 0, 0, 0, 0, 0, 0, 0, 0, 0, 0],\n",
        "    'L': [0, 0, 0, 0, 0, 0, 0, 0, 0, 0, 1, 0, 0, 0, 0, 0, 0, 0, 0, 0, 0],\n",
        "    'K': [0, 0, 0, 0, 0, 0, 0, 0, 0, 0, 0, 1, 0, 0, 0, 0, 0, 0, 0, 0, 0],\n",
        "    'M': [0, 0, 0, 0, 0, 0, 0, 0, 0, 0, 0, 0, 1, 0, 0, 0, 0, 0, 0, 0, 0],\n",
        "    'F': [0, 0, 0, 0, 0, 0, 0, 0, 0, 0, 0, 0, 0, 1, 0, 0, 0, 0, 0, 0, 0],\n",
        "    'P': [0, 0, 0, 0, 0, 0, 0, 0, 0, 0, 0, 0, 0, 0, 1, 0, 0, 0, 0, 0, 0],\n",
        "    'S': [0, 0, 0, 0, 0, 0, 0, 0, 0, 0, 0, 0, 0, 0, 0, 1, 0, 0, 0, 0, 0],\n",
        "    'T': [0, 0, 0, 0, 0, 0, 0, 0, 0, 0, 0, 0, 0, 0, 0, 0, 1, 0, 0, 0, 0],\n",
        "    'W': [0, 0, 0, 0, 0, 0, 0, 0, 0, 0, 0, 0, 0, 0, 0, 0, 0, 1, 0, 0, 0],\n",
        "    'Y': [0, 0, 0, 0, 0, 0, 0, 0, 0, 0, 0, 0, 0, 0, 0, 0, 0, 0, 1, 0, 0],\n",
        "    'V': [0, 0, 0, 0, 0, 0, 0, 0, 0, 0, 0, 0, 0, 0, 0, 0, 0, 0, 0, 1, 0],\n",
        "    'X': [0, 0, 0, 0, 0, 0, 0, 0, 0, 0, 0, 0, 0, 0, 0, 0, 0, 0, 0, 0, 1]\n",
        "}\n",
        "\n",
        "\n",
        "alphabet=\"XARNDCEQGHILKMFPSTWYV\"\n",
        "char_to_int = dict((c, i) for i, c in enumerate(alphabet))\n",
        "row_names = char_to_int.keys()\n",
        "\n",
        "emb_wei_5['alphabet'] = row_names\n",
        "emb_wei_5 = emb_wei_5.set_index('alphabet')\n",
        "\n",
        "emb_wei_20['alphabet'] = row_names\n",
        "emb_wei_20 = emb_wei_20.set_index('alphabet')"
      ]
    },
    {
      "attachments": {},
      "cell_type": "markdown",
      "id": "db804cc4",
      "metadata": {},
      "source": [
        "Calculate similarities between aminoacids"
      ]
    },
    {
      "cell_type": "code",
      "execution_count": 93,
      "id": "UgxSbjIknfUd",
      "metadata": {
        "id": "UgxSbjIknfUd"
      },
      "outputs": [],
      "source": [
        "from sklearn.metrics.pairwise import cosine_similarity\n",
        "import seaborn as sns\n",
        "\n",
        "b = pd.DataFrame.from_dict(blosum62, orient='index')\n",
        "z = pd.DataFrame.from_dict(zs, orient='index')\n",
        "h = pd.DataFrame.from_dict(hotencoded, orient='index')\n",
        "\n",
        "bcs=cosine_similarity(b)\n",
        "bcs=pd.DataFrame(bcs, index=blosum62.keys(), columns=blosum62.keys())\n",
        "\n",
        "zcs=cosine_similarity(z)\n",
        "zcs=pd.DataFrame(zcs, index=zs.keys(), columns=zs.keys())\n",
        "\n",
        "hcs=cosine_similarity(h)\n",
        "hcs=pd.DataFrame(hcs, index=hotencoded.keys(), columns=hotencoded.keys())\n",
        "\n",
        "e5cs = cosine_similarity(emb_wei_5)\n",
        "e5cs=pd.DataFrame(e5cs, index=row_names,columns=row_names)\n",
        "\n",
        "e20cs = cosine_similarity(emb_wei_20)\n",
        "e20cs=pd.DataFrame(e20cs, index=row_names,columns=row_names)\n"
      ]
    },
    {
      "attachments": {},
      "cell_type": "markdown",
      "id": "5fe8e634",
      "metadata": {},
      "source": [
        "Comparation and visualisation of similarities"
      ]
    },
    {
      "cell_type": "code",
      "execution_count": 94,
      "id": "mZC0IE3fnfbw",
      "metadata": {
        "id": "mZC0IE3fnfbw"
      },
      "outputs": [
        {
          "data": {
            "image/png": "[encoded data removed]",
            "text/plain": [
              "<Figure size 432x288 with 2 Axes>"
            ]
          },
          "metadata": {
            "needs_background": "light"
          },
          "output_type": "display_data"
        },
        {
          "data": {
            "image/png": "[encoded data removed]",
            "text/plain": [
              "<Figure size 432x288 with 2 Axes>"
            ]
          },
          "metadata": {
            "needs_background": "light"
          },
          "output_type": "display_data"
        },
        {
          "data": {
            "image/png": "[encoded data removed]",
            "text/plain": [
              "<Figure size 432x288 with 2 Axes>"
            ]
          },
          "metadata": {
            "needs_background": "light"
          },
          "output_type": "display_data"
        },
        {
          "data": {
            "image/png": "[encoded data removed]",
            "text/plain": [
              "<Figure size 432x288 with 2 Axes>"
            ]
          },
          "metadata": {
            "needs_background": "light"
          },
          "output_type": "display_data"
        },
        {
          "data": {
            "image/png": "[encoded data removed]",
            "text/plain": [
              "<Figure size 432x288 with 2 Axes>"
            ]
          },
          "metadata": {
            "needs_background": "light"
          },
          "output_type": "display_data"
        }
      ],
      "source": [
        "bu = sns.heatmap(bcs, xticklabels=blosum62.keys(), yticklabels=blosum62.keys())\n",
        "plt.title('cosine similarity blosum62')\n",
        "plt.show()\n",
        "\n",
        "zu = sns.heatmap(zcs, xticklabels=zs.keys(), yticklabels=zs.keys())\n",
        "plt.title('cosine similarity z scales')\n",
        "plt.show()\n",
        "\n",
        "hu = sns.heatmap(hcs, xticklabels=hotencoded.keys(), yticklabels=hotencoded.keys())\n",
        "plt.title('cosine similarity hot encoded')\n",
        "plt.show()\n",
        "\n",
        "\n",
        "e5u = sns.heatmap(e5cs, xticklabels=char_to_int.keys(), yticklabels=char_to_int.keys())\n",
        "plt.title('cosine similarity embedding 5 dim')\n",
        "plt.show()\n",
        "\n",
        "e20u = sns.heatmap(e20cs, xticklabels=char_to_int.keys(), yticklabels=char_to_int.keys())\n",
        "plt.title('cosine similarity embedding 20 dim')\n",
        "plt.show()"
      ]
    },
    {
      "attachments": {},
      "cell_type": "markdown",
      "id": "4e977b51",
      "metadata": {},
      "source": [
        "The white squares indicate more similarities. The blossum is a evolutionary property and the z scale shows the most similarities.\n",
        "The hotencoding shows no similarities between aa."
      ]
    }
  ],
  "metadata": {
    "colab": {
      "provenance": []
    },
    "kernelspec": {
      "display_name": "Python 3",
      "language": "python",
      "name": "python3"
    },
    "language_info": {
      "codemirror_mode": {
        "name": "ipython",
        "version": 3
      },
      "file_extension": ".py",
      "mimetype": "text/x-python",
      "name": "python",
      "nbconvert_exporter": "python",
      "pygments_lexer": "ipython3",
      "version": "3.10.2 (tags/v3.10.2:a58ebcc, Jan 17 2022, 14:12:15) [MSC v.1929 64 bit (AMD64)]"
    },
    "vscode": {
      "interpreter": {
        "hash": "27f6fea6f47ae512550f0b8facdbd035a93e1dd89633f7bf2dd00a2502c71d0d"
      }
    }
  },
  "nbformat": 4,
  "nbformat_minor": 5
}
